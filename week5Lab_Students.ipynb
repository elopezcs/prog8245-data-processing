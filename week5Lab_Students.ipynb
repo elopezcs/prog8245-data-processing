{
 "cells": [
  {
   "attachments": {},
   "cell_type": "markdown",
   "metadata": {},
   "source": [
    "# **Tidying**"
   ]
  },
  {
   "attachments": {},
   "cell_type": "markdown",
   "metadata": {},
   "source": [
    "Part of the data engineering process is data cleaning and tidying. What is done in those two processes, is trying to make the data more readable, and complete. This makes much easier to analyze, visualize, and train the data.\n"
   ]
  },
  {
   "attachments": {},
   "cell_type": "markdown",
   "metadata": {},
   "source": [
    "## **Data Tidying**\n",
    "\n",
    "Making the data more organized, and readable is the result of applying data tidying. \n",
    "\n",
    "In this section two main pandas functions are used in data tidying those are `melt` and `pivot_table`."
   ]
  },
  {
   "attachments": {},
   "cell_type": "markdown",
   "metadata": {},
   "source": [
    "Let's start by taking a look at the below dataframe, which represents the income ranges based on religion. This is part of the PEW research, which is famous in the US for conducting pollings and surveys on citizens.\n",
    "\n",
    "When the following are satisfied:\n",
    "\n",
    "\n",
    "1. Each variable forms a column\n",
    "2. Each observation forms a row\n",
    "3. Each type of observational unit forms a table\n",
    "\n",
    "We can then say that our dataset is *tidy*.\n",
    "\n",
    "First we need to import pandas to read csv datasets."
   ]
  },
  {
   "cell_type": "code",
   "execution_count": 1,
   "metadata": {},
   "outputs": [],
   "source": [
    "# %pip install numpy pandas"
   ]
  },
  {
   "cell_type": "code",
   "execution_count": 2,
   "metadata": {},
   "outputs": [],
   "source": [
    "# %pip install matplotlib seaborn"
   ]
  },
  {
   "cell_type": "code",
   "execution_count": 3,
   "metadata": {},
   "outputs": [
    {
     "name": "stdout",
     "output_type": "stream",
     "text": [
      "Requirement already satisfied: scikit-learn in c:\\aiml\\prog8245-ang\\week5_lab\\.venv\\lib\\site-packages (1.7.2)\n",
      "Requirement already satisfied: numpy>=1.22.0 in c:\\aiml\\prog8245-ang\\week5_lab\\.venv\\lib\\site-packages (from scikit-learn) (2.3.3)\n",
      "Requirement already satisfied: scipy>=1.8.0 in c:\\aiml\\prog8245-ang\\week5_lab\\.venv\\lib\\site-packages (from scikit-learn) (1.16.2)\n",
      "Requirement already satisfied: joblib>=1.2.0 in c:\\aiml\\prog8245-ang\\week5_lab\\.venv\\lib\\site-packages (from scikit-learn) (1.5.2)\n",
      "Requirement already satisfied: threadpoolctl>=3.1.0 in c:\\aiml\\prog8245-ang\\week5_lab\\.venv\\lib\\site-packages (from scikit-learn) (3.6.0)\n",
      "Note: you may need to restart the kernel to use updated packages.\n"
     ]
    }
   ],
   "source": [
    "%pip install scikit-learn"
   ]
  },
  {
   "cell_type": "code",
   "execution_count": 4,
   "metadata": {},
   "outputs": [],
   "source": [
    "import pandas as pd\n",
    "import numpy as np\n",
    "from IPython.display import display, Markdown, Latex\n"
   ]
  },
  {
   "attachments": {},
   "cell_type": "markdown",
   "metadata": {},
   "source": [
    "### **PEW Research Dataset**"
   ]
  },
  {
   "attachments": {},
   "cell_type": "markdown",
   "metadata": {},
   "source": [
    "1. Start by Importing the dataset into a pandas dataframe."
   ]
  },
  {
   "cell_type": "code",
   "execution_count": 5,
   "metadata": {},
   "outputs": [
    {
     "data": {
      "application/vnd.microsoft.datawrangler.viewer.v0+json": {
       "columns": [
        {
         "name": "index",
         "rawType": "object",
         "type": "string"
        },
        {
         "name": " <$10k",
         "rawType": "float64",
         "type": "float"
        },
        {
         "name": " $10-20k",
         "rawType": "float64",
         "type": "float"
        },
        {
         "name": "$20-30k",
         "rawType": "float64",
         "type": "float"
        },
        {
         "name": "$30-40k",
         "rawType": "float64",
         "type": "float"
        },
        {
         "name": " $40-50k",
         "rawType": "float64",
         "type": "float"
        },
        {
         "name": "$50-75k",
         "rawType": "float64",
         "type": "float"
        }
       ],
       "ref": "322ec795-5dfe-45d6-8e8a-68c94fa68fba",
       "rows": [
        [
         "count",
         "10.0",
         "10.0",
         "10.0",
         "10.0",
         "10.0",
         "10.0"
        ],
        [
         "mean",
         "134.2",
         "188.1",
         "223.0",
         "212.6",
         "193.2",
         "328.4"
        ],
        [
         "std",
         "205.43330899453585",
         "306.4606010566448",
         "370.23566068714183",
         "338.24783813056365",
         "308.83357618267115",
         "523.2647938132704"
        ],
        [
         "min",
         "1.0",
         "9.0",
         "7.0",
         "9.0",
         "10.0",
         "30.0"
        ],
        [
         "25%",
         "16.0",
         "19.5",
         "24.25",
         "24.25",
         "23.25",
         "40.75"
        ],
        [
         "50%",
         "23.5",
         "27.0",
         "33.5",
         "43.0",
         "34.0",
         "82.5"
        ],
        [
         "75%",
         "177.75",
         "191.5",
         "192.0",
         "198.75",
         "166.75",
         "201.5"
        ],
        [
         "max",
         "575.0",
         "869.0",
         "1064.0",
         "982.0",
         "881.0",
         "1486.0"
        ]
       ],
       "shape": {
        "columns": 6,
        "rows": 8
       }
      },
      "text/html": [
       "<div>\n",
       "<style scoped>\n",
       "    .dataframe tbody tr th:only-of-type {\n",
       "        vertical-align: middle;\n",
       "    }\n",
       "\n",
       "    .dataframe tbody tr th {\n",
       "        vertical-align: top;\n",
       "    }\n",
       "\n",
       "    .dataframe thead th {\n",
       "        text-align: right;\n",
       "    }\n",
       "</style>\n",
       "<table border=\"1\" class=\"dataframe\">\n",
       "  <thead>\n",
       "    <tr style=\"text-align: right;\">\n",
       "      <th></th>\n",
       "      <th>&lt;$10k</th>\n",
       "      <th>$10-20k</th>\n",
       "      <th>$20-30k</th>\n",
       "      <th>$30-40k</th>\n",
       "      <th>$40-50k</th>\n",
       "      <th>$50-75k</th>\n",
       "    </tr>\n",
       "  </thead>\n",
       "  <tbody>\n",
       "    <tr>\n",
       "      <th>count</th>\n",
       "      <td>10.000000</td>\n",
       "      <td>10.000000</td>\n",
       "      <td>10.000000</td>\n",
       "      <td>10.000000</td>\n",
       "      <td>10.000000</td>\n",
       "      <td>10.000000</td>\n",
       "    </tr>\n",
       "    <tr>\n",
       "      <th>mean</th>\n",
       "      <td>134.200000</td>\n",
       "      <td>188.100000</td>\n",
       "      <td>223.000000</td>\n",
       "      <td>212.600000</td>\n",
       "      <td>193.200000</td>\n",
       "      <td>328.400000</td>\n",
       "    </tr>\n",
       "    <tr>\n",
       "      <th>std</th>\n",
       "      <td>205.433309</td>\n",
       "      <td>306.460601</td>\n",
       "      <td>370.235661</td>\n",
       "      <td>338.247838</td>\n",
       "      <td>308.833576</td>\n",
       "      <td>523.264794</td>\n",
       "    </tr>\n",
       "    <tr>\n",
       "      <th>min</th>\n",
       "      <td>1.000000</td>\n",
       "      <td>9.000000</td>\n",
       "      <td>7.000000</td>\n",
       "      <td>9.000000</td>\n",
       "      <td>10.000000</td>\n",
       "      <td>30.000000</td>\n",
       "    </tr>\n",
       "    <tr>\n",
       "      <th>25%</th>\n",
       "      <td>16.000000</td>\n",
       "      <td>19.500000</td>\n",
       "      <td>24.250000</td>\n",
       "      <td>24.250000</td>\n",
       "      <td>23.250000</td>\n",
       "      <td>40.750000</td>\n",
       "    </tr>\n",
       "    <tr>\n",
       "      <th>50%</th>\n",
       "      <td>23.500000</td>\n",
       "      <td>27.000000</td>\n",
       "      <td>33.500000</td>\n",
       "      <td>43.000000</td>\n",
       "      <td>34.000000</td>\n",
       "      <td>82.500000</td>\n",
       "    </tr>\n",
       "    <tr>\n",
       "      <th>75%</th>\n",
       "      <td>177.750000</td>\n",
       "      <td>191.500000</td>\n",
       "      <td>192.000000</td>\n",
       "      <td>198.750000</td>\n",
       "      <td>166.750000</td>\n",
       "      <td>201.500000</td>\n",
       "    </tr>\n",
       "    <tr>\n",
       "      <th>max</th>\n",
       "      <td>575.000000</td>\n",
       "      <td>869.000000</td>\n",
       "      <td>1064.000000</td>\n",
       "      <td>982.000000</td>\n",
       "      <td>881.000000</td>\n",
       "      <td>1486.000000</td>\n",
       "    </tr>\n",
       "  </tbody>\n",
       "</table>\n",
       "</div>"
      ],
      "text/plain": [
       "            <$10k     $10-20k      $20-30k     $30-40k     $40-50k  \\\n",
       "count   10.000000   10.000000    10.000000   10.000000   10.000000   \n",
       "mean   134.200000  188.100000   223.000000  212.600000  193.200000   \n",
       "std    205.433309  306.460601   370.235661  338.247838  308.833576   \n",
       "min      1.000000    9.000000     7.000000    9.000000   10.000000   \n",
       "25%     16.000000   19.500000    24.250000   24.250000   23.250000   \n",
       "50%     23.500000   27.000000    33.500000   43.000000   34.000000   \n",
       "75%    177.750000  191.500000   192.000000  198.750000  166.750000   \n",
       "max    575.000000  869.000000  1064.000000  982.000000  881.000000   \n",
       "\n",
       "           $50-75k  \n",
       "count    10.000000  \n",
       "mean    328.400000  \n",
       "std     523.264794  \n",
       "min      30.000000  \n",
       "25%      40.750000  \n",
       "50%      82.500000  \n",
       "75%     201.500000  \n",
       "max    1486.000000  "
      ]
     },
     "metadata": {},
     "output_type": "display_data"
    },
    {
     "data": {
      "application/vnd.microsoft.datawrangler.viewer.v0+json": {
       "columns": [
        {
         "name": "index",
         "rawType": "int64",
         "type": "integer"
        },
        {
         "name": "religion",
         "rawType": "object",
         "type": "string"
        },
        {
         "name": " <$10k",
         "rawType": "int64",
         "type": "integer"
        },
        {
         "name": " $10-20k",
         "rawType": "int64",
         "type": "integer"
        },
        {
         "name": "$20-30k",
         "rawType": "int64",
         "type": "integer"
        },
        {
         "name": "$30-40k",
         "rawType": "int64",
         "type": "integer"
        },
        {
         "name": " $40-50k",
         "rawType": "int64",
         "type": "integer"
        },
        {
         "name": "$50-75k",
         "rawType": "int64",
         "type": "integer"
        }
       ],
       "ref": "19bcea77-9c2e-4aaf-8ea0-6fc1538a878b",
       "rows": [
        [
         "0",
         "Agnostic",
         "27",
         "34",
         "60",
         "81",
         "76",
         "137"
        ],
        [
         "1",
         "Atheist",
         "12",
         "27",
         "37",
         "52",
         "35",
         "70"
        ],
        [
         "2",
         "Buddhist",
         "27",
         "21",
         "30",
         "34",
         "33",
         "58"
        ],
        [
         "3",
         "Catholic",
         "418",
         "617",
         "732",
         "670",
         "638",
         "1116"
        ],
        [
         "4",
         "Dont know/refused",
         "15",
         "14",
         "15",
         "11",
         "10",
         "35"
        ]
       ],
       "shape": {
        "columns": 7,
        "rows": 5
       }
      },
      "text/html": [
       "<div>\n",
       "<style scoped>\n",
       "    .dataframe tbody tr th:only-of-type {\n",
       "        vertical-align: middle;\n",
       "    }\n",
       "\n",
       "    .dataframe tbody tr th {\n",
       "        vertical-align: top;\n",
       "    }\n",
       "\n",
       "    .dataframe thead th {\n",
       "        text-align: right;\n",
       "    }\n",
       "</style>\n",
       "<table border=\"1\" class=\"dataframe\">\n",
       "  <thead>\n",
       "    <tr style=\"text-align: right;\">\n",
       "      <th></th>\n",
       "      <th>religion</th>\n",
       "      <th>&lt;$10k</th>\n",
       "      <th>$10-20k</th>\n",
       "      <th>$20-30k</th>\n",
       "      <th>$30-40k</th>\n",
       "      <th>$40-50k</th>\n",
       "      <th>$50-75k</th>\n",
       "    </tr>\n",
       "  </thead>\n",
       "  <tbody>\n",
       "    <tr>\n",
       "      <th>0</th>\n",
       "      <td>Agnostic</td>\n",
       "      <td>27</td>\n",
       "      <td>34</td>\n",
       "      <td>60</td>\n",
       "      <td>81</td>\n",
       "      <td>76</td>\n",
       "      <td>137</td>\n",
       "    </tr>\n",
       "    <tr>\n",
       "      <th>1</th>\n",
       "      <td>Atheist</td>\n",
       "      <td>12</td>\n",
       "      <td>27</td>\n",
       "      <td>37</td>\n",
       "      <td>52</td>\n",
       "      <td>35</td>\n",
       "      <td>70</td>\n",
       "    </tr>\n",
       "    <tr>\n",
       "      <th>2</th>\n",
       "      <td>Buddhist</td>\n",
       "      <td>27</td>\n",
       "      <td>21</td>\n",
       "      <td>30</td>\n",
       "      <td>34</td>\n",
       "      <td>33</td>\n",
       "      <td>58</td>\n",
       "    </tr>\n",
       "    <tr>\n",
       "      <th>3</th>\n",
       "      <td>Catholic</td>\n",
       "      <td>418</td>\n",
       "      <td>617</td>\n",
       "      <td>732</td>\n",
       "      <td>670</td>\n",
       "      <td>638</td>\n",
       "      <td>1116</td>\n",
       "    </tr>\n",
       "    <tr>\n",
       "      <th>4</th>\n",
       "      <td>Dont know/refused</td>\n",
       "      <td>15</td>\n",
       "      <td>14</td>\n",
       "      <td>15</td>\n",
       "      <td>11</td>\n",
       "      <td>10</td>\n",
       "      <td>35</td>\n",
       "    </tr>\n",
       "  </tbody>\n",
       "</table>\n",
       "</div>"
      ],
      "text/plain": [
       "            religion   <$10k   $10-20k  $20-30k  $30-40k   $40-50k  $50-75k\n",
       "0           Agnostic      27        34       60       81        76      137\n",
       "1            Atheist      12        27       37       52        35       70\n",
       "2           Buddhist      27        21       30       34        33       58\n",
       "3           Catholic     418       617      732      670       638     1116\n",
       "4  Dont know/refused      15        14       15       11        10       35"
      ]
     },
     "metadata": {},
     "output_type": "display_data"
    }
   ],
   "source": [
    "# load pew-raw.csv into a dataframe\n",
    "pew_raw_df = pd.read_csv('data/pew-raw.csv')\n",
    "display(pew_raw_df.describe())\n",
    "display(pew_raw_df.head())"
   ]
  },
  {
   "attachments": {},
   "cell_type": "markdown",
   "metadata": {},
   "source": [
    "2. Observe the dataset using the `loc`, `iloc`, `head`, or `tail` approaches"
   ]
  },
  {
   "cell_type": "code",
   "execution_count": 6,
   "metadata": {},
   "outputs": [
    {
     "data": {
      "application/vnd.microsoft.datawrangler.viewer.v0+json": {
       "columns": [
        {
         "name": "index",
         "rawType": "int64",
         "type": "integer"
        },
        {
         "name": "religion",
         "rawType": "object",
         "type": "string"
        }
       ],
       "ref": "a98d1910-bf97-4206-9a29-d4931ac85b86",
       "rows": [
        [
         "2",
         "Buddhist"
        ],
        [
         "3",
         "Catholic"
        ]
       ],
       "shape": {
        "columns": 1,
        "rows": 2
       }
      },
      "text/plain": [
       "2    Buddhist\n",
       "3    Catholic\n",
       "Name: religion, dtype: object"
      ]
     },
     "metadata": {},
     "output_type": "display_data"
    },
    {
     "data": {
      "application/vnd.microsoft.datawrangler.viewer.v0+json": {
       "columns": [
        {
         "name": "index",
         "rawType": "int64",
         "type": "integer"
        },
        {
         "name": "religion",
         "rawType": "object",
         "type": "string"
        }
       ],
       "ref": "3e43292e-c4ac-448a-9986-e142224d4854",
       "rows": [
        [
         "2",
         "Buddhist"
        ],
        [
         "3",
         "Catholic"
        ]
       ],
       "shape": {
        "columns": 1,
        "rows": 2
       }
      },
      "text/plain": [
       "2    Buddhist\n",
       "3    Catholic\n",
       "Name: religion, dtype: object"
      ]
     },
     "metadata": {},
     "output_type": "display_data"
    },
    {
     "data": {
      "application/vnd.microsoft.datawrangler.viewer.v0+json": {
       "columns": [
        {
         "name": "index",
         "rawType": "int64",
         "type": "integer"
        },
        {
         "name": "religion",
         "rawType": "object",
         "type": "string"
        },
        {
         "name": " <$10k",
         "rawType": "int64",
         "type": "integer"
        },
        {
         "name": " $10-20k",
         "rawType": "int64",
         "type": "integer"
        },
        {
         "name": "$20-30k",
         "rawType": "int64",
         "type": "integer"
        },
        {
         "name": "$30-40k",
         "rawType": "int64",
         "type": "integer"
        },
        {
         "name": " $40-50k",
         "rawType": "int64",
         "type": "integer"
        },
        {
         "name": "$50-75k",
         "rawType": "int64",
         "type": "integer"
        }
       ],
       "ref": "721d81cd-54e6-46b7-9ceb-5b233c745e35",
       "rows": [
        [
         "0",
         "Agnostic",
         "27",
         "34",
         "60",
         "81",
         "76",
         "137"
        ],
        [
         "1",
         "Atheist",
         "12",
         "27",
         "37",
         "52",
         "35",
         "70"
        ],
        [
         "2",
         "Buddhist",
         "27",
         "21",
         "30",
         "34",
         "33",
         "58"
        ],
        [
         "3",
         "Catholic",
         "418",
         "617",
         "732",
         "670",
         "638",
         "1116"
        ],
        [
         "4",
         "Dont know/refused",
         "15",
         "14",
         "15",
         "11",
         "10",
         "35"
        ]
       ],
       "shape": {
        "columns": 7,
        "rows": 5
       }
      },
      "text/html": [
       "<div>\n",
       "<style scoped>\n",
       "    .dataframe tbody tr th:only-of-type {\n",
       "        vertical-align: middle;\n",
       "    }\n",
       "\n",
       "    .dataframe tbody tr th {\n",
       "        vertical-align: top;\n",
       "    }\n",
       "\n",
       "    .dataframe thead th {\n",
       "        text-align: right;\n",
       "    }\n",
       "</style>\n",
       "<table border=\"1\" class=\"dataframe\">\n",
       "  <thead>\n",
       "    <tr style=\"text-align: right;\">\n",
       "      <th></th>\n",
       "      <th>religion</th>\n",
       "      <th>&lt;$10k</th>\n",
       "      <th>$10-20k</th>\n",
       "      <th>$20-30k</th>\n",
       "      <th>$30-40k</th>\n",
       "      <th>$40-50k</th>\n",
       "      <th>$50-75k</th>\n",
       "    </tr>\n",
       "  </thead>\n",
       "  <tbody>\n",
       "    <tr>\n",
       "      <th>0</th>\n",
       "      <td>Agnostic</td>\n",
       "      <td>27</td>\n",
       "      <td>34</td>\n",
       "      <td>60</td>\n",
       "      <td>81</td>\n",
       "      <td>76</td>\n",
       "      <td>137</td>\n",
       "    </tr>\n",
       "    <tr>\n",
       "      <th>1</th>\n",
       "      <td>Atheist</td>\n",
       "      <td>12</td>\n",
       "      <td>27</td>\n",
       "      <td>37</td>\n",
       "      <td>52</td>\n",
       "      <td>35</td>\n",
       "      <td>70</td>\n",
       "    </tr>\n",
       "    <tr>\n",
       "      <th>2</th>\n",
       "      <td>Buddhist</td>\n",
       "      <td>27</td>\n",
       "      <td>21</td>\n",
       "      <td>30</td>\n",
       "      <td>34</td>\n",
       "      <td>33</td>\n",
       "      <td>58</td>\n",
       "    </tr>\n",
       "    <tr>\n",
       "      <th>3</th>\n",
       "      <td>Catholic</td>\n",
       "      <td>418</td>\n",
       "      <td>617</td>\n",
       "      <td>732</td>\n",
       "      <td>670</td>\n",
       "      <td>638</td>\n",
       "      <td>1116</td>\n",
       "    </tr>\n",
       "    <tr>\n",
       "      <th>4</th>\n",
       "      <td>Dont know/refused</td>\n",
       "      <td>15</td>\n",
       "      <td>14</td>\n",
       "      <td>15</td>\n",
       "      <td>11</td>\n",
       "      <td>10</td>\n",
       "      <td>35</td>\n",
       "    </tr>\n",
       "  </tbody>\n",
       "</table>\n",
       "</div>"
      ],
      "text/plain": [
       "            religion   <$10k   $10-20k  $20-30k  $30-40k   $40-50k  $50-75k\n",
       "0           Agnostic      27        34       60       81        76      137\n",
       "1            Atheist      12        27       37       52        35       70\n",
       "2           Buddhist      27        21       30       34        33       58\n",
       "3           Catholic     418       617      732      670       638     1116\n",
       "4  Dont know/refused      15        14       15       11        10       35"
      ]
     },
     "metadata": {},
     "output_type": "display_data"
    },
    {
     "data": {
      "application/vnd.microsoft.datawrangler.viewer.v0+json": {
       "columns": [
        {
         "name": "index",
         "rawType": "int64",
         "type": "integer"
        },
        {
         "name": "religion",
         "rawType": "object",
         "type": "string"
        },
        {
         "name": " <$10k",
         "rawType": "int64",
         "type": "integer"
        },
        {
         "name": " $10-20k",
         "rawType": "int64",
         "type": "integer"
        },
        {
         "name": "$20-30k",
         "rawType": "int64",
         "type": "integer"
        },
        {
         "name": "$30-40k",
         "rawType": "int64",
         "type": "integer"
        },
        {
         "name": " $40-50k",
         "rawType": "int64",
         "type": "integer"
        },
        {
         "name": "$50-75k",
         "rawType": "int64",
         "type": "integer"
        }
       ],
       "ref": "947ce422-ee04-4e84-a905-3d0e99b69bc7",
       "rows": [
        [
         "5",
         "Evangelical Prot ",
         "575",
         "869",
         "1064",
         "982",
         "881",
         "1486"
        ],
        [
         "6",
         "Hindu ",
         "1",
         "9",
         "7",
         "9",
         "11",
         "34"
        ],
        [
         "7",
         "Historically Black Prot ",
         "228",
         "244",
         "236",
         "238",
         "197",
         "223"
        ],
        [
         "8",
         "Jehovahs Witness ",
         "20",
         "27",
         "24",
         "24",
         "21",
         "30"
        ],
        [
         "9",
         "Jewish ",
         "19",
         "19",
         "25",
         "25",
         "30",
         "95"
        ]
       ],
       "shape": {
        "columns": 7,
        "rows": 5
       }
      },
      "text/html": [
       "<div>\n",
       "<style scoped>\n",
       "    .dataframe tbody tr th:only-of-type {\n",
       "        vertical-align: middle;\n",
       "    }\n",
       "\n",
       "    .dataframe tbody tr th {\n",
       "        vertical-align: top;\n",
       "    }\n",
       "\n",
       "    .dataframe thead th {\n",
       "        text-align: right;\n",
       "    }\n",
       "</style>\n",
       "<table border=\"1\" class=\"dataframe\">\n",
       "  <thead>\n",
       "    <tr style=\"text-align: right;\">\n",
       "      <th></th>\n",
       "      <th>religion</th>\n",
       "      <th>&lt;$10k</th>\n",
       "      <th>$10-20k</th>\n",
       "      <th>$20-30k</th>\n",
       "      <th>$30-40k</th>\n",
       "      <th>$40-50k</th>\n",
       "      <th>$50-75k</th>\n",
       "    </tr>\n",
       "  </thead>\n",
       "  <tbody>\n",
       "    <tr>\n",
       "      <th>5</th>\n",
       "      <td>Evangelical Prot</td>\n",
       "      <td>575</td>\n",
       "      <td>869</td>\n",
       "      <td>1064</td>\n",
       "      <td>982</td>\n",
       "      <td>881</td>\n",
       "      <td>1486</td>\n",
       "    </tr>\n",
       "    <tr>\n",
       "      <th>6</th>\n",
       "      <td>Hindu</td>\n",
       "      <td>1</td>\n",
       "      <td>9</td>\n",
       "      <td>7</td>\n",
       "      <td>9</td>\n",
       "      <td>11</td>\n",
       "      <td>34</td>\n",
       "    </tr>\n",
       "    <tr>\n",
       "      <th>7</th>\n",
       "      <td>Historically Black Prot</td>\n",
       "      <td>228</td>\n",
       "      <td>244</td>\n",
       "      <td>236</td>\n",
       "      <td>238</td>\n",
       "      <td>197</td>\n",
       "      <td>223</td>\n",
       "    </tr>\n",
       "    <tr>\n",
       "      <th>8</th>\n",
       "      <td>Jehovahs Witness</td>\n",
       "      <td>20</td>\n",
       "      <td>27</td>\n",
       "      <td>24</td>\n",
       "      <td>24</td>\n",
       "      <td>21</td>\n",
       "      <td>30</td>\n",
       "    </tr>\n",
       "    <tr>\n",
       "      <th>9</th>\n",
       "      <td>Jewish</td>\n",
       "      <td>19</td>\n",
       "      <td>19</td>\n",
       "      <td>25</td>\n",
       "      <td>25</td>\n",
       "      <td>30</td>\n",
       "      <td>95</td>\n",
       "    </tr>\n",
       "  </tbody>\n",
       "</table>\n",
       "</div>"
      ],
      "text/plain": [
       "                   religion   <$10k   $10-20k  $20-30k  $30-40k   $40-50k  \\\n",
       "5         Evangelical Prot      575       869     1064      982       881   \n",
       "6                    Hindu        1         9        7        9        11   \n",
       "7  Historically Black Prot      228       244      236      238       197   \n",
       "8         Jehovahs Witness       20        27       24       24        21   \n",
       "9                   Jewish       19        19       25       25        30   \n",
       "\n",
       "   $50-75k  \n",
       "5     1486  \n",
       "6       34  \n",
       "7      223  \n",
       "8       30  \n",
       "9       95  "
      ]
     },
     "metadata": {},
     "output_type": "display_data"
    }
   ],
   "source": [
    "# display rows 2 and 3 for the religion column\n",
    "display(pew_raw_df.loc[2:3, 'religion']) \n",
    "\n",
    "# alternative way to display rows 2 and 3 for the religion column index (0-based index)\n",
    "display(pew_raw_df.iloc[2:4, 0]) \n",
    "\n",
    "# display the first 5 rows of the dataframe\n",
    "display(pew_raw_df.head()) \n",
    "\n",
    "# display the last 5 rows of the dataframe \n",
    "display(pew_raw_df.tail()) \n"
   ]
  },
  {
   "attachments": {},
   "cell_type": "markdown",
   "metadata": {},
   "source": [
    "***What does not seem right in the above dataframe?***"
   ]
  },
  {
   "attachments": {},
   "cell_type": "markdown",
   "metadata": {},
   "source": [
    "3. Try to make the column headers represent a variable not a value. For that, use the `melt` function."
   ]
  },
  {
   "cell_type": "code",
   "execution_count": 7,
   "metadata": {},
   "outputs": [
    {
     "data": {
      "application/vnd.microsoft.datawrangler.viewer.v0+json": {
       "columns": [
        {
         "name": "index",
         "rawType": "int64",
         "type": "integer"
        },
        {
         "name": "religion",
         "rawType": "object",
         "type": "string"
        },
        {
         "name": "income_range",
         "rawType": "object",
         "type": "string"
        },
        {
         "name": "count",
         "rawType": "int64",
         "type": "integer"
        }
       ],
       "ref": "da77faab-a089-4206-b36b-b491abc51212",
       "rows": [
        [
         "0",
         "Agnostic",
         " <$10k",
         "27"
        ],
        [
         "1",
         "Atheist",
         " <$10k",
         "12"
        ],
        [
         "2",
         "Buddhist",
         " <$10k",
         "27"
        ],
        [
         "3",
         "Catholic",
         " <$10k",
         "418"
        ],
        [
         "4",
         "Dont know/refused",
         " <$10k",
         "15"
        ],
        [
         "5",
         "Evangelical Prot ",
         " <$10k",
         "575"
        ],
        [
         "6",
         "Hindu ",
         " <$10k",
         "1"
        ],
        [
         "7",
         "Historically Black Prot ",
         " <$10k",
         "228"
        ],
        [
         "8",
         "Jehovahs Witness ",
         " <$10k",
         "20"
        ],
        [
         "9",
         "Jewish ",
         " <$10k",
         "19"
        ],
        [
         "10",
         "Agnostic",
         " $10-20k",
         "34"
        ],
        [
         "11",
         "Atheist",
         " $10-20k",
         "27"
        ],
        [
         "12",
         "Buddhist",
         " $10-20k",
         "21"
        ],
        [
         "13",
         "Catholic",
         " $10-20k",
         "617"
        ],
        [
         "14",
         "Dont know/refused",
         " $10-20k",
         "14"
        ],
        [
         "15",
         "Evangelical Prot ",
         " $10-20k",
         "869"
        ],
        [
         "16",
         "Hindu ",
         " $10-20k",
         "9"
        ],
        [
         "17",
         "Historically Black Prot ",
         " $10-20k",
         "244"
        ],
        [
         "18",
         "Jehovahs Witness ",
         " $10-20k",
         "27"
        ],
        [
         "19",
         "Jewish ",
         " $10-20k",
         "19"
        ],
        [
         "20",
         "Agnostic",
         "$20-30k",
         "60"
        ],
        [
         "21",
         "Atheist",
         "$20-30k",
         "37"
        ],
        [
         "22",
         "Buddhist",
         "$20-30k",
         "30"
        ],
        [
         "23",
         "Catholic",
         "$20-30k",
         "732"
        ],
        [
         "24",
         "Dont know/refused",
         "$20-30k",
         "15"
        ],
        [
         "25",
         "Evangelical Prot ",
         "$20-30k",
         "1064"
        ],
        [
         "26",
         "Hindu ",
         "$20-30k",
         "7"
        ],
        [
         "27",
         "Historically Black Prot ",
         "$20-30k",
         "236"
        ],
        [
         "28",
         "Jehovahs Witness ",
         "$20-30k",
         "24"
        ],
        [
         "29",
         "Jewish ",
         "$20-30k",
         "25"
        ],
        [
         "30",
         "Agnostic",
         "$30-40k",
         "81"
        ],
        [
         "31",
         "Atheist",
         "$30-40k",
         "52"
        ],
        [
         "32",
         "Buddhist",
         "$30-40k",
         "34"
        ],
        [
         "33",
         "Catholic",
         "$30-40k",
         "670"
        ],
        [
         "34",
         "Dont know/refused",
         "$30-40k",
         "11"
        ],
        [
         "35",
         "Evangelical Prot ",
         "$30-40k",
         "982"
        ],
        [
         "36",
         "Hindu ",
         "$30-40k",
         "9"
        ],
        [
         "37",
         "Historically Black Prot ",
         "$30-40k",
         "238"
        ],
        [
         "38",
         "Jehovahs Witness ",
         "$30-40k",
         "24"
        ],
        [
         "39",
         "Jewish ",
         "$30-40k",
         "25"
        ],
        [
         "40",
         "Agnostic",
         " $40-50k",
         "76"
        ],
        [
         "41",
         "Atheist",
         " $40-50k",
         "35"
        ],
        [
         "42",
         "Buddhist",
         " $40-50k",
         "33"
        ],
        [
         "43",
         "Catholic",
         " $40-50k",
         "638"
        ],
        [
         "44",
         "Dont know/refused",
         " $40-50k",
         "10"
        ],
        [
         "45",
         "Evangelical Prot ",
         " $40-50k",
         "881"
        ],
        [
         "46",
         "Hindu ",
         " $40-50k",
         "11"
        ],
        [
         "47",
         "Historically Black Prot ",
         " $40-50k",
         "197"
        ],
        [
         "48",
         "Jehovahs Witness ",
         " $40-50k",
         "21"
        ],
        [
         "49",
         "Jewish ",
         " $40-50k",
         "30"
        ]
       ],
       "shape": {
        "columns": 3,
        "rows": 60
       }
      },
      "text/html": [
       "<div>\n",
       "<style scoped>\n",
       "    .dataframe tbody tr th:only-of-type {\n",
       "        vertical-align: middle;\n",
       "    }\n",
       "\n",
       "    .dataframe tbody tr th {\n",
       "        vertical-align: top;\n",
       "    }\n",
       "\n",
       "    .dataframe thead th {\n",
       "        text-align: right;\n",
       "    }\n",
       "</style>\n",
       "<table border=\"1\" class=\"dataframe\">\n",
       "  <thead>\n",
       "    <tr style=\"text-align: right;\">\n",
       "      <th></th>\n",
       "      <th>religion</th>\n",
       "      <th>income_range</th>\n",
       "      <th>count</th>\n",
       "    </tr>\n",
       "  </thead>\n",
       "  <tbody>\n",
       "    <tr>\n",
       "      <th>0</th>\n",
       "      <td>Agnostic</td>\n",
       "      <td>&lt;$10k</td>\n",
       "      <td>27</td>\n",
       "    </tr>\n",
       "    <tr>\n",
       "      <th>1</th>\n",
       "      <td>Atheist</td>\n",
       "      <td>&lt;$10k</td>\n",
       "      <td>12</td>\n",
       "    </tr>\n",
       "    <tr>\n",
       "      <th>2</th>\n",
       "      <td>Buddhist</td>\n",
       "      <td>&lt;$10k</td>\n",
       "      <td>27</td>\n",
       "    </tr>\n",
       "    <tr>\n",
       "      <th>3</th>\n",
       "      <td>Catholic</td>\n",
       "      <td>&lt;$10k</td>\n",
       "      <td>418</td>\n",
       "    </tr>\n",
       "    <tr>\n",
       "      <th>4</th>\n",
       "      <td>Dont know/refused</td>\n",
       "      <td>&lt;$10k</td>\n",
       "      <td>15</td>\n",
       "    </tr>\n",
       "    <tr>\n",
       "      <th>5</th>\n",
       "      <td>Evangelical Prot</td>\n",
       "      <td>&lt;$10k</td>\n",
       "      <td>575</td>\n",
       "    </tr>\n",
       "    <tr>\n",
       "      <th>6</th>\n",
       "      <td>Hindu</td>\n",
       "      <td>&lt;$10k</td>\n",
       "      <td>1</td>\n",
       "    </tr>\n",
       "    <tr>\n",
       "      <th>7</th>\n",
       "      <td>Historically Black Prot</td>\n",
       "      <td>&lt;$10k</td>\n",
       "      <td>228</td>\n",
       "    </tr>\n",
       "    <tr>\n",
       "      <th>8</th>\n",
       "      <td>Jehovahs Witness</td>\n",
       "      <td>&lt;$10k</td>\n",
       "      <td>20</td>\n",
       "    </tr>\n",
       "    <tr>\n",
       "      <th>9</th>\n",
       "      <td>Jewish</td>\n",
       "      <td>&lt;$10k</td>\n",
       "      <td>19</td>\n",
       "    </tr>\n",
       "    <tr>\n",
       "      <th>10</th>\n",
       "      <td>Agnostic</td>\n",
       "      <td>$10-20k</td>\n",
       "      <td>34</td>\n",
       "    </tr>\n",
       "    <tr>\n",
       "      <th>11</th>\n",
       "      <td>Atheist</td>\n",
       "      <td>$10-20k</td>\n",
       "      <td>27</td>\n",
       "    </tr>\n",
       "    <tr>\n",
       "      <th>12</th>\n",
       "      <td>Buddhist</td>\n",
       "      <td>$10-20k</td>\n",
       "      <td>21</td>\n",
       "    </tr>\n",
       "    <tr>\n",
       "      <th>13</th>\n",
       "      <td>Catholic</td>\n",
       "      <td>$10-20k</td>\n",
       "      <td>617</td>\n",
       "    </tr>\n",
       "    <tr>\n",
       "      <th>14</th>\n",
       "      <td>Dont know/refused</td>\n",
       "      <td>$10-20k</td>\n",
       "      <td>14</td>\n",
       "    </tr>\n",
       "    <tr>\n",
       "      <th>15</th>\n",
       "      <td>Evangelical Prot</td>\n",
       "      <td>$10-20k</td>\n",
       "      <td>869</td>\n",
       "    </tr>\n",
       "    <tr>\n",
       "      <th>16</th>\n",
       "      <td>Hindu</td>\n",
       "      <td>$10-20k</td>\n",
       "      <td>9</td>\n",
       "    </tr>\n",
       "    <tr>\n",
       "      <th>17</th>\n",
       "      <td>Historically Black Prot</td>\n",
       "      <td>$10-20k</td>\n",
       "      <td>244</td>\n",
       "    </tr>\n",
       "    <tr>\n",
       "      <th>18</th>\n",
       "      <td>Jehovahs Witness</td>\n",
       "      <td>$10-20k</td>\n",
       "      <td>27</td>\n",
       "    </tr>\n",
       "    <tr>\n",
       "      <th>19</th>\n",
       "      <td>Jewish</td>\n",
       "      <td>$10-20k</td>\n",
       "      <td>19</td>\n",
       "    </tr>\n",
       "    <tr>\n",
       "      <th>20</th>\n",
       "      <td>Agnostic</td>\n",
       "      <td>$20-30k</td>\n",
       "      <td>60</td>\n",
       "    </tr>\n",
       "    <tr>\n",
       "      <th>21</th>\n",
       "      <td>Atheist</td>\n",
       "      <td>$20-30k</td>\n",
       "      <td>37</td>\n",
       "    </tr>\n",
       "    <tr>\n",
       "      <th>22</th>\n",
       "      <td>Buddhist</td>\n",
       "      <td>$20-30k</td>\n",
       "      <td>30</td>\n",
       "    </tr>\n",
       "    <tr>\n",
       "      <th>23</th>\n",
       "      <td>Catholic</td>\n",
       "      <td>$20-30k</td>\n",
       "      <td>732</td>\n",
       "    </tr>\n",
       "    <tr>\n",
       "      <th>24</th>\n",
       "      <td>Dont know/refused</td>\n",
       "      <td>$20-30k</td>\n",
       "      <td>15</td>\n",
       "    </tr>\n",
       "    <tr>\n",
       "      <th>25</th>\n",
       "      <td>Evangelical Prot</td>\n",
       "      <td>$20-30k</td>\n",
       "      <td>1064</td>\n",
       "    </tr>\n",
       "    <tr>\n",
       "      <th>26</th>\n",
       "      <td>Hindu</td>\n",
       "      <td>$20-30k</td>\n",
       "      <td>7</td>\n",
       "    </tr>\n",
       "    <tr>\n",
       "      <th>27</th>\n",
       "      <td>Historically Black Prot</td>\n",
       "      <td>$20-30k</td>\n",
       "      <td>236</td>\n",
       "    </tr>\n",
       "    <tr>\n",
       "      <th>28</th>\n",
       "      <td>Jehovahs Witness</td>\n",
       "      <td>$20-30k</td>\n",
       "      <td>24</td>\n",
       "    </tr>\n",
       "    <tr>\n",
       "      <th>29</th>\n",
       "      <td>Jewish</td>\n",
       "      <td>$20-30k</td>\n",
       "      <td>25</td>\n",
       "    </tr>\n",
       "    <tr>\n",
       "      <th>30</th>\n",
       "      <td>Agnostic</td>\n",
       "      <td>$30-40k</td>\n",
       "      <td>81</td>\n",
       "    </tr>\n",
       "    <tr>\n",
       "      <th>31</th>\n",
       "      <td>Atheist</td>\n",
       "      <td>$30-40k</td>\n",
       "      <td>52</td>\n",
       "    </tr>\n",
       "    <tr>\n",
       "      <th>32</th>\n",
       "      <td>Buddhist</td>\n",
       "      <td>$30-40k</td>\n",
       "      <td>34</td>\n",
       "    </tr>\n",
       "    <tr>\n",
       "      <th>33</th>\n",
       "      <td>Catholic</td>\n",
       "      <td>$30-40k</td>\n",
       "      <td>670</td>\n",
       "    </tr>\n",
       "    <tr>\n",
       "      <th>34</th>\n",
       "      <td>Dont know/refused</td>\n",
       "      <td>$30-40k</td>\n",
       "      <td>11</td>\n",
       "    </tr>\n",
       "    <tr>\n",
       "      <th>35</th>\n",
       "      <td>Evangelical Prot</td>\n",
       "      <td>$30-40k</td>\n",
       "      <td>982</td>\n",
       "    </tr>\n",
       "    <tr>\n",
       "      <th>36</th>\n",
       "      <td>Hindu</td>\n",
       "      <td>$30-40k</td>\n",
       "      <td>9</td>\n",
       "    </tr>\n",
       "    <tr>\n",
       "      <th>37</th>\n",
       "      <td>Historically Black Prot</td>\n",
       "      <td>$30-40k</td>\n",
       "      <td>238</td>\n",
       "    </tr>\n",
       "    <tr>\n",
       "      <th>38</th>\n",
       "      <td>Jehovahs Witness</td>\n",
       "      <td>$30-40k</td>\n",
       "      <td>24</td>\n",
       "    </tr>\n",
       "    <tr>\n",
       "      <th>39</th>\n",
       "      <td>Jewish</td>\n",
       "      <td>$30-40k</td>\n",
       "      <td>25</td>\n",
       "    </tr>\n",
       "    <tr>\n",
       "      <th>40</th>\n",
       "      <td>Agnostic</td>\n",
       "      <td>$40-50k</td>\n",
       "      <td>76</td>\n",
       "    </tr>\n",
       "    <tr>\n",
       "      <th>41</th>\n",
       "      <td>Atheist</td>\n",
       "      <td>$40-50k</td>\n",
       "      <td>35</td>\n",
       "    </tr>\n",
       "    <tr>\n",
       "      <th>42</th>\n",
       "      <td>Buddhist</td>\n",
       "      <td>$40-50k</td>\n",
       "      <td>33</td>\n",
       "    </tr>\n",
       "    <tr>\n",
       "      <th>43</th>\n",
       "      <td>Catholic</td>\n",
       "      <td>$40-50k</td>\n",
       "      <td>638</td>\n",
       "    </tr>\n",
       "    <tr>\n",
       "      <th>44</th>\n",
       "      <td>Dont know/refused</td>\n",
       "      <td>$40-50k</td>\n",
       "      <td>10</td>\n",
       "    </tr>\n",
       "    <tr>\n",
       "      <th>45</th>\n",
       "      <td>Evangelical Prot</td>\n",
       "      <td>$40-50k</td>\n",
       "      <td>881</td>\n",
       "    </tr>\n",
       "    <tr>\n",
       "      <th>46</th>\n",
       "      <td>Hindu</td>\n",
       "      <td>$40-50k</td>\n",
       "      <td>11</td>\n",
       "    </tr>\n",
       "    <tr>\n",
       "      <th>47</th>\n",
       "      <td>Historically Black Prot</td>\n",
       "      <td>$40-50k</td>\n",
       "      <td>197</td>\n",
       "    </tr>\n",
       "    <tr>\n",
       "      <th>48</th>\n",
       "      <td>Jehovahs Witness</td>\n",
       "      <td>$40-50k</td>\n",
       "      <td>21</td>\n",
       "    </tr>\n",
       "    <tr>\n",
       "      <th>49</th>\n",
       "      <td>Jewish</td>\n",
       "      <td>$40-50k</td>\n",
       "      <td>30</td>\n",
       "    </tr>\n",
       "    <tr>\n",
       "      <th>50</th>\n",
       "      <td>Agnostic</td>\n",
       "      <td>$50-75k</td>\n",
       "      <td>137</td>\n",
       "    </tr>\n",
       "    <tr>\n",
       "      <th>51</th>\n",
       "      <td>Atheist</td>\n",
       "      <td>$50-75k</td>\n",
       "      <td>70</td>\n",
       "    </tr>\n",
       "    <tr>\n",
       "      <th>52</th>\n",
       "      <td>Buddhist</td>\n",
       "      <td>$50-75k</td>\n",
       "      <td>58</td>\n",
       "    </tr>\n",
       "    <tr>\n",
       "      <th>53</th>\n",
       "      <td>Catholic</td>\n",
       "      <td>$50-75k</td>\n",
       "      <td>1116</td>\n",
       "    </tr>\n",
       "    <tr>\n",
       "      <th>54</th>\n",
       "      <td>Dont know/refused</td>\n",
       "      <td>$50-75k</td>\n",
       "      <td>35</td>\n",
       "    </tr>\n",
       "    <tr>\n",
       "      <th>55</th>\n",
       "      <td>Evangelical Prot</td>\n",
       "      <td>$50-75k</td>\n",
       "      <td>1486</td>\n",
       "    </tr>\n",
       "    <tr>\n",
       "      <th>56</th>\n",
       "      <td>Hindu</td>\n",
       "      <td>$50-75k</td>\n",
       "      <td>34</td>\n",
       "    </tr>\n",
       "    <tr>\n",
       "      <th>57</th>\n",
       "      <td>Historically Black Prot</td>\n",
       "      <td>$50-75k</td>\n",
       "      <td>223</td>\n",
       "    </tr>\n",
       "    <tr>\n",
       "      <th>58</th>\n",
       "      <td>Jehovahs Witness</td>\n",
       "      <td>$50-75k</td>\n",
       "      <td>30</td>\n",
       "    </tr>\n",
       "    <tr>\n",
       "      <th>59</th>\n",
       "      <td>Jewish</td>\n",
       "      <td>$50-75k</td>\n",
       "      <td>95</td>\n",
       "    </tr>\n",
       "  </tbody>\n",
       "</table>\n",
       "</div>"
      ],
      "text/plain": [
       "                    religion income_range  count\n",
       "0                   Agnostic        <$10k     27\n",
       "1                    Atheist        <$10k     12\n",
       "2                   Buddhist        <$10k     27\n",
       "3                   Catholic        <$10k    418\n",
       "4          Dont know/refused        <$10k     15\n",
       "5          Evangelical Prot         <$10k    575\n",
       "6                     Hindu         <$10k      1\n",
       "7   Historically Black Prot         <$10k    228\n",
       "8          Jehovahs Witness         <$10k     20\n",
       "9                    Jewish         <$10k     19\n",
       "10                  Agnostic      $10-20k     34\n",
       "11                   Atheist      $10-20k     27\n",
       "12                  Buddhist      $10-20k     21\n",
       "13                  Catholic      $10-20k    617\n",
       "14         Dont know/refused      $10-20k     14\n",
       "15         Evangelical Prot       $10-20k    869\n",
       "16                    Hindu       $10-20k      9\n",
       "17  Historically Black Prot       $10-20k    244\n",
       "18         Jehovahs Witness       $10-20k     27\n",
       "19                   Jewish       $10-20k     19\n",
       "20                  Agnostic      $20-30k     60\n",
       "21                   Atheist      $20-30k     37\n",
       "22                  Buddhist      $20-30k     30\n",
       "23                  Catholic      $20-30k    732\n",
       "24         Dont know/refused      $20-30k     15\n",
       "25         Evangelical Prot       $20-30k   1064\n",
       "26                    Hindu       $20-30k      7\n",
       "27  Historically Black Prot       $20-30k    236\n",
       "28         Jehovahs Witness       $20-30k     24\n",
       "29                   Jewish       $20-30k     25\n",
       "30                  Agnostic      $30-40k     81\n",
       "31                   Atheist      $30-40k     52\n",
       "32                  Buddhist      $30-40k     34\n",
       "33                  Catholic      $30-40k    670\n",
       "34         Dont know/refused      $30-40k     11\n",
       "35         Evangelical Prot       $30-40k    982\n",
       "36                    Hindu       $30-40k      9\n",
       "37  Historically Black Prot       $30-40k    238\n",
       "38         Jehovahs Witness       $30-40k     24\n",
       "39                   Jewish       $30-40k     25\n",
       "40                  Agnostic      $40-50k     76\n",
       "41                   Atheist      $40-50k     35\n",
       "42                  Buddhist      $40-50k     33\n",
       "43                  Catholic      $40-50k    638\n",
       "44         Dont know/refused      $40-50k     10\n",
       "45         Evangelical Prot       $40-50k    881\n",
       "46                    Hindu       $40-50k     11\n",
       "47  Historically Black Prot       $40-50k    197\n",
       "48         Jehovahs Witness       $40-50k     21\n",
       "49                   Jewish       $40-50k     30\n",
       "50                  Agnostic      $50-75k    137\n",
       "51                   Atheist      $50-75k     70\n",
       "52                  Buddhist      $50-75k     58\n",
       "53                  Catholic      $50-75k   1116\n",
       "54         Dont know/refused      $50-75k     35\n",
       "55         Evangelical Prot       $50-75k   1486\n",
       "56                    Hindu       $50-75k     34\n",
       "57  Historically Black Prot       $50-75k    223\n",
       "58         Jehovahs Witness       $50-75k     30\n",
       "59                   Jewish       $50-75k     95"
      ]
     },
     "execution_count": 7,
     "metadata": {},
     "output_type": "execute_result"
    }
   ],
   "source": [
    "pew_raw_df.melt(id_vars=['religion'], var_name='income_range', value_name='count')"
   ]
  },
  {
   "attachments": {},
   "cell_type": "markdown",
   "metadata": {},
   "source": [
    "### **Billboard Dataset**"
   ]
  },
  {
   "attachments": {},
   "cell_type": "markdown",
   "metadata": {},
   "source": [
    "This dataset outlines data about the top hit songs on the Billboard list and the week from entrance that it was in the billboard with the ranking."
   ]
  },
  {
   "attachments": {},
   "cell_type": "markdown",
   "metadata": {},
   "source": [
    "1. Read the dataset and store it in a pandas dataframe. Note that the usual utf-8 encoding does not work on this dataset. The reason behind this is that there might be characters that are not supported by `utf-8`.\n",
    "\n",
    "The suggestion is to use for this dataset `unicode_escape` encoding. (converts all non-ASCII characters into their \\uXXXX representations)"
   ]
  },
  {
   "cell_type": "code",
   "execution_count": 8,
   "metadata": {},
   "outputs": [
    {
     "data": {
      "application/vnd.microsoft.datawrangler.viewer.v0+json": {
       "columns": [
        {
         "name": "index",
         "rawType": "int64",
         "type": "integer"
        },
        {
         "name": "year",
         "rawType": "int64",
         "type": "integer"
        },
        {
         "name": "artist.inverted",
         "rawType": "object",
         "type": "string"
        },
        {
         "name": "track",
         "rawType": "object",
         "type": "string"
        },
        {
         "name": "time",
         "rawType": "object",
         "type": "string"
        },
        {
         "name": "genre",
         "rawType": "object",
         "type": "string"
        },
        {
         "name": "date.entered",
         "rawType": "object",
         "type": "string"
        },
        {
         "name": "date.peaked",
         "rawType": "object",
         "type": "string"
        },
        {
         "name": "x1st.week",
         "rawType": "int64",
         "type": "integer"
        },
        {
         "name": "x2nd.week",
         "rawType": "float64",
         "type": "float"
        },
        {
         "name": "x3rd.week",
         "rawType": "float64",
         "type": "float"
        },
        {
         "name": "x4th.week",
         "rawType": "float64",
         "type": "float"
        },
        {
         "name": "x5th.week",
         "rawType": "float64",
         "type": "float"
        },
        {
         "name": "x6th.week",
         "rawType": "float64",
         "type": "float"
        },
        {
         "name": "x7th.week",
         "rawType": "float64",
         "type": "float"
        },
        {
         "name": "x8th.week",
         "rawType": "float64",
         "type": "float"
        },
        {
         "name": "x9th.week",
         "rawType": "float64",
         "type": "float"
        },
        {
         "name": "x10th.week",
         "rawType": "float64",
         "type": "float"
        },
        {
         "name": "x11th.week",
         "rawType": "float64",
         "type": "float"
        },
        {
         "name": "x12th.week",
         "rawType": "float64",
         "type": "float"
        },
        {
         "name": "x13th.week",
         "rawType": "float64",
         "type": "float"
        },
        {
         "name": "x14th.week",
         "rawType": "float64",
         "type": "float"
        },
        {
         "name": "x15th.week",
         "rawType": "float64",
         "type": "float"
        },
        {
         "name": "x16th.week",
         "rawType": "float64",
         "type": "float"
        },
        {
         "name": "x17th.week",
         "rawType": "float64",
         "type": "float"
        },
        {
         "name": "x18th.week",
         "rawType": "float64",
         "type": "float"
        },
        {
         "name": "x19th.week",
         "rawType": "float64",
         "type": "float"
        },
        {
         "name": "x20th.week",
         "rawType": "float64",
         "type": "float"
        },
        {
         "name": "x21st.week",
         "rawType": "float64",
         "type": "float"
        },
        {
         "name": "x22nd.week",
         "rawType": "float64",
         "type": "float"
        },
        {
         "name": "x23rd.week",
         "rawType": "float64",
         "type": "float"
        },
        {
         "name": "x24th.week",
         "rawType": "float64",
         "type": "float"
        },
        {
         "name": "x25th.week",
         "rawType": "float64",
         "type": "float"
        },
        {
         "name": "x26th.week",
         "rawType": "float64",
         "type": "float"
        },
        {
         "name": "x27th.week",
         "rawType": "float64",
         "type": "float"
        },
        {
         "name": "x28th.week",
         "rawType": "float64",
         "type": "float"
        },
        {
         "name": "x29th.week",
         "rawType": "float64",
         "type": "float"
        },
        {
         "name": "x30th.week",
         "rawType": "float64",
         "type": "float"
        },
        {
         "name": "x31st.week",
         "rawType": "float64",
         "type": "float"
        },
        {
         "name": "x32nd.week",
         "rawType": "float64",
         "type": "float"
        },
        {
         "name": "x33rd.week",
         "rawType": "float64",
         "type": "float"
        },
        {
         "name": "x34th.week",
         "rawType": "float64",
         "type": "float"
        },
        {
         "name": "x35th.week",
         "rawType": "float64",
         "type": "float"
        },
        {
         "name": "x36th.week",
         "rawType": "float64",
         "type": "float"
        },
        {
         "name": "x37th.week",
         "rawType": "float64",
         "type": "float"
        },
        {
         "name": "x38th.week",
         "rawType": "float64",
         "type": "float"
        },
        {
         "name": "x39th.week",
         "rawType": "float64",
         "type": "float"
        },
        {
         "name": "x40th.week",
         "rawType": "float64",
         "type": "float"
        },
        {
         "name": "x41st.week",
         "rawType": "float64",
         "type": "float"
        },
        {
         "name": "x42nd.week",
         "rawType": "float64",
         "type": "float"
        },
        {
         "name": "x43rd.week",
         "rawType": "float64",
         "type": "float"
        },
        {
         "name": "x44th.week",
         "rawType": "float64",
         "type": "float"
        },
        {
         "name": "x45th.week",
         "rawType": "float64",
         "type": "float"
        },
        {
         "name": "x46th.week",
         "rawType": "float64",
         "type": "float"
        },
        {
         "name": "x47th.week",
         "rawType": "float64",
         "type": "float"
        },
        {
         "name": "x48th.week",
         "rawType": "float64",
         "type": "float"
        },
        {
         "name": "x49th.week",
         "rawType": "float64",
         "type": "float"
        },
        {
         "name": "x50th.week",
         "rawType": "float64",
         "type": "float"
        },
        {
         "name": "x51st.week",
         "rawType": "float64",
         "type": "float"
        },
        {
         "name": "x52nd.week",
         "rawType": "float64",
         "type": "float"
        },
        {
         "name": "x53rd.week",
         "rawType": "float64",
         "type": "float"
        },
        {
         "name": "x54th.week",
         "rawType": "float64",
         "type": "float"
        },
        {
         "name": "x55th.week",
         "rawType": "float64",
         "type": "float"
        },
        {
         "name": "x56th.week",
         "rawType": "float64",
         "type": "float"
        },
        {
         "name": "x57th.week",
         "rawType": "float64",
         "type": "float"
        },
        {
         "name": "x58th.week",
         "rawType": "float64",
         "type": "float"
        },
        {
         "name": "x59th.week",
         "rawType": "float64",
         "type": "float"
        },
        {
         "name": "x60th.week",
         "rawType": "float64",
         "type": "float"
        },
        {
         "name": "x61st.week",
         "rawType": "float64",
         "type": "float"
        },
        {
         "name": "x62nd.week",
         "rawType": "float64",
         "type": "float"
        },
        {
         "name": "x63rd.week",
         "rawType": "float64",
         "type": "float"
        },
        {
         "name": "x64th.week",
         "rawType": "float64",
         "type": "float"
        },
        {
         "name": "x65th.week",
         "rawType": "float64",
         "type": "float"
        },
        {
         "name": "x66th.week",
         "rawType": "float64",
         "type": "float"
        },
        {
         "name": "x67th.week",
         "rawType": "float64",
         "type": "float"
        },
        {
         "name": "x68th.week",
         "rawType": "float64",
         "type": "float"
        },
        {
         "name": "x69th.week",
         "rawType": "float64",
         "type": "float"
        },
        {
         "name": "x70th.week",
         "rawType": "float64",
         "type": "float"
        },
        {
         "name": "x71st.week",
         "rawType": "float64",
         "type": "float"
        },
        {
         "name": "x72nd.week",
         "rawType": "float64",
         "type": "float"
        },
        {
         "name": "x73rd.week",
         "rawType": "float64",
         "type": "float"
        },
        {
         "name": "x74th.week",
         "rawType": "float64",
         "type": "float"
        },
        {
         "name": "x75th.week",
         "rawType": "float64",
         "type": "float"
        },
        {
         "name": "x76th.week",
         "rawType": "float64",
         "type": "float"
        }
       ],
       "ref": "034bbc1c-fa1b-4f3e-a1ee-8cffa7dfa1d9",
       "rows": [
        [
         "0",
         "2000",
         "Destiny's Child",
         "Independent Women Part I",
         "3:38",
         "Rock",
         "2000-09-23",
         "2000-11-18",
         "78",
         "63.0",
         "49.0",
         "33.0",
         "23.0",
         "15.0",
         "7.0",
         "5.0",
         "1.0",
         "1.0",
         "1.0",
         "1.0",
         "1.0",
         "1.0",
         "1.0",
         "1.0",
         "1.0",
         "1.0",
         "1.0",
         "2.0",
         "3.0",
         "7.0",
         "10.0",
         "12.0",
         "15.0",
         "22.0",
         "29.0",
         "31.0",
         null,
         null,
         null,
         null,
         null,
         null,
         null,
         null,
         null,
         null,
         null,
         null,
         null,
         null,
         null,
         null,
         null,
         null,
         null,
         null,
         null,
         null,
         null,
         null,
         null,
         null,
         null,
         null,
         null,
         null,
         null,
         null,
         null,
         null,
         null,
         null,
         null,
         null,
         null,
         null,
         null,
         null,
         null,
         null,
         null,
         null,
         null,
         null
        ],
        [
         "1",
         "2000",
         "Santana",
         "Maria, Maria",
         "4:18",
         "Rock",
         "2000-02-12",
         "2000-04-08",
         "15",
         "8.0",
         "6.0",
         "5.0",
         "2.0",
         "3.0",
         "2.0",
         "2.0",
         "1.0",
         "1.0",
         "1.0",
         "1.0",
         "1.0",
         "1.0",
         "1.0",
         "1.0",
         "1.0",
         "1.0",
         "8.0",
         "15.0",
         "19.0",
         "21.0",
         "26.0",
         "36.0",
         "48.0",
         "47.0",
         null,
         null,
         null,
         null,
         null,
         null,
         null,
         null,
         null,
         null,
         null,
         null,
         null,
         null,
         null,
         null,
         null,
         null,
         null,
         null,
         null,
         null,
         null,
         null,
         null,
         null,
         null,
         null,
         null,
         null,
         null,
         null,
         null,
         null,
         null,
         null,
         null,
         null,
         null,
         null,
         null,
         null,
         null,
         null,
         null,
         null,
         null,
         null,
         null,
         null
        ],
        [
         "2",
         "2000",
         "Savage Garden",
         "I Knew I Loved You",
         "4:07",
         "Rock",
         "1999-10-23",
         "2000-01-29",
         "71",
         "48.0",
         "43.0",
         "31.0",
         "20.0",
         "13.0",
         "7.0",
         "6.0",
         "4.0",
         "4.0",
         "4.0",
         "6.0",
         "4.0",
         "2.0",
         "1.0",
         "1.0",
         "1.0",
         "2.0",
         "1.0",
         "2.0",
         "4.0",
         "8.0",
         "8.0",
         "12.0",
         "14.0",
         "17.0",
         "21.0",
         "24.0",
         "30.0",
         "34.0",
         "37.0",
         "46.0",
         "47.0",
         null,
         null,
         null,
         null,
         null,
         null,
         null,
         null,
         null,
         null,
         null,
         null,
         null,
         null,
         null,
         null,
         null,
         null,
         null,
         null,
         null,
         null,
         null,
         null,
         null,
         null,
         null,
         null,
         null,
         null,
         null,
         null,
         null,
         null,
         null,
         null,
         null,
         null,
         null,
         null,
         null,
         null,
         null
        ],
        [
         "3",
         "2000",
         "Madonna",
         "Music",
         "3:45",
         "Rock",
         "2000-08-12",
         "2000-09-16",
         "41",
         "23.0",
         "18.0",
         "14.0",
         "2.0",
         "1.0",
         "1.0",
         "1.0",
         "1.0",
         "2.0",
         "2.0",
         "2.0",
         "2.0",
         "2.0",
         "4.0",
         "8.0",
         "11.0",
         "16.0",
         "20.0",
         "25.0",
         "27.0",
         "27.0",
         "29.0",
         "44.0",
         null,
         null,
         null,
         null,
         null,
         null,
         null,
         null,
         null,
         null,
         null,
         null,
         null,
         null,
         null,
         null,
         null,
         null,
         null,
         null,
         null,
         null,
         null,
         null,
         null,
         null,
         null,
         null,
         null,
         null,
         null,
         null,
         null,
         null,
         null,
         null,
         null,
         null,
         null,
         null,
         null,
         null,
         null,
         null,
         null,
         null,
         null,
         null,
         null,
         null,
         null,
         null
        ],
        [
         "4",
         "2000",
         "Aguilera, Christina",
         "Come On Over Baby (All I Want Is You)",
         "3:38",
         "Rock",
         "2000-08-05",
         "2000-10-14",
         "57",
         "47.0",
         "45.0",
         "29.0",
         "23.0",
         "18.0",
         "11.0",
         "9.0",
         "9.0",
         "11.0",
         "1.0",
         "1.0",
         "1.0",
         "1.0",
         "4.0",
         "8.0",
         "12.0",
         "22.0",
         "23.0",
         "43.0",
         "44.0",
         null,
         null,
         null,
         null,
         null,
         null,
         null,
         null,
         null,
         null,
         null,
         null,
         null,
         null,
         null,
         null,
         null,
         null,
         null,
         null,
         null,
         null,
         null,
         null,
         null,
         null,
         null,
         null,
         null,
         null,
         null,
         null,
         null,
         null,
         null,
         null,
         null,
         null,
         null,
         null,
         null,
         null,
         null,
         null,
         null,
         null,
         null,
         null,
         null,
         null,
         null,
         null,
         null,
         null,
         null
        ]
       ],
       "shape": {
        "columns": 83,
        "rows": 5
       }
      },
      "text/html": [
       "<div>\n",
       "<style scoped>\n",
       "    .dataframe tbody tr th:only-of-type {\n",
       "        vertical-align: middle;\n",
       "    }\n",
       "\n",
       "    .dataframe tbody tr th {\n",
       "        vertical-align: top;\n",
       "    }\n",
       "\n",
       "    .dataframe thead th {\n",
       "        text-align: right;\n",
       "    }\n",
       "</style>\n",
       "<table border=\"1\" class=\"dataframe\">\n",
       "  <thead>\n",
       "    <tr style=\"text-align: right;\">\n",
       "      <th></th>\n",
       "      <th>year</th>\n",
       "      <th>artist.inverted</th>\n",
       "      <th>track</th>\n",
       "      <th>time</th>\n",
       "      <th>genre</th>\n",
       "      <th>date.entered</th>\n",
       "      <th>date.peaked</th>\n",
       "      <th>x1st.week</th>\n",
       "      <th>x2nd.week</th>\n",
       "      <th>x3rd.week</th>\n",
       "      <th>...</th>\n",
       "      <th>x67th.week</th>\n",
       "      <th>x68th.week</th>\n",
       "      <th>x69th.week</th>\n",
       "      <th>x70th.week</th>\n",
       "      <th>x71st.week</th>\n",
       "      <th>x72nd.week</th>\n",
       "      <th>x73rd.week</th>\n",
       "      <th>x74th.week</th>\n",
       "      <th>x75th.week</th>\n",
       "      <th>x76th.week</th>\n",
       "    </tr>\n",
       "  </thead>\n",
       "  <tbody>\n",
       "    <tr>\n",
       "      <th>0</th>\n",
       "      <td>2000</td>\n",
       "      <td>Destiny's Child</td>\n",
       "      <td>Independent Women Part I</td>\n",
       "      <td>3:38</td>\n",
       "      <td>Rock</td>\n",
       "      <td>2000-09-23</td>\n",
       "      <td>2000-11-18</td>\n",
       "      <td>78</td>\n",
       "      <td>63.0</td>\n",
       "      <td>49.0</td>\n",
       "      <td>...</td>\n",
       "      <td>NaN</td>\n",
       "      <td>NaN</td>\n",
       "      <td>NaN</td>\n",
       "      <td>NaN</td>\n",
       "      <td>NaN</td>\n",
       "      <td>NaN</td>\n",
       "      <td>NaN</td>\n",
       "      <td>NaN</td>\n",
       "      <td>NaN</td>\n",
       "      <td>NaN</td>\n",
       "    </tr>\n",
       "    <tr>\n",
       "      <th>1</th>\n",
       "      <td>2000</td>\n",
       "      <td>Santana</td>\n",
       "      <td>Maria, Maria</td>\n",
       "      <td>4:18</td>\n",
       "      <td>Rock</td>\n",
       "      <td>2000-02-12</td>\n",
       "      <td>2000-04-08</td>\n",
       "      <td>15</td>\n",
       "      <td>8.0</td>\n",
       "      <td>6.0</td>\n",
       "      <td>...</td>\n",
       "      <td>NaN</td>\n",
       "      <td>NaN</td>\n",
       "      <td>NaN</td>\n",
       "      <td>NaN</td>\n",
       "      <td>NaN</td>\n",
       "      <td>NaN</td>\n",
       "      <td>NaN</td>\n",
       "      <td>NaN</td>\n",
       "      <td>NaN</td>\n",
       "      <td>NaN</td>\n",
       "    </tr>\n",
       "    <tr>\n",
       "      <th>2</th>\n",
       "      <td>2000</td>\n",
       "      <td>Savage Garden</td>\n",
       "      <td>I Knew I Loved You</td>\n",
       "      <td>4:07</td>\n",
       "      <td>Rock</td>\n",
       "      <td>1999-10-23</td>\n",
       "      <td>2000-01-29</td>\n",
       "      <td>71</td>\n",
       "      <td>48.0</td>\n",
       "      <td>43.0</td>\n",
       "      <td>...</td>\n",
       "      <td>NaN</td>\n",
       "      <td>NaN</td>\n",
       "      <td>NaN</td>\n",
       "      <td>NaN</td>\n",
       "      <td>NaN</td>\n",
       "      <td>NaN</td>\n",
       "      <td>NaN</td>\n",
       "      <td>NaN</td>\n",
       "      <td>NaN</td>\n",
       "      <td>NaN</td>\n",
       "    </tr>\n",
       "    <tr>\n",
       "      <th>3</th>\n",
       "      <td>2000</td>\n",
       "      <td>Madonna</td>\n",
       "      <td>Music</td>\n",
       "      <td>3:45</td>\n",
       "      <td>Rock</td>\n",
       "      <td>2000-08-12</td>\n",
       "      <td>2000-09-16</td>\n",
       "      <td>41</td>\n",
       "      <td>23.0</td>\n",
       "      <td>18.0</td>\n",
       "      <td>...</td>\n",
       "      <td>NaN</td>\n",
       "      <td>NaN</td>\n",
       "      <td>NaN</td>\n",
       "      <td>NaN</td>\n",
       "      <td>NaN</td>\n",
       "      <td>NaN</td>\n",
       "      <td>NaN</td>\n",
       "      <td>NaN</td>\n",
       "      <td>NaN</td>\n",
       "      <td>NaN</td>\n",
       "    </tr>\n",
       "    <tr>\n",
       "      <th>4</th>\n",
       "      <td>2000</td>\n",
       "      <td>Aguilera, Christina</td>\n",
       "      <td>Come On Over Baby (All I Want Is You)</td>\n",
       "      <td>3:38</td>\n",
       "      <td>Rock</td>\n",
       "      <td>2000-08-05</td>\n",
       "      <td>2000-10-14</td>\n",
       "      <td>57</td>\n",
       "      <td>47.0</td>\n",
       "      <td>45.0</td>\n",
       "      <td>...</td>\n",
       "      <td>NaN</td>\n",
       "      <td>NaN</td>\n",
       "      <td>NaN</td>\n",
       "      <td>NaN</td>\n",
       "      <td>NaN</td>\n",
       "      <td>NaN</td>\n",
       "      <td>NaN</td>\n",
       "      <td>NaN</td>\n",
       "      <td>NaN</td>\n",
       "      <td>NaN</td>\n",
       "    </tr>\n",
       "  </tbody>\n",
       "</table>\n",
       "<p>5 rows × 83 columns</p>\n",
       "</div>"
      ],
      "text/plain": [
       "   year      artist.inverted                                  track  time  \\\n",
       "0  2000      Destiny's Child               Independent Women Part I  3:38   \n",
       "1  2000              Santana                           Maria, Maria  4:18   \n",
       "2  2000        Savage Garden                     I Knew I Loved You  4:07   \n",
       "3  2000              Madonna                                  Music  3:45   \n",
       "4  2000  Aguilera, Christina  Come On Over Baby (All I Want Is You)  3:38   \n",
       "\n",
       "  genre date.entered date.peaked  x1st.week  x2nd.week  x3rd.week  ...  \\\n",
       "0  Rock   2000-09-23  2000-11-18         78       63.0       49.0  ...   \n",
       "1  Rock   2000-02-12  2000-04-08         15        8.0        6.0  ...   \n",
       "2  Rock   1999-10-23  2000-01-29         71       48.0       43.0  ...   \n",
       "3  Rock   2000-08-12  2000-09-16         41       23.0       18.0  ...   \n",
       "4  Rock   2000-08-05  2000-10-14         57       47.0       45.0  ...   \n",
       "\n",
       "   x67th.week  x68th.week  x69th.week  x70th.week  x71st.week  x72nd.week  \\\n",
       "0         NaN         NaN         NaN         NaN         NaN         NaN   \n",
       "1         NaN         NaN         NaN         NaN         NaN         NaN   \n",
       "2         NaN         NaN         NaN         NaN         NaN         NaN   \n",
       "3         NaN         NaN         NaN         NaN         NaN         NaN   \n",
       "4         NaN         NaN         NaN         NaN         NaN         NaN   \n",
       "\n",
       "   x73rd.week  x74th.week  x75th.week  x76th.week  \n",
       "0         NaN         NaN         NaN         NaN  \n",
       "1         NaN         NaN         NaN         NaN  \n",
       "2         NaN         NaN         NaN         NaN  \n",
       "3         NaN         NaN         NaN         NaN  \n",
       "4         NaN         NaN         NaN         NaN  \n",
       "\n",
       "[5 rows x 83 columns]"
      ]
     },
     "execution_count": 8,
     "metadata": {},
     "output_type": "execute_result"
    }
   ],
   "source": [
    "billboard_df = pd.read_csv('data/billboard.csv', encoding='latin-1')\n",
    "billboard_df.head()"
   ]
  },
  {
   "attachments": {},
   "cell_type": "markdown",
   "metadata": {},
   "source": [
    "2. Observe the first few rows of the dataset."
   ]
  },
  {
   "cell_type": "code",
   "execution_count": 9,
   "metadata": {},
   "outputs": [
    {
     "data": {
      "application/vnd.microsoft.datawrangler.viewer.v0+json": {
       "columns": [
        {
         "name": "index",
         "rawType": "int64",
         "type": "integer"
        },
        {
         "name": "year",
         "rawType": "int64",
         "type": "integer"
        },
        {
         "name": "artist.inverted",
         "rawType": "object",
         "type": "string"
        },
        {
         "name": "track",
         "rawType": "object",
         "type": "string"
        },
        {
         "name": "time",
         "rawType": "object",
         "type": "string"
        },
        {
         "name": "genre",
         "rawType": "object",
         "type": "string"
        },
        {
         "name": "date.entered",
         "rawType": "object",
         "type": "string"
        },
        {
         "name": "date.peaked",
         "rawType": "object",
         "type": "string"
        },
        {
         "name": "x1st.week",
         "rawType": "int64",
         "type": "integer"
        },
        {
         "name": "x2nd.week",
         "rawType": "float64",
         "type": "float"
        },
        {
         "name": "x3rd.week",
         "rawType": "float64",
         "type": "float"
        },
        {
         "name": "x4th.week",
         "rawType": "float64",
         "type": "float"
        },
        {
         "name": "x5th.week",
         "rawType": "float64",
         "type": "float"
        },
        {
         "name": "x6th.week",
         "rawType": "float64",
         "type": "float"
        },
        {
         "name": "x7th.week",
         "rawType": "float64",
         "type": "float"
        },
        {
         "name": "x8th.week",
         "rawType": "float64",
         "type": "float"
        },
        {
         "name": "x9th.week",
         "rawType": "float64",
         "type": "float"
        },
        {
         "name": "x10th.week",
         "rawType": "float64",
         "type": "float"
        },
        {
         "name": "x11th.week",
         "rawType": "float64",
         "type": "float"
        },
        {
         "name": "x12th.week",
         "rawType": "float64",
         "type": "float"
        },
        {
         "name": "x13th.week",
         "rawType": "float64",
         "type": "float"
        },
        {
         "name": "x14th.week",
         "rawType": "float64",
         "type": "float"
        },
        {
         "name": "x15th.week",
         "rawType": "float64",
         "type": "float"
        },
        {
         "name": "x16th.week",
         "rawType": "float64",
         "type": "float"
        },
        {
         "name": "x17th.week",
         "rawType": "float64",
         "type": "float"
        },
        {
         "name": "x18th.week",
         "rawType": "float64",
         "type": "float"
        },
        {
         "name": "x19th.week",
         "rawType": "float64",
         "type": "float"
        },
        {
         "name": "x20th.week",
         "rawType": "float64",
         "type": "float"
        },
        {
         "name": "x21st.week",
         "rawType": "float64",
         "type": "float"
        },
        {
         "name": "x22nd.week",
         "rawType": "float64",
         "type": "float"
        },
        {
         "name": "x23rd.week",
         "rawType": "float64",
         "type": "float"
        },
        {
         "name": "x24th.week",
         "rawType": "float64",
         "type": "float"
        },
        {
         "name": "x25th.week",
         "rawType": "float64",
         "type": "float"
        },
        {
         "name": "x26th.week",
         "rawType": "float64",
         "type": "float"
        },
        {
         "name": "x27th.week",
         "rawType": "float64",
         "type": "float"
        },
        {
         "name": "x28th.week",
         "rawType": "float64",
         "type": "float"
        },
        {
         "name": "x29th.week",
         "rawType": "float64",
         "type": "float"
        },
        {
         "name": "x30th.week",
         "rawType": "float64",
         "type": "float"
        },
        {
         "name": "x31st.week",
         "rawType": "float64",
         "type": "float"
        },
        {
         "name": "x32nd.week",
         "rawType": "float64",
         "type": "float"
        },
        {
         "name": "x33rd.week",
         "rawType": "float64",
         "type": "float"
        },
        {
         "name": "x34th.week",
         "rawType": "float64",
         "type": "float"
        },
        {
         "name": "x35th.week",
         "rawType": "float64",
         "type": "float"
        },
        {
         "name": "x36th.week",
         "rawType": "float64",
         "type": "float"
        },
        {
         "name": "x37th.week",
         "rawType": "float64",
         "type": "float"
        },
        {
         "name": "x38th.week",
         "rawType": "float64",
         "type": "float"
        },
        {
         "name": "x39th.week",
         "rawType": "float64",
         "type": "float"
        },
        {
         "name": "x40th.week",
         "rawType": "float64",
         "type": "float"
        },
        {
         "name": "x41st.week",
         "rawType": "float64",
         "type": "float"
        },
        {
         "name": "x42nd.week",
         "rawType": "float64",
         "type": "float"
        },
        {
         "name": "x43rd.week",
         "rawType": "float64",
         "type": "float"
        },
        {
         "name": "x44th.week",
         "rawType": "float64",
         "type": "float"
        },
        {
         "name": "x45th.week",
         "rawType": "float64",
         "type": "float"
        },
        {
         "name": "x46th.week",
         "rawType": "float64",
         "type": "float"
        },
        {
         "name": "x47th.week",
         "rawType": "float64",
         "type": "float"
        },
        {
         "name": "x48th.week",
         "rawType": "float64",
         "type": "float"
        },
        {
         "name": "x49th.week",
         "rawType": "float64",
         "type": "float"
        },
        {
         "name": "x50th.week",
         "rawType": "float64",
         "type": "float"
        },
        {
         "name": "x51st.week",
         "rawType": "float64",
         "type": "float"
        },
        {
         "name": "x52nd.week",
         "rawType": "float64",
         "type": "float"
        },
        {
         "name": "x53rd.week",
         "rawType": "float64",
         "type": "float"
        },
        {
         "name": "x54th.week",
         "rawType": "float64",
         "type": "float"
        },
        {
         "name": "x55th.week",
         "rawType": "float64",
         "type": "float"
        },
        {
         "name": "x56th.week",
         "rawType": "float64",
         "type": "float"
        },
        {
         "name": "x57th.week",
         "rawType": "float64",
         "type": "float"
        },
        {
         "name": "x58th.week",
         "rawType": "float64",
         "type": "float"
        },
        {
         "name": "x59th.week",
         "rawType": "float64",
         "type": "float"
        },
        {
         "name": "x60th.week",
         "rawType": "float64",
         "type": "float"
        },
        {
         "name": "x61st.week",
         "rawType": "float64",
         "type": "float"
        },
        {
         "name": "x62nd.week",
         "rawType": "float64",
         "type": "float"
        },
        {
         "name": "x63rd.week",
         "rawType": "float64",
         "type": "float"
        },
        {
         "name": "x64th.week",
         "rawType": "float64",
         "type": "float"
        },
        {
         "name": "x65th.week",
         "rawType": "float64",
         "type": "float"
        },
        {
         "name": "x66th.week",
         "rawType": "float64",
         "type": "float"
        },
        {
         "name": "x67th.week",
         "rawType": "float64",
         "type": "float"
        },
        {
         "name": "x68th.week",
         "rawType": "float64",
         "type": "float"
        },
        {
         "name": "x69th.week",
         "rawType": "float64",
         "type": "float"
        },
        {
         "name": "x70th.week",
         "rawType": "float64",
         "type": "float"
        },
        {
         "name": "x71st.week",
         "rawType": "float64",
         "type": "float"
        },
        {
         "name": "x72nd.week",
         "rawType": "float64",
         "type": "float"
        },
        {
         "name": "x73rd.week",
         "rawType": "float64",
         "type": "float"
        },
        {
         "name": "x74th.week",
         "rawType": "float64",
         "type": "float"
        },
        {
         "name": "x75th.week",
         "rawType": "float64",
         "type": "float"
        },
        {
         "name": "x76th.week",
         "rawType": "float64",
         "type": "float"
        }
       ],
       "ref": "c5bb63e9-5380-4469-9794-48eba31fc193",
       "rows": [
        [
         "0",
         "2000",
         "Destiny's Child",
         "Independent Women Part I",
         "3:38",
         "Rock",
         "2000-09-23",
         "2000-11-18",
         "78",
         "63.0",
         "49.0",
         "33.0",
         "23.0",
         "15.0",
         "7.0",
         "5.0",
         "1.0",
         "1.0",
         "1.0",
         "1.0",
         "1.0",
         "1.0",
         "1.0",
         "1.0",
         "1.0",
         "1.0",
         "1.0",
         "2.0",
         "3.0",
         "7.0",
         "10.0",
         "12.0",
         "15.0",
         "22.0",
         "29.0",
         "31.0",
         null,
         null,
         null,
         null,
         null,
         null,
         null,
         null,
         null,
         null,
         null,
         null,
         null,
         null,
         null,
         null,
         null,
         null,
         null,
         null,
         null,
         null,
         null,
         null,
         null,
         null,
         null,
         null,
         null,
         null,
         null,
         null,
         null,
         null,
         null,
         null,
         null,
         null,
         null,
         null,
         null,
         null,
         null,
         null,
         null,
         null,
         null,
         null
        ],
        [
         "1",
         "2000",
         "Santana",
         "Maria, Maria",
         "4:18",
         "Rock",
         "2000-02-12",
         "2000-04-08",
         "15",
         "8.0",
         "6.0",
         "5.0",
         "2.0",
         "3.0",
         "2.0",
         "2.0",
         "1.0",
         "1.0",
         "1.0",
         "1.0",
         "1.0",
         "1.0",
         "1.0",
         "1.0",
         "1.0",
         "1.0",
         "8.0",
         "15.0",
         "19.0",
         "21.0",
         "26.0",
         "36.0",
         "48.0",
         "47.0",
         null,
         null,
         null,
         null,
         null,
         null,
         null,
         null,
         null,
         null,
         null,
         null,
         null,
         null,
         null,
         null,
         null,
         null,
         null,
         null,
         null,
         null,
         null,
         null,
         null,
         null,
         null,
         null,
         null,
         null,
         null,
         null,
         null,
         null,
         null,
         null,
         null,
         null,
         null,
         null,
         null,
         null,
         null,
         null,
         null,
         null,
         null,
         null,
         null,
         null
        ],
        [
         "2",
         "2000",
         "Savage Garden",
         "I Knew I Loved You",
         "4:07",
         "Rock",
         "1999-10-23",
         "2000-01-29",
         "71",
         "48.0",
         "43.0",
         "31.0",
         "20.0",
         "13.0",
         "7.0",
         "6.0",
         "4.0",
         "4.0",
         "4.0",
         "6.0",
         "4.0",
         "2.0",
         "1.0",
         "1.0",
         "1.0",
         "2.0",
         "1.0",
         "2.0",
         "4.0",
         "8.0",
         "8.0",
         "12.0",
         "14.0",
         "17.0",
         "21.0",
         "24.0",
         "30.0",
         "34.0",
         "37.0",
         "46.0",
         "47.0",
         null,
         null,
         null,
         null,
         null,
         null,
         null,
         null,
         null,
         null,
         null,
         null,
         null,
         null,
         null,
         null,
         null,
         null,
         null,
         null,
         null,
         null,
         null,
         null,
         null,
         null,
         null,
         null,
         null,
         null,
         null,
         null,
         null,
         null,
         null,
         null,
         null,
         null,
         null,
         null,
         null,
         null,
         null
        ],
        [
         "3",
         "2000",
         "Madonna",
         "Music",
         "3:45",
         "Rock",
         "2000-08-12",
         "2000-09-16",
         "41",
         "23.0",
         "18.0",
         "14.0",
         "2.0",
         "1.0",
         "1.0",
         "1.0",
         "1.0",
         "2.0",
         "2.0",
         "2.0",
         "2.0",
         "2.0",
         "4.0",
         "8.0",
         "11.0",
         "16.0",
         "20.0",
         "25.0",
         "27.0",
         "27.0",
         "29.0",
         "44.0",
         null,
         null,
         null,
         null,
         null,
         null,
         null,
         null,
         null,
         null,
         null,
         null,
         null,
         null,
         null,
         null,
         null,
         null,
         null,
         null,
         null,
         null,
         null,
         null,
         null,
         null,
         null,
         null,
         null,
         null,
         null,
         null,
         null,
         null,
         null,
         null,
         null,
         null,
         null,
         null,
         null,
         null,
         null,
         null,
         null,
         null,
         null,
         null,
         null,
         null,
         null,
         null
        ],
        [
         "4",
         "2000",
         "Aguilera, Christina",
         "Come On Over Baby (All I Want Is You)",
         "3:38",
         "Rock",
         "2000-08-05",
         "2000-10-14",
         "57",
         "47.0",
         "45.0",
         "29.0",
         "23.0",
         "18.0",
         "11.0",
         "9.0",
         "9.0",
         "11.0",
         "1.0",
         "1.0",
         "1.0",
         "1.0",
         "4.0",
         "8.0",
         "12.0",
         "22.0",
         "23.0",
         "43.0",
         "44.0",
         null,
         null,
         null,
         null,
         null,
         null,
         null,
         null,
         null,
         null,
         null,
         null,
         null,
         null,
         null,
         null,
         null,
         null,
         null,
         null,
         null,
         null,
         null,
         null,
         null,
         null,
         null,
         null,
         null,
         null,
         null,
         null,
         null,
         null,
         null,
         null,
         null,
         null,
         null,
         null,
         null,
         null,
         null,
         null,
         null,
         null,
         null,
         null,
         null,
         null,
         null,
         null,
         null,
         null,
         null
        ]
       ],
       "shape": {
        "columns": 83,
        "rows": 5
       }
      },
      "text/html": [
       "<div>\n",
       "<style scoped>\n",
       "    .dataframe tbody tr th:only-of-type {\n",
       "        vertical-align: middle;\n",
       "    }\n",
       "\n",
       "    .dataframe tbody tr th {\n",
       "        vertical-align: top;\n",
       "    }\n",
       "\n",
       "    .dataframe thead th {\n",
       "        text-align: right;\n",
       "    }\n",
       "</style>\n",
       "<table border=\"1\" class=\"dataframe\">\n",
       "  <thead>\n",
       "    <tr style=\"text-align: right;\">\n",
       "      <th></th>\n",
       "      <th>year</th>\n",
       "      <th>artist.inverted</th>\n",
       "      <th>track</th>\n",
       "      <th>time</th>\n",
       "      <th>genre</th>\n",
       "      <th>date.entered</th>\n",
       "      <th>date.peaked</th>\n",
       "      <th>x1st.week</th>\n",
       "      <th>x2nd.week</th>\n",
       "      <th>x3rd.week</th>\n",
       "      <th>...</th>\n",
       "      <th>x67th.week</th>\n",
       "      <th>x68th.week</th>\n",
       "      <th>x69th.week</th>\n",
       "      <th>x70th.week</th>\n",
       "      <th>x71st.week</th>\n",
       "      <th>x72nd.week</th>\n",
       "      <th>x73rd.week</th>\n",
       "      <th>x74th.week</th>\n",
       "      <th>x75th.week</th>\n",
       "      <th>x76th.week</th>\n",
       "    </tr>\n",
       "  </thead>\n",
       "  <tbody>\n",
       "    <tr>\n",
       "      <th>0</th>\n",
       "      <td>2000</td>\n",
       "      <td>Destiny's Child</td>\n",
       "      <td>Independent Women Part I</td>\n",
       "      <td>3:38</td>\n",
       "      <td>Rock</td>\n",
       "      <td>2000-09-23</td>\n",
       "      <td>2000-11-18</td>\n",
       "      <td>78</td>\n",
       "      <td>63.0</td>\n",
       "      <td>49.0</td>\n",
       "      <td>...</td>\n",
       "      <td>NaN</td>\n",
       "      <td>NaN</td>\n",
       "      <td>NaN</td>\n",
       "      <td>NaN</td>\n",
       "      <td>NaN</td>\n",
       "      <td>NaN</td>\n",
       "      <td>NaN</td>\n",
       "      <td>NaN</td>\n",
       "      <td>NaN</td>\n",
       "      <td>NaN</td>\n",
       "    </tr>\n",
       "    <tr>\n",
       "      <th>1</th>\n",
       "      <td>2000</td>\n",
       "      <td>Santana</td>\n",
       "      <td>Maria, Maria</td>\n",
       "      <td>4:18</td>\n",
       "      <td>Rock</td>\n",
       "      <td>2000-02-12</td>\n",
       "      <td>2000-04-08</td>\n",
       "      <td>15</td>\n",
       "      <td>8.0</td>\n",
       "      <td>6.0</td>\n",
       "      <td>...</td>\n",
       "      <td>NaN</td>\n",
       "      <td>NaN</td>\n",
       "      <td>NaN</td>\n",
       "      <td>NaN</td>\n",
       "      <td>NaN</td>\n",
       "      <td>NaN</td>\n",
       "      <td>NaN</td>\n",
       "      <td>NaN</td>\n",
       "      <td>NaN</td>\n",
       "      <td>NaN</td>\n",
       "    </tr>\n",
       "    <tr>\n",
       "      <th>2</th>\n",
       "      <td>2000</td>\n",
       "      <td>Savage Garden</td>\n",
       "      <td>I Knew I Loved You</td>\n",
       "      <td>4:07</td>\n",
       "      <td>Rock</td>\n",
       "      <td>1999-10-23</td>\n",
       "      <td>2000-01-29</td>\n",
       "      <td>71</td>\n",
       "      <td>48.0</td>\n",
       "      <td>43.0</td>\n",
       "      <td>...</td>\n",
       "      <td>NaN</td>\n",
       "      <td>NaN</td>\n",
       "      <td>NaN</td>\n",
       "      <td>NaN</td>\n",
       "      <td>NaN</td>\n",
       "      <td>NaN</td>\n",
       "      <td>NaN</td>\n",
       "      <td>NaN</td>\n",
       "      <td>NaN</td>\n",
       "      <td>NaN</td>\n",
       "    </tr>\n",
       "    <tr>\n",
       "      <th>3</th>\n",
       "      <td>2000</td>\n",
       "      <td>Madonna</td>\n",
       "      <td>Music</td>\n",
       "      <td>3:45</td>\n",
       "      <td>Rock</td>\n",
       "      <td>2000-08-12</td>\n",
       "      <td>2000-09-16</td>\n",
       "      <td>41</td>\n",
       "      <td>23.0</td>\n",
       "      <td>18.0</td>\n",
       "      <td>...</td>\n",
       "      <td>NaN</td>\n",
       "      <td>NaN</td>\n",
       "      <td>NaN</td>\n",
       "      <td>NaN</td>\n",
       "      <td>NaN</td>\n",
       "      <td>NaN</td>\n",
       "      <td>NaN</td>\n",
       "      <td>NaN</td>\n",
       "      <td>NaN</td>\n",
       "      <td>NaN</td>\n",
       "    </tr>\n",
       "    <tr>\n",
       "      <th>4</th>\n",
       "      <td>2000</td>\n",
       "      <td>Aguilera, Christina</td>\n",
       "      <td>Come On Over Baby (All I Want Is You)</td>\n",
       "      <td>3:38</td>\n",
       "      <td>Rock</td>\n",
       "      <td>2000-08-05</td>\n",
       "      <td>2000-10-14</td>\n",
       "      <td>57</td>\n",
       "      <td>47.0</td>\n",
       "      <td>45.0</td>\n",
       "      <td>...</td>\n",
       "      <td>NaN</td>\n",
       "      <td>NaN</td>\n",
       "      <td>NaN</td>\n",
       "      <td>NaN</td>\n",
       "      <td>NaN</td>\n",
       "      <td>NaN</td>\n",
       "      <td>NaN</td>\n",
       "      <td>NaN</td>\n",
       "      <td>NaN</td>\n",
       "      <td>NaN</td>\n",
       "    </tr>\n",
       "  </tbody>\n",
       "</table>\n",
       "<p>5 rows × 83 columns</p>\n",
       "</div>"
      ],
      "text/plain": [
       "   year      artist.inverted                                  track  time  \\\n",
       "0  2000      Destiny's Child               Independent Women Part I  3:38   \n",
       "1  2000              Santana                           Maria, Maria  4:18   \n",
       "2  2000        Savage Garden                     I Knew I Loved You  4:07   \n",
       "3  2000              Madonna                                  Music  3:45   \n",
       "4  2000  Aguilera, Christina  Come On Over Baby (All I Want Is You)  3:38   \n",
       "\n",
       "  genre date.entered date.peaked  x1st.week  x2nd.week  x3rd.week  ...  \\\n",
       "0  Rock   2000-09-23  2000-11-18         78       63.0       49.0  ...   \n",
       "1  Rock   2000-02-12  2000-04-08         15        8.0        6.0  ...   \n",
       "2  Rock   1999-10-23  2000-01-29         71       48.0       43.0  ...   \n",
       "3  Rock   2000-08-12  2000-09-16         41       23.0       18.0  ...   \n",
       "4  Rock   2000-08-05  2000-10-14         57       47.0       45.0  ...   \n",
       "\n",
       "   x67th.week  x68th.week  x69th.week  x70th.week  x71st.week  x72nd.week  \\\n",
       "0         NaN         NaN         NaN         NaN         NaN         NaN   \n",
       "1         NaN         NaN         NaN         NaN         NaN         NaN   \n",
       "2         NaN         NaN         NaN         NaN         NaN         NaN   \n",
       "3         NaN         NaN         NaN         NaN         NaN         NaN   \n",
       "4         NaN         NaN         NaN         NaN         NaN         NaN   \n",
       "\n",
       "   x73rd.week  x74th.week  x75th.week  x76th.week  \n",
       "0         NaN         NaN         NaN         NaN  \n",
       "1         NaN         NaN         NaN         NaN  \n",
       "2         NaN         NaN         NaN         NaN  \n",
       "3         NaN         NaN         NaN         NaN  \n",
       "4         NaN         NaN         NaN         NaN  \n",
       "\n",
       "[5 rows x 83 columns]"
      ]
     },
     "execution_count": 9,
     "metadata": {},
     "output_type": "execute_result"
    }
   ],
   "source": [
    "billboard_df.head()"
   ]
  },
  {
   "attachments": {},
   "cell_type": "markdown",
   "metadata": {},
   "source": [
    "***What is wrong with the above dataset?***"
   ]
  },
  {
   "attachments": {},
   "cell_type": "markdown",
   "metadata": {},
   "source": [
    "3. Let's, again, use the `melt` function to fix the general structure of the dataframe."
   ]
  },
  {
   "cell_type": "code",
   "execution_count": 10,
   "metadata": {},
   "outputs": [
    {
     "data": {
      "application/vnd.microsoft.datawrangler.viewer.v0+json": {
       "columns": [
        {
         "name": "index",
         "rawType": "int64",
         "type": "integer"
        },
        {
         "name": "year",
         "rawType": "int64",
         "type": "integer"
        },
        {
         "name": "artist.inverted",
         "rawType": "object",
         "type": "string"
        },
        {
         "name": "track",
         "rawType": "object",
         "type": "string"
        },
        {
         "name": "time",
         "rawType": "object",
         "type": "string"
        },
        {
         "name": "genre",
         "rawType": "object",
         "type": "string"
        },
        {
         "name": "date.entered",
         "rawType": "object",
         "type": "string"
        },
        {
         "name": "date.peaked",
         "rawType": "object",
         "type": "string"
        },
        {
         "name": "week",
         "rawType": "object",
         "type": "string"
        },
        {
         "name": "rank",
         "rawType": "float64",
         "type": "float"
        }
       ],
       "ref": "ebc09613-b385-4390-9e75-e8415effcfe5",
       "rows": [
        [
         "0",
         "2000",
         "Destiny's Child",
         "Independent Women Part I",
         "3:38",
         "Rock",
         "2000-09-23",
         "2000-11-18",
         "x1st.week",
         "78.0"
        ],
        [
         "1",
         "2000",
         "Santana",
         "Maria, Maria",
         "4:18",
         "Rock",
         "2000-02-12",
         "2000-04-08",
         "x1st.week",
         "15.0"
        ],
        [
         "2",
         "2000",
         "Savage Garden",
         "I Knew I Loved You",
         "4:07",
         "Rock",
         "1999-10-23",
         "2000-01-29",
         "x1st.week",
         "71.0"
        ],
        [
         "3",
         "2000",
         "Madonna",
         "Music",
         "3:45",
         "Rock",
         "2000-08-12",
         "2000-09-16",
         "x1st.week",
         "41.0"
        ],
        [
         "4",
         "2000",
         "Aguilera, Christina",
         "Come On Over Baby (All I Want Is You)",
         "3:38",
         "Rock",
         "2000-08-05",
         "2000-10-14",
         "x1st.week",
         "57.0"
        ],
        [
         "5",
         "2000",
         "Janet",
         "Doesn't Really Matter",
         "4:17",
         "Rock",
         "2000-06-17",
         "2000-08-26",
         "x1st.week",
         "59.0"
        ],
        [
         "6",
         "2000",
         "Destiny's Child",
         "Say My Name",
         "4:31",
         "Rock",
         "1999-12-25",
         "2000-03-18",
         "x1st.week",
         "83.0"
        ],
        [
         "7",
         "2000",
         "Iglesias, Enrique",
         "Be With You",
         "3:36",
         "Latin",
         "2000-04-01",
         "2000-06-24",
         "x1st.week",
         "63.0"
        ],
        [
         "8",
         "2000",
         "Sisqo",
         "Incomplete",
         "3:52",
         "Rock",
         "2000-06-24",
         "2000-08-12",
         "x1st.week",
         "77.0"
        ],
        [
         "9",
         "2000",
         "Lonestar",
         "Amazed",
         "4:25",
         "Country",
         "1999-06-05",
         "2000-03-04",
         "x1st.week",
         "81.0"
        ]
       ],
       "shape": {
        "columns": 9,
        "rows": 10
       }
      },
      "text/html": [
       "<div>\n",
       "<style scoped>\n",
       "    .dataframe tbody tr th:only-of-type {\n",
       "        vertical-align: middle;\n",
       "    }\n",
       "\n",
       "    .dataframe tbody tr th {\n",
       "        vertical-align: top;\n",
       "    }\n",
       "\n",
       "    .dataframe thead th {\n",
       "        text-align: right;\n",
       "    }\n",
       "</style>\n",
       "<table border=\"1\" class=\"dataframe\">\n",
       "  <thead>\n",
       "    <tr style=\"text-align: right;\">\n",
       "      <th></th>\n",
       "      <th>year</th>\n",
       "      <th>artist.inverted</th>\n",
       "      <th>track</th>\n",
       "      <th>time</th>\n",
       "      <th>genre</th>\n",
       "      <th>date.entered</th>\n",
       "      <th>date.peaked</th>\n",
       "      <th>week</th>\n",
       "      <th>rank</th>\n",
       "    </tr>\n",
       "  </thead>\n",
       "  <tbody>\n",
       "    <tr>\n",
       "      <th>0</th>\n",
       "      <td>2000</td>\n",
       "      <td>Destiny's Child</td>\n",
       "      <td>Independent Women Part I</td>\n",
       "      <td>3:38</td>\n",
       "      <td>Rock</td>\n",
       "      <td>2000-09-23</td>\n",
       "      <td>2000-11-18</td>\n",
       "      <td>x1st.week</td>\n",
       "      <td>78.0</td>\n",
       "    </tr>\n",
       "    <tr>\n",
       "      <th>1</th>\n",
       "      <td>2000</td>\n",
       "      <td>Santana</td>\n",
       "      <td>Maria, Maria</td>\n",
       "      <td>4:18</td>\n",
       "      <td>Rock</td>\n",
       "      <td>2000-02-12</td>\n",
       "      <td>2000-04-08</td>\n",
       "      <td>x1st.week</td>\n",
       "      <td>15.0</td>\n",
       "    </tr>\n",
       "    <tr>\n",
       "      <th>2</th>\n",
       "      <td>2000</td>\n",
       "      <td>Savage Garden</td>\n",
       "      <td>I Knew I Loved You</td>\n",
       "      <td>4:07</td>\n",
       "      <td>Rock</td>\n",
       "      <td>1999-10-23</td>\n",
       "      <td>2000-01-29</td>\n",
       "      <td>x1st.week</td>\n",
       "      <td>71.0</td>\n",
       "    </tr>\n",
       "    <tr>\n",
       "      <th>3</th>\n",
       "      <td>2000</td>\n",
       "      <td>Madonna</td>\n",
       "      <td>Music</td>\n",
       "      <td>3:45</td>\n",
       "      <td>Rock</td>\n",
       "      <td>2000-08-12</td>\n",
       "      <td>2000-09-16</td>\n",
       "      <td>x1st.week</td>\n",
       "      <td>41.0</td>\n",
       "    </tr>\n",
       "    <tr>\n",
       "      <th>4</th>\n",
       "      <td>2000</td>\n",
       "      <td>Aguilera, Christina</td>\n",
       "      <td>Come On Over Baby (All I Want Is You)</td>\n",
       "      <td>3:38</td>\n",
       "      <td>Rock</td>\n",
       "      <td>2000-08-05</td>\n",
       "      <td>2000-10-14</td>\n",
       "      <td>x1st.week</td>\n",
       "      <td>57.0</td>\n",
       "    </tr>\n",
       "    <tr>\n",
       "      <th>5</th>\n",
       "      <td>2000</td>\n",
       "      <td>Janet</td>\n",
       "      <td>Doesn't Really Matter</td>\n",
       "      <td>4:17</td>\n",
       "      <td>Rock</td>\n",
       "      <td>2000-06-17</td>\n",
       "      <td>2000-08-26</td>\n",
       "      <td>x1st.week</td>\n",
       "      <td>59.0</td>\n",
       "    </tr>\n",
       "    <tr>\n",
       "      <th>6</th>\n",
       "      <td>2000</td>\n",
       "      <td>Destiny's Child</td>\n",
       "      <td>Say My Name</td>\n",
       "      <td>4:31</td>\n",
       "      <td>Rock</td>\n",
       "      <td>1999-12-25</td>\n",
       "      <td>2000-03-18</td>\n",
       "      <td>x1st.week</td>\n",
       "      <td>83.0</td>\n",
       "    </tr>\n",
       "    <tr>\n",
       "      <th>7</th>\n",
       "      <td>2000</td>\n",
       "      <td>Iglesias, Enrique</td>\n",
       "      <td>Be With You</td>\n",
       "      <td>3:36</td>\n",
       "      <td>Latin</td>\n",
       "      <td>2000-04-01</td>\n",
       "      <td>2000-06-24</td>\n",
       "      <td>x1st.week</td>\n",
       "      <td>63.0</td>\n",
       "    </tr>\n",
       "    <tr>\n",
       "      <th>8</th>\n",
       "      <td>2000</td>\n",
       "      <td>Sisqo</td>\n",
       "      <td>Incomplete</td>\n",
       "      <td>3:52</td>\n",
       "      <td>Rock</td>\n",
       "      <td>2000-06-24</td>\n",
       "      <td>2000-08-12</td>\n",
       "      <td>x1st.week</td>\n",
       "      <td>77.0</td>\n",
       "    </tr>\n",
       "    <tr>\n",
       "      <th>9</th>\n",
       "      <td>2000</td>\n",
       "      <td>Lonestar</td>\n",
       "      <td>Amazed</td>\n",
       "      <td>4:25</td>\n",
       "      <td>Country</td>\n",
       "      <td>1999-06-05</td>\n",
       "      <td>2000-03-04</td>\n",
       "      <td>x1st.week</td>\n",
       "      <td>81.0</td>\n",
       "    </tr>\n",
       "  </tbody>\n",
       "</table>\n",
       "</div>"
      ],
      "text/plain": [
       "   year      artist.inverted                                  track  time  \\\n",
       "0  2000      Destiny's Child               Independent Women Part I  3:38   \n",
       "1  2000              Santana                           Maria, Maria  4:18   \n",
       "2  2000        Savage Garden                     I Knew I Loved You  4:07   \n",
       "3  2000              Madonna                                  Music  3:45   \n",
       "4  2000  Aguilera, Christina  Come On Over Baby (All I Want Is You)  3:38   \n",
       "5  2000                Janet                  Doesn't Really Matter  4:17   \n",
       "6  2000      Destiny's Child                            Say My Name  4:31   \n",
       "7  2000    Iglesias, Enrique                            Be With You  3:36   \n",
       "8  2000                Sisqo                             Incomplete  3:52   \n",
       "9  2000             Lonestar                                 Amazed  4:25   \n",
       "\n",
       "     genre date.entered date.peaked       week  rank  \n",
       "0     Rock   2000-09-23  2000-11-18  x1st.week  78.0  \n",
       "1     Rock   2000-02-12  2000-04-08  x1st.week  15.0  \n",
       "2     Rock   1999-10-23  2000-01-29  x1st.week  71.0  \n",
       "3     Rock   2000-08-12  2000-09-16  x1st.week  41.0  \n",
       "4     Rock   2000-08-05  2000-10-14  x1st.week  57.0  \n",
       "5     Rock   2000-06-17  2000-08-26  x1st.week  59.0  \n",
       "6     Rock   1999-12-25  2000-03-18  x1st.week  83.0  \n",
       "7    Latin   2000-04-01  2000-06-24  x1st.week  63.0  \n",
       "8     Rock   2000-06-24  2000-08-12  x1st.week  77.0  \n",
       "9  Country   1999-06-05  2000-03-04  x1st.week  81.0  "
      ]
     },
     "metadata": {},
     "output_type": "display_data"
    }
   ],
   "source": [
    "# we will use regex to pick columns\n",
    "import re\n",
    "\n",
    "# pick columns with a regex pattern\n",
    "week_cols = [c for c in billboard_df.columns\n",
    "             if re.fullmatch(r'^x\\d+(st|nd|rd|th)\\.week$', c)]\n",
    "\n",
    "df_long = billboard_df.melt(\n",
    "    id_vars=[\n",
    "        \"year\",\"artist.inverted\",\"track\",\"time\",\"genre\",\n",
    "        \"date.entered\",\"date.peaked\"\n",
    "    ],\n",
    "    value_vars=week_cols,\n",
    "    var_name=\"week\",\n",
    "    value_name=\"rank\"\n",
    ")\n",
    "\n",
    "\n",
    "# display the first 10 rows of the long format dataframe\n",
    "display(df_long.head(10))\n"
   ]
  },
  {
   "attachments": {},
   "cell_type": "markdown",
   "metadata": {},
   "source": [
    "If we inspect the current dataframe. We find that it is structured in a better way than before. \n",
    "\n",
    "However, the ***Week*** column looks a bit ugly!\n",
    "\n",
    "4. Let's try to place only the week number in that column without the extras surronding it."
   ]
  },
  {
   "cell_type": "code",
   "execution_count": 11,
   "metadata": {},
   "outputs": [
    {
     "data": {
      "application/vnd.microsoft.datawrangler.viewer.v0+json": {
       "columns": [
        {
         "name": "index",
         "rawType": "int64",
         "type": "integer"
        },
        {
         "name": "year",
         "rawType": "int64",
         "type": "integer"
        },
        {
         "name": "artist.inverted",
         "rawType": "object",
         "type": "string"
        },
        {
         "name": "track",
         "rawType": "object",
         "type": "string"
        },
        {
         "name": "time",
         "rawType": "object",
         "type": "string"
        },
        {
         "name": "genre",
         "rawType": "object",
         "type": "string"
        },
        {
         "name": "date.entered",
         "rawType": "object",
         "type": "string"
        },
        {
         "name": "date.peaked",
         "rawType": "object",
         "type": "string"
        },
        {
         "name": "week",
         "rawType": "int64",
         "type": "integer"
        },
        {
         "name": "rank",
         "rawType": "float64",
         "type": "float"
        }
       ],
       "ref": "1204dbb9-fc5b-4d51-a793-4dcea39cf2fb",
       "rows": [
        [
         "0",
         "2000",
         "Destiny's Child",
         "Independent Women Part I",
         "3:38",
         "Rock",
         "2000-09-23",
         "2000-11-18",
         "1",
         "78.0"
        ],
        [
         "1",
         "2000",
         "Santana",
         "Maria, Maria",
         "4:18",
         "Rock",
         "2000-02-12",
         "2000-04-08",
         "1",
         "15.0"
        ],
        [
         "2",
         "2000",
         "Savage Garden",
         "I Knew I Loved You",
         "4:07",
         "Rock",
         "1999-10-23",
         "2000-01-29",
         "1",
         "71.0"
        ],
        [
         "3",
         "2000",
         "Madonna",
         "Music",
         "3:45",
         "Rock",
         "2000-08-12",
         "2000-09-16",
         "1",
         "41.0"
        ],
        [
         "4",
         "2000",
         "Aguilera, Christina",
         "Come On Over Baby (All I Want Is You)",
         "3:38",
         "Rock",
         "2000-08-05",
         "2000-10-14",
         "1",
         "57.0"
        ],
        [
         "5",
         "2000",
         "Janet",
         "Doesn't Really Matter",
         "4:17",
         "Rock",
         "2000-06-17",
         "2000-08-26",
         "1",
         "59.0"
        ],
        [
         "6",
         "2000",
         "Destiny's Child",
         "Say My Name",
         "4:31",
         "Rock",
         "1999-12-25",
         "2000-03-18",
         "1",
         "83.0"
        ],
        [
         "7",
         "2000",
         "Iglesias, Enrique",
         "Be With You",
         "3:36",
         "Latin",
         "2000-04-01",
         "2000-06-24",
         "1",
         "63.0"
        ],
        [
         "8",
         "2000",
         "Sisqo",
         "Incomplete",
         "3:52",
         "Rock",
         "2000-06-24",
         "2000-08-12",
         "1",
         "77.0"
        ],
        [
         "9",
         "2000",
         "Lonestar",
         "Amazed",
         "4:25",
         "Country",
         "1999-06-05",
         "2000-03-04",
         "1",
         "81.0"
        ],
        [
         "10",
         "2000",
         "N'Sync",
         "It's Gonna Be Me",
         "3:10",
         "Rock",
         "2000-05-06",
         "2000-07-29",
         "1",
         "82.0"
        ],
        [
         "11",
         "2000",
         "Aguilera, Christina",
         "What A Girl Wants",
         "3:18",
         "Rock",
         "1999-11-27",
         "2000-01-15",
         "1",
         "71.0"
        ],
        [
         "12",
         "2000",
         "Vertical Horizon",
         "Everything You Want",
         "4:01",
         "Rock",
         "2000-01-22",
         "2000-07-15",
         "1",
         "70.0"
        ],
        [
         "13",
         "2000",
         "Creed",
         "With Arms Wide Open",
         "3:52",
         "Rock",
         "2000-05-13",
         "2000-11-11",
         "1",
         "84.0"
        ],
        [
         "14",
         "2000",
         "Aaliyah",
         "Try Again",
         "4:03",
         "Rock",
         "2000-03-18",
         "2000-06-17",
         "1",
         "59.0"
        ],
        [
         "15",
         "2000",
         "matchbox twenty",
         "Bent",
         "4:12",
         "Rock",
         "2000-04-29",
         "2000-07-22",
         "1",
         "60.0"
        ],
        [
         "16",
         "2000",
         "Carey, Mariah",
         "Thank God I Found You",
         "4:14",
         "Rock",
         "1999-12-11",
         "2000-02-19",
         "1",
         "82.0"
        ],
        [
         "17",
         "2000",
         "Hill, Faith",
         "Breathe",
         "4:04",
         "Rap",
         "1999-11-06",
         "2000-04-22",
         "1",
         "81.0"
        ],
        [
         "18",
         "2000",
         "Mya",
         "Case Of The Ex (Whatcha Gonna Do)",
         "3:50",
         "Rock",
         "2000-08-19",
         "2000-12-02",
         "1",
         "72.0"
        ],
        [
         "19",
         "2000",
         "Dream",
         "He Loves U Not",
         "3:43",
         "Rock",
         "2000-09-30",
         "2000-12-30",
         "1",
         "99.0"
        ],
        [
         "20",
         "2000",
         "Braxton, Toni",
         "He Wasn't Man Enough",
         "4:21",
         "Rock",
         "2000-03-18",
         "2000-05-06",
         "1",
         "63.0"
        ],
        [
         "21",
         "2000",
         "Anthony, Marc",
         "You Sang To Me",
         "3:50",
         "Latin",
         "2000-02-26",
         "2000-06-03",
         "1",
         "77.0"
        ],
        [
         "22",
         "2000",
         "98¡",
         "Give Me Just One Night (Una Noche)",
         "3:24",
         "Rock",
         "2000-08-19",
         "2000-09-30",
         "1",
         "51.0"
        ],
        [
         "23",
         "2000",
         "Destiny's Child",
         "Jumpin' Jumpin'",
         "3:48",
         "Rock",
         "2000-05-13",
         "2000-08-19",
         "1",
         "74.0"
        ],
        [
         "24",
         "2000",
         "3 Doors Down",
         "Kryptonite",
         "3:53",
         "Rock",
         "2000-04-08",
         "2000-11-11",
         "1",
         "81.0"
        ],
        [
         "25",
         "2000",
         "Sisqo",
         "Thong Song",
         "4:05",
         "Rock",
         "2000-01-29",
         "2000-05-20",
         "1",
         "74.0"
        ],
        [
         "26",
         "2000",
         "Aguilera, Christina",
         "I Turn To You",
         "4:00",
         "Rock",
         "2000-04-15",
         "2000-07-01",
         "1",
         "50.0"
        ],
        [
         "27",
         "2000",
         "Houston, Whitney",
         "My Love Is Your Love",
         "4:16",
         "Rock",
         "1999-09-04",
         "2000-01-08",
         "1",
         "81.0"
        ],
        [
         "28",
         "2000",
         "Joe",
         "I Wanna Know",
         "4:57",
         "Rock",
         "2000-01-01",
         "2000-07-01",
         "1",
         "94.0"
        ],
        [
         "29",
         "2000",
         "Jordan, Montell",
         "Get It On.. Tonite",
         "4:34",
         "Rap",
         "1999-10-23",
         "2000-02-12",
         "1",
         "92.0"
        ],
        [
         "30",
         "2000",
         "N'Sync",
         "Bye Bye Bye",
         "3:15",
         "Rock",
         "2000-01-29",
         "2000-04-15",
         "1",
         "42.0"
        ],
        [
         "31",
         "2000",
         "Eminem",
         "The Real Slim Shady",
         "4:42",
         "Rap",
         "2000-05-06",
         "2000-06-24",
         "1",
         "70.0"
        ],
        [
         "32",
         "2000",
         "Pink",
         "Most Girls",
         "4:06",
         "Rock",
         "2000-08-12",
         "2000-11-25",
         "1",
         "85.0"
        ],
        [
         "33",
         "2000",
         "Mumba, Samantha",
         "Gotta Tell You",
         "3:19",
         "Rock",
         "2000-09-09",
         "2000-12-09",
         "1",
         "85.0"
        ],
        [
         "34",
         "2000",
         "Blaque",
         "Bring It All To Me",
         "3:46",
         "Pop",
         "1999-10-23",
         "2000-01-22",
         "1",
         "73.0"
        ],
        [
         "35",
         "2000",
         "Elliott, Missy \"Misdemeanor\"",
         "Hot Boyz",
         "3:51",
         "Rap",
         "1999-11-27",
         "2000-01-08",
         "1",
         "36.0"
        ],
        [
         "36",
         "2000",
         "Gray, Macy",
         "I Try",
         "3:52",
         "Rock",
         "2000-02-19",
         "2000-05-20",
         "1",
         "68.0"
        ],
        [
         "37",
         "2000",
         "N'Sync",
         "This I Promise You",
         "4:23",
         "Rock",
         "2000-09-30",
         "2000-12-02",
         "1",
         "68.0"
        ],
        [
         "38",
         "2000",
         "Ruff Endz",
         "No More",
         "3:56",
         "Rock",
         "2000-07-01",
         "2000-09-02",
         "1",
         "76.0"
        ],
        [
         "39",
         "2000",
         "Backstreet Boys, The",
         "Show Me The Meaning Of Being Lonely",
         "3:54",
         "Rock",
         "2000-01-01",
         "2000-03-18",
         "1",
         "74.0"
        ],
        [
         "40",
         "2000",
         "Nine Days",
         "Absolutely (Story Of A Girl)",
         "3:09",
         "Rock",
         "2000-05-06",
         "2000-07-22",
         "1",
         "85.0"
        ],
        [
         "41",
         "2000",
         "Dion, Celine",
         "That's The Way It Is",
         "4:03",
         "Rock",
         "1999-11-13",
         "2000-03-04",
         "1",
         "74.0"
        ],
        [
         "42",
         "2000",
         "Blink-182",
         "All The Small Things",
         "2:52",
         "Rock",
         "1999-12-04",
         "2000-02-19",
         "1",
         "89.0"
        ],
        [
         "43",
         "2000",
         "Eiffel 65",
         "Blue (Da Ba Dee)",
         "3:29",
         "Electronica",
         "1999-12-11",
         "2000-01-29",
         "1",
         "67.0"
        ],
        [
         "44",
         "2000",
         "Badu, Erkyah",
         "Bag Lady",
         "5:03",
         "Rock",
         "2000-08-19",
         "2000-10-07",
         "1",
         "67.0"
        ],
        [
         "45",
         "2000",
         "Pink",
         "There U Go",
         "3:23",
         "Rock",
         "2000-03-04",
         "2000-04-08",
         "1",
         "25.0"
        ],
        [
         "46",
         "2000",
         "Creed",
         "Higher",
         "5:16",
         "Rock",
         "1999-09-11",
         "2000-07-22",
         "1",
         "81.0"
        ],
        [
         "47",
         "2000",
         "Nelly",
         "(Hot S**t) Country Grammar",
         "4:17",
         "Rap",
         "2000-04-29",
         "2000-09-16",
         "1",
         "100.0"
        ],
        [
         "48",
         "2000",
         "Next",
         "Wifey",
         "4:03",
         "Rock",
         "2000-05-27",
         "2000-09-09",
         "1",
         "85.0"
        ],
        [
         "49",
         "2000",
         "Kenny G",
         "Auld Lang Syne (The Millenium Mix)",
         "7:50",
         "Jazz",
         "1999-12-25",
         "2000-01-08",
         "1",
         "89.0"
        ]
       ],
       "shape": {
        "columns": 9,
        "rows": 24092
       }
      },
      "text/html": [
       "<div>\n",
       "<style scoped>\n",
       "    .dataframe tbody tr th:only-of-type {\n",
       "        vertical-align: middle;\n",
       "    }\n",
       "\n",
       "    .dataframe tbody tr th {\n",
       "        vertical-align: top;\n",
       "    }\n",
       "\n",
       "    .dataframe thead th {\n",
       "        text-align: right;\n",
       "    }\n",
       "</style>\n",
       "<table border=\"1\" class=\"dataframe\">\n",
       "  <thead>\n",
       "    <tr style=\"text-align: right;\">\n",
       "      <th></th>\n",
       "      <th>year</th>\n",
       "      <th>artist.inverted</th>\n",
       "      <th>track</th>\n",
       "      <th>time</th>\n",
       "      <th>genre</th>\n",
       "      <th>date.entered</th>\n",
       "      <th>date.peaked</th>\n",
       "      <th>week</th>\n",
       "      <th>rank</th>\n",
       "    </tr>\n",
       "  </thead>\n",
       "  <tbody>\n",
       "    <tr>\n",
       "      <th>0</th>\n",
       "      <td>2000</td>\n",
       "      <td>Destiny's Child</td>\n",
       "      <td>Independent Women Part I</td>\n",
       "      <td>3:38</td>\n",
       "      <td>Rock</td>\n",
       "      <td>2000-09-23</td>\n",
       "      <td>2000-11-18</td>\n",
       "      <td>1</td>\n",
       "      <td>78.0</td>\n",
       "    </tr>\n",
       "    <tr>\n",
       "      <th>1</th>\n",
       "      <td>2000</td>\n",
       "      <td>Santana</td>\n",
       "      <td>Maria, Maria</td>\n",
       "      <td>4:18</td>\n",
       "      <td>Rock</td>\n",
       "      <td>2000-02-12</td>\n",
       "      <td>2000-04-08</td>\n",
       "      <td>1</td>\n",
       "      <td>15.0</td>\n",
       "    </tr>\n",
       "    <tr>\n",
       "      <th>2</th>\n",
       "      <td>2000</td>\n",
       "      <td>Savage Garden</td>\n",
       "      <td>I Knew I Loved You</td>\n",
       "      <td>4:07</td>\n",
       "      <td>Rock</td>\n",
       "      <td>1999-10-23</td>\n",
       "      <td>2000-01-29</td>\n",
       "      <td>1</td>\n",
       "      <td>71.0</td>\n",
       "    </tr>\n",
       "    <tr>\n",
       "      <th>3</th>\n",
       "      <td>2000</td>\n",
       "      <td>Madonna</td>\n",
       "      <td>Music</td>\n",
       "      <td>3:45</td>\n",
       "      <td>Rock</td>\n",
       "      <td>2000-08-12</td>\n",
       "      <td>2000-09-16</td>\n",
       "      <td>1</td>\n",
       "      <td>41.0</td>\n",
       "    </tr>\n",
       "    <tr>\n",
       "      <th>4</th>\n",
       "      <td>2000</td>\n",
       "      <td>Aguilera, Christina</td>\n",
       "      <td>Come On Over Baby (All I Want Is You)</td>\n",
       "      <td>3:38</td>\n",
       "      <td>Rock</td>\n",
       "      <td>2000-08-05</td>\n",
       "      <td>2000-10-14</td>\n",
       "      <td>1</td>\n",
       "      <td>57.0</td>\n",
       "    </tr>\n",
       "    <tr>\n",
       "      <th>...</th>\n",
       "      <td>...</td>\n",
       "      <td>...</td>\n",
       "      <td>...</td>\n",
       "      <td>...</td>\n",
       "      <td>...</td>\n",
       "      <td>...</td>\n",
       "      <td>...</td>\n",
       "      <td>...</td>\n",
       "      <td>...</td>\n",
       "    </tr>\n",
       "    <tr>\n",
       "      <th>24087</th>\n",
       "      <td>2000</td>\n",
       "      <td>Ghostface Killah</td>\n",
       "      <td>Cherchez LaGhost</td>\n",
       "      <td>3:04</td>\n",
       "      <td>R&amp;B</td>\n",
       "      <td>2000-08-05</td>\n",
       "      <td>2000-08-05</td>\n",
       "      <td>76</td>\n",
       "      <td>NaN</td>\n",
       "    </tr>\n",
       "    <tr>\n",
       "      <th>24088</th>\n",
       "      <td>2000</td>\n",
       "      <td>Smith, Will</td>\n",
       "      <td>Freakin' It</td>\n",
       "      <td>3:58</td>\n",
       "      <td>Rap</td>\n",
       "      <td>2000-02-12</td>\n",
       "      <td>2000-02-12</td>\n",
       "      <td>76</td>\n",
       "      <td>NaN</td>\n",
       "    </tr>\n",
       "    <tr>\n",
       "      <th>24089</th>\n",
       "      <td>2000</td>\n",
       "      <td>Zombie Nation</td>\n",
       "      <td>Kernkraft 400</td>\n",
       "      <td>3:30</td>\n",
       "      <td>Rock</td>\n",
       "      <td>2000-09-02</td>\n",
       "      <td>2000-09-02</td>\n",
       "      <td>76</td>\n",
       "      <td>NaN</td>\n",
       "    </tr>\n",
       "    <tr>\n",
       "      <th>24090</th>\n",
       "      <td>2000</td>\n",
       "      <td>Eastsidaz, The</td>\n",
       "      <td>Got Beef</td>\n",
       "      <td>3:58</td>\n",
       "      <td>Rap</td>\n",
       "      <td>2000-07-01</td>\n",
       "      <td>2000-07-01</td>\n",
       "      <td>76</td>\n",
       "      <td>NaN</td>\n",
       "    </tr>\n",
       "    <tr>\n",
       "      <th>24091</th>\n",
       "      <td>2000</td>\n",
       "      <td>Fragma</td>\n",
       "      <td>Toca's Miracle</td>\n",
       "      <td>3:22</td>\n",
       "      <td>R&amp;B</td>\n",
       "      <td>2000-10-28</td>\n",
       "      <td>2000-10-28</td>\n",
       "      <td>76</td>\n",
       "      <td>NaN</td>\n",
       "    </tr>\n",
       "  </tbody>\n",
       "</table>\n",
       "<p>24092 rows × 9 columns</p>\n",
       "</div>"
      ],
      "text/plain": [
       "       year      artist.inverted                                  track  time  \\\n",
       "0      2000      Destiny's Child               Independent Women Part I  3:38   \n",
       "1      2000              Santana                           Maria, Maria  4:18   \n",
       "2      2000        Savage Garden                     I Knew I Loved You  4:07   \n",
       "3      2000              Madonna                                  Music  3:45   \n",
       "4      2000  Aguilera, Christina  Come On Over Baby (All I Want Is You)  3:38   \n",
       "...     ...                  ...                                    ...   ...   \n",
       "24087  2000     Ghostface Killah                       Cherchez LaGhost  3:04   \n",
       "24088  2000          Smith, Will                            Freakin' It  3:58   \n",
       "24089  2000        Zombie Nation                          Kernkraft 400  3:30   \n",
       "24090  2000       Eastsidaz, The                               Got Beef  3:58   \n",
       "24091  2000               Fragma                         Toca's Miracle  3:22   \n",
       "\n",
       "      genre date.entered date.peaked  week  rank  \n",
       "0      Rock   2000-09-23  2000-11-18     1  78.0  \n",
       "1      Rock   2000-02-12  2000-04-08     1  15.0  \n",
       "2      Rock   1999-10-23  2000-01-29     1  71.0  \n",
       "3      Rock   2000-08-12  2000-09-16     1  41.0  \n",
       "4      Rock   2000-08-05  2000-10-14     1  57.0  \n",
       "...     ...          ...         ...   ...   ...  \n",
       "24087   R&B   2000-08-05  2000-08-05    76   NaN  \n",
       "24088   Rap   2000-02-12  2000-02-12    76   NaN  \n",
       "24089  Rock   2000-09-02  2000-09-02    76   NaN  \n",
       "24090   Rap   2000-07-01  2000-07-01    76   NaN  \n",
       "24091   R&B   2000-10-28  2000-10-28    76   NaN  \n",
       "\n",
       "[24092 rows x 9 columns]"
      ]
     },
     "execution_count": 11,
     "metadata": {},
     "output_type": "execute_result"
    }
   ],
   "source": [
    "# extract week number as int\n",
    "df_long[\"week\"] = df_long[\"week\"].str.extract(r'^x(\\d+)').astype(int)\n",
    "\n",
    "# inspect the cleaned up dataframe\n",
    "df_long"
   ]
  },
  {
   "attachments": {},
   "cell_type": "markdown",
   "metadata": {},
   "source": [
    "5. Now let's inspect the ***Week*** column in the dataframe."
   ]
  },
  {
   "cell_type": "code",
   "execution_count": 12,
   "metadata": {},
   "outputs": [
    {
     "data": {
      "application/vnd.microsoft.datawrangler.viewer.v0+json": {
       "columns": [
        {
         "name": "index",
         "rawType": "int64",
         "type": "integer"
        },
        {
         "name": "week",
         "rawType": "int64",
         "type": "integer"
        }
       ],
       "ref": "812d4eb4-acef-441c-9adc-ed938850279c",
       "rows": [
        [
         "0",
         "1"
        ],
        [
         "1",
         "1"
        ],
        [
         "2",
         "1"
        ],
        [
         "3",
         "1"
        ],
        [
         "4",
         "1"
        ],
        [
         "5",
         "1"
        ],
        [
         "6",
         "1"
        ],
        [
         "7",
         "1"
        ],
        [
         "8",
         "1"
        ],
        [
         "9",
         "1"
        ],
        [
         "10",
         "1"
        ],
        [
         "11",
         "1"
        ],
        [
         "12",
         "1"
        ],
        [
         "13",
         "1"
        ],
        [
         "14",
         "1"
        ],
        [
         "15",
         "1"
        ],
        [
         "16",
         "1"
        ],
        [
         "17",
         "1"
        ],
        [
         "18",
         "1"
        ],
        [
         "19",
         "1"
        ],
        [
         "20",
         "1"
        ],
        [
         "21",
         "1"
        ],
        [
         "22",
         "1"
        ],
        [
         "23",
         "1"
        ],
        [
         "24",
         "1"
        ],
        [
         "25",
         "1"
        ],
        [
         "26",
         "1"
        ],
        [
         "27",
         "1"
        ],
        [
         "28",
         "1"
        ],
        [
         "29",
         "1"
        ],
        [
         "30",
         "1"
        ],
        [
         "31",
         "1"
        ],
        [
         "32",
         "1"
        ],
        [
         "33",
         "1"
        ],
        [
         "34",
         "1"
        ],
        [
         "35",
         "1"
        ],
        [
         "36",
         "1"
        ],
        [
         "37",
         "1"
        ],
        [
         "38",
         "1"
        ],
        [
         "39",
         "1"
        ],
        [
         "40",
         "1"
        ],
        [
         "41",
         "1"
        ],
        [
         "42",
         "1"
        ],
        [
         "43",
         "1"
        ],
        [
         "44",
         "1"
        ],
        [
         "45",
         "1"
        ],
        [
         "46",
         "1"
        ],
        [
         "47",
         "1"
        ],
        [
         "48",
         "1"
        ],
        [
         "49",
         "1"
        ]
       ],
       "shape": {
        "columns": 1,
        "rows": 24092
       }
      },
      "text/plain": [
       "0         1\n",
       "1         1\n",
       "2         1\n",
       "3         1\n",
       "4         1\n",
       "         ..\n",
       "24087    76\n",
       "24088    76\n",
       "24089    76\n",
       "24090    76\n",
       "24091    76\n",
       "Name: week, Length: 24092, dtype: int64"
      ]
     },
     "execution_count": 12,
     "metadata": {},
     "output_type": "execute_result"
    }
   ],
   "source": [
    "df_long[\"week\"]"
   ]
  },
  {
   "attachments": {},
   "cell_type": "markdown",
   "metadata": {},
   "source": [
    "Next, let's try to find the date at which the song ranked the number that is shown per row.\n",
    "\n",
    "6. To do that let's first think of the equation that is going to get us the relevant date at which the song ranked the *rth*.\n",
    "\n"
   ]
  },
  {
   "attachments": {},
   "cell_type": "markdown",
   "metadata": {},
   "source": [
    "*Timedeltas are absolute differences in times, expressed in difference units (e.g. days, hours, minutes, seconds). This method converts an argument from a recognized timedelta format / value into a Timedelta type.*\n"
   ]
  },
  {
   "cell_type": "markdown",
   "metadata": {},
   "source": [
    "To find the exact date when a song achieved the rank shown in each row, use the entry date plus the number of weeks elapsed (based on the week column). The rank is not used in the date calculation, it is only an attribute of that specific week. This is the fomula:\n",
    "\n",
    "`chart_date = date.entered + timedelta(weeks = week - 1)`\n"
   ]
  },
  {
   "attachments": {},
   "cell_type": "markdown",
   "metadata": {},
   "source": [
    "***What is the problem with the calculation above?***"
   ]
  },
  {
   "attachments": {},
   "cell_type": "markdown",
   "metadata": {},
   "source": [
    "7. Let's only keep necessary columns"
   ]
  },
  {
   "cell_type": "code",
   "execution_count": 13,
   "metadata": {},
   "outputs": [
    {
     "data": {
      "application/vnd.microsoft.datawrangler.viewer.v0+json": {
       "columns": [
        {
         "name": "index",
         "rawType": "int64",
         "type": "integer"
        },
        {
         "name": "artist.inverted",
         "rawType": "object",
         "type": "string"
        },
        {
         "name": "track",
         "rawType": "object",
         "type": "string"
        },
        {
         "name": "date.entered",
         "rawType": "object",
         "type": "string"
        },
        {
         "name": "date.peaked",
         "rawType": "object",
         "type": "string"
        },
        {
         "name": "week",
         "rawType": "int64",
         "type": "integer"
        },
        {
         "name": "rank",
         "rawType": "float64",
         "type": "float"
        }
       ],
       "ref": "b170297c-6a4e-4872-a507-0117fedb326e",
       "rows": [
        [
         "0",
         "Destiny's Child",
         "Independent Women Part I",
         "2000-09-23",
         "2000-11-18",
         "1",
         "78.0"
        ],
        [
         "1",
         "Santana",
         "Maria, Maria",
         "2000-02-12",
         "2000-04-08",
         "1",
         "15.0"
        ],
        [
         "2",
         "Savage Garden",
         "I Knew I Loved You",
         "1999-10-23",
         "2000-01-29",
         "1",
         "71.0"
        ],
        [
         "3",
         "Madonna",
         "Music",
         "2000-08-12",
         "2000-09-16",
         "1",
         "41.0"
        ],
        [
         "4",
         "Aguilera, Christina",
         "Come On Over Baby (All I Want Is You)",
         "2000-08-05",
         "2000-10-14",
         "1",
         "57.0"
        ],
        [
         "5",
         "Janet",
         "Doesn't Really Matter",
         "2000-06-17",
         "2000-08-26",
         "1",
         "59.0"
        ],
        [
         "6",
         "Destiny's Child",
         "Say My Name",
         "1999-12-25",
         "2000-03-18",
         "1",
         "83.0"
        ],
        [
         "7",
         "Iglesias, Enrique",
         "Be With You",
         "2000-04-01",
         "2000-06-24",
         "1",
         "63.0"
        ],
        [
         "8",
         "Sisqo",
         "Incomplete",
         "2000-06-24",
         "2000-08-12",
         "1",
         "77.0"
        ],
        [
         "9",
         "Lonestar",
         "Amazed",
         "1999-06-05",
         "2000-03-04",
         "1",
         "81.0"
        ],
        [
         "10",
         "N'Sync",
         "It's Gonna Be Me",
         "2000-05-06",
         "2000-07-29",
         "1",
         "82.0"
        ],
        [
         "11",
         "Aguilera, Christina",
         "What A Girl Wants",
         "1999-11-27",
         "2000-01-15",
         "1",
         "71.0"
        ],
        [
         "12",
         "Vertical Horizon",
         "Everything You Want",
         "2000-01-22",
         "2000-07-15",
         "1",
         "70.0"
        ],
        [
         "13",
         "Creed",
         "With Arms Wide Open",
         "2000-05-13",
         "2000-11-11",
         "1",
         "84.0"
        ],
        [
         "14",
         "Aaliyah",
         "Try Again",
         "2000-03-18",
         "2000-06-17",
         "1",
         "59.0"
        ],
        [
         "15",
         "matchbox twenty",
         "Bent",
         "2000-04-29",
         "2000-07-22",
         "1",
         "60.0"
        ],
        [
         "16",
         "Carey, Mariah",
         "Thank God I Found You",
         "1999-12-11",
         "2000-02-19",
         "1",
         "82.0"
        ],
        [
         "17",
         "Hill, Faith",
         "Breathe",
         "1999-11-06",
         "2000-04-22",
         "1",
         "81.0"
        ],
        [
         "18",
         "Mya",
         "Case Of The Ex (Whatcha Gonna Do)",
         "2000-08-19",
         "2000-12-02",
         "1",
         "72.0"
        ],
        [
         "19",
         "Dream",
         "He Loves U Not",
         "2000-09-30",
         "2000-12-30",
         "1",
         "99.0"
        ],
        [
         "20",
         "Braxton, Toni",
         "He Wasn't Man Enough",
         "2000-03-18",
         "2000-05-06",
         "1",
         "63.0"
        ],
        [
         "21",
         "Anthony, Marc",
         "You Sang To Me",
         "2000-02-26",
         "2000-06-03",
         "1",
         "77.0"
        ],
        [
         "22",
         "98¡",
         "Give Me Just One Night (Una Noche)",
         "2000-08-19",
         "2000-09-30",
         "1",
         "51.0"
        ],
        [
         "23",
         "Destiny's Child",
         "Jumpin' Jumpin'",
         "2000-05-13",
         "2000-08-19",
         "1",
         "74.0"
        ],
        [
         "24",
         "3 Doors Down",
         "Kryptonite",
         "2000-04-08",
         "2000-11-11",
         "1",
         "81.0"
        ],
        [
         "25",
         "Sisqo",
         "Thong Song",
         "2000-01-29",
         "2000-05-20",
         "1",
         "74.0"
        ],
        [
         "26",
         "Aguilera, Christina",
         "I Turn To You",
         "2000-04-15",
         "2000-07-01",
         "1",
         "50.0"
        ],
        [
         "27",
         "Houston, Whitney",
         "My Love Is Your Love",
         "1999-09-04",
         "2000-01-08",
         "1",
         "81.0"
        ],
        [
         "28",
         "Joe",
         "I Wanna Know",
         "2000-01-01",
         "2000-07-01",
         "1",
         "94.0"
        ],
        [
         "29",
         "Jordan, Montell",
         "Get It On.. Tonite",
         "1999-10-23",
         "2000-02-12",
         "1",
         "92.0"
        ],
        [
         "30",
         "N'Sync",
         "Bye Bye Bye",
         "2000-01-29",
         "2000-04-15",
         "1",
         "42.0"
        ],
        [
         "31",
         "Eminem",
         "The Real Slim Shady",
         "2000-05-06",
         "2000-06-24",
         "1",
         "70.0"
        ],
        [
         "32",
         "Pink",
         "Most Girls",
         "2000-08-12",
         "2000-11-25",
         "1",
         "85.0"
        ],
        [
         "33",
         "Mumba, Samantha",
         "Gotta Tell You",
         "2000-09-09",
         "2000-12-09",
         "1",
         "85.0"
        ],
        [
         "34",
         "Blaque",
         "Bring It All To Me",
         "1999-10-23",
         "2000-01-22",
         "1",
         "73.0"
        ],
        [
         "35",
         "Elliott, Missy \"Misdemeanor\"",
         "Hot Boyz",
         "1999-11-27",
         "2000-01-08",
         "1",
         "36.0"
        ],
        [
         "36",
         "Gray, Macy",
         "I Try",
         "2000-02-19",
         "2000-05-20",
         "1",
         "68.0"
        ],
        [
         "37",
         "N'Sync",
         "This I Promise You",
         "2000-09-30",
         "2000-12-02",
         "1",
         "68.0"
        ],
        [
         "38",
         "Ruff Endz",
         "No More",
         "2000-07-01",
         "2000-09-02",
         "1",
         "76.0"
        ],
        [
         "39",
         "Backstreet Boys, The",
         "Show Me The Meaning Of Being Lonely",
         "2000-01-01",
         "2000-03-18",
         "1",
         "74.0"
        ],
        [
         "40",
         "Nine Days",
         "Absolutely (Story Of A Girl)",
         "2000-05-06",
         "2000-07-22",
         "1",
         "85.0"
        ],
        [
         "41",
         "Dion, Celine",
         "That's The Way It Is",
         "1999-11-13",
         "2000-03-04",
         "1",
         "74.0"
        ],
        [
         "42",
         "Blink-182",
         "All The Small Things",
         "1999-12-04",
         "2000-02-19",
         "1",
         "89.0"
        ],
        [
         "43",
         "Eiffel 65",
         "Blue (Da Ba Dee)",
         "1999-12-11",
         "2000-01-29",
         "1",
         "67.0"
        ],
        [
         "44",
         "Badu, Erkyah",
         "Bag Lady",
         "2000-08-19",
         "2000-10-07",
         "1",
         "67.0"
        ],
        [
         "45",
         "Pink",
         "There U Go",
         "2000-03-04",
         "2000-04-08",
         "1",
         "25.0"
        ],
        [
         "46",
         "Creed",
         "Higher",
         "1999-09-11",
         "2000-07-22",
         "1",
         "81.0"
        ],
        [
         "47",
         "Nelly",
         "(Hot S**t) Country Grammar",
         "2000-04-29",
         "2000-09-16",
         "1",
         "100.0"
        ],
        [
         "48",
         "Next",
         "Wifey",
         "2000-05-27",
         "2000-09-09",
         "1",
         "85.0"
        ],
        [
         "49",
         "Kenny G",
         "Auld Lang Syne (The Millenium Mix)",
         "1999-12-25",
         "2000-01-08",
         "1",
         "89.0"
        ]
       ],
       "shape": {
        "columns": 6,
        "rows": 24092
       }
      },
      "text/html": [
       "<div>\n",
       "<style scoped>\n",
       "    .dataframe tbody tr th:only-of-type {\n",
       "        vertical-align: middle;\n",
       "    }\n",
       "\n",
       "    .dataframe tbody tr th {\n",
       "        vertical-align: top;\n",
       "    }\n",
       "\n",
       "    .dataframe thead th {\n",
       "        text-align: right;\n",
       "    }\n",
       "</style>\n",
       "<table border=\"1\" class=\"dataframe\">\n",
       "  <thead>\n",
       "    <tr style=\"text-align: right;\">\n",
       "      <th></th>\n",
       "      <th>artist.inverted</th>\n",
       "      <th>track</th>\n",
       "      <th>date.entered</th>\n",
       "      <th>date.peaked</th>\n",
       "      <th>week</th>\n",
       "      <th>rank</th>\n",
       "    </tr>\n",
       "  </thead>\n",
       "  <tbody>\n",
       "    <tr>\n",
       "      <th>0</th>\n",
       "      <td>Destiny's Child</td>\n",
       "      <td>Independent Women Part I</td>\n",
       "      <td>2000-09-23</td>\n",
       "      <td>2000-11-18</td>\n",
       "      <td>1</td>\n",
       "      <td>78.0</td>\n",
       "    </tr>\n",
       "    <tr>\n",
       "      <th>1</th>\n",
       "      <td>Santana</td>\n",
       "      <td>Maria, Maria</td>\n",
       "      <td>2000-02-12</td>\n",
       "      <td>2000-04-08</td>\n",
       "      <td>1</td>\n",
       "      <td>15.0</td>\n",
       "    </tr>\n",
       "    <tr>\n",
       "      <th>2</th>\n",
       "      <td>Savage Garden</td>\n",
       "      <td>I Knew I Loved You</td>\n",
       "      <td>1999-10-23</td>\n",
       "      <td>2000-01-29</td>\n",
       "      <td>1</td>\n",
       "      <td>71.0</td>\n",
       "    </tr>\n",
       "    <tr>\n",
       "      <th>3</th>\n",
       "      <td>Madonna</td>\n",
       "      <td>Music</td>\n",
       "      <td>2000-08-12</td>\n",
       "      <td>2000-09-16</td>\n",
       "      <td>1</td>\n",
       "      <td>41.0</td>\n",
       "    </tr>\n",
       "    <tr>\n",
       "      <th>4</th>\n",
       "      <td>Aguilera, Christina</td>\n",
       "      <td>Come On Over Baby (All I Want Is You)</td>\n",
       "      <td>2000-08-05</td>\n",
       "      <td>2000-10-14</td>\n",
       "      <td>1</td>\n",
       "      <td>57.0</td>\n",
       "    </tr>\n",
       "    <tr>\n",
       "      <th>...</th>\n",
       "      <td>...</td>\n",
       "      <td>...</td>\n",
       "      <td>...</td>\n",
       "      <td>...</td>\n",
       "      <td>...</td>\n",
       "      <td>...</td>\n",
       "    </tr>\n",
       "    <tr>\n",
       "      <th>24087</th>\n",
       "      <td>Ghostface Killah</td>\n",
       "      <td>Cherchez LaGhost</td>\n",
       "      <td>2000-08-05</td>\n",
       "      <td>2000-08-05</td>\n",
       "      <td>76</td>\n",
       "      <td>NaN</td>\n",
       "    </tr>\n",
       "    <tr>\n",
       "      <th>24088</th>\n",
       "      <td>Smith, Will</td>\n",
       "      <td>Freakin' It</td>\n",
       "      <td>2000-02-12</td>\n",
       "      <td>2000-02-12</td>\n",
       "      <td>76</td>\n",
       "      <td>NaN</td>\n",
       "    </tr>\n",
       "    <tr>\n",
       "      <th>24089</th>\n",
       "      <td>Zombie Nation</td>\n",
       "      <td>Kernkraft 400</td>\n",
       "      <td>2000-09-02</td>\n",
       "      <td>2000-09-02</td>\n",
       "      <td>76</td>\n",
       "      <td>NaN</td>\n",
       "    </tr>\n",
       "    <tr>\n",
       "      <th>24090</th>\n",
       "      <td>Eastsidaz, The</td>\n",
       "      <td>Got Beef</td>\n",
       "      <td>2000-07-01</td>\n",
       "      <td>2000-07-01</td>\n",
       "      <td>76</td>\n",
       "      <td>NaN</td>\n",
       "    </tr>\n",
       "    <tr>\n",
       "      <th>24091</th>\n",
       "      <td>Fragma</td>\n",
       "      <td>Toca's Miracle</td>\n",
       "      <td>2000-10-28</td>\n",
       "      <td>2000-10-28</td>\n",
       "      <td>76</td>\n",
       "      <td>NaN</td>\n",
       "    </tr>\n",
       "  </tbody>\n",
       "</table>\n",
       "<p>24092 rows × 6 columns</p>\n",
       "</div>"
      ],
      "text/plain": [
       "           artist.inverted                                  track  \\\n",
       "0          Destiny's Child               Independent Women Part I   \n",
       "1                  Santana                           Maria, Maria   \n",
       "2            Savage Garden                     I Knew I Loved You   \n",
       "3                  Madonna                                  Music   \n",
       "4      Aguilera, Christina  Come On Over Baby (All I Want Is You)   \n",
       "...                    ...                                    ...   \n",
       "24087     Ghostface Killah                       Cherchez LaGhost   \n",
       "24088          Smith, Will                            Freakin' It   \n",
       "24089        Zombie Nation                          Kernkraft 400   \n",
       "24090       Eastsidaz, The                               Got Beef   \n",
       "24091               Fragma                         Toca's Miracle   \n",
       "\n",
       "      date.entered date.peaked  week  rank  \n",
       "0       2000-09-23  2000-11-18     1  78.0  \n",
       "1       2000-02-12  2000-04-08     1  15.0  \n",
       "2       1999-10-23  2000-01-29     1  71.0  \n",
       "3       2000-08-12  2000-09-16     1  41.0  \n",
       "4       2000-08-05  2000-10-14     1  57.0  \n",
       "...            ...         ...   ...   ...  \n",
       "24087   2000-08-05  2000-08-05    76   NaN  \n",
       "24088   2000-02-12  2000-02-12    76   NaN  \n",
       "24089   2000-09-02  2000-09-02    76   NaN  \n",
       "24090   2000-07-01  2000-07-01    76   NaN  \n",
       "24091   2000-10-28  2000-10-28    76   NaN  \n",
       "\n",
       "[24092 rows x 6 columns]"
      ]
     },
     "execution_count": 13,
     "metadata": {},
     "output_type": "execute_result"
    }
   ],
   "source": [
    "df_long = df_long.loc[:, [\"artist.inverted\", \"track\", \"date.entered\", \"date.peaked\", \"week\", \"rank\"]]\n",
    "df_long"
   ]
  },
  {
   "attachments": {},
   "cell_type": "markdown",
   "metadata": {},
   "source": [
    "8. How to rename your columns?"
   ]
  },
  {
   "cell_type": "code",
   "execution_count": 14,
   "metadata": {},
   "outputs": [
    {
     "data": {
      "application/vnd.microsoft.datawrangler.viewer.v0+json": {
       "columns": [
        {
         "name": "index",
         "rawType": "int64",
         "type": "integer"
        },
        {
         "name": "arstist_inverted",
         "rawType": "object",
         "type": "string"
        },
        {
         "name": "track",
         "rawType": "object",
         "type": "string"
        },
        {
         "name": "date_entered",
         "rawType": "object",
         "type": "string"
        },
        {
         "name": "date_peaked",
         "rawType": "object",
         "type": "string"
        },
        {
         "name": "week",
         "rawType": "int64",
         "type": "integer"
        },
        {
         "name": "rank",
         "rawType": "float64",
         "type": "float"
        }
       ],
       "ref": "651d03e9-b6f5-4299-99c8-731b72cf980c",
       "rows": [
        [
         "0",
         "Destiny's Child",
         "Independent Women Part I",
         "2000-09-23",
         "2000-11-18",
         "1",
         "78.0"
        ],
        [
         "1",
         "Santana",
         "Maria, Maria",
         "2000-02-12",
         "2000-04-08",
         "1",
         "15.0"
        ],
        [
         "2",
         "Savage Garden",
         "I Knew I Loved You",
         "1999-10-23",
         "2000-01-29",
         "1",
         "71.0"
        ],
        [
         "3",
         "Madonna",
         "Music",
         "2000-08-12",
         "2000-09-16",
         "1",
         "41.0"
        ],
        [
         "4",
         "Aguilera, Christina",
         "Come On Over Baby (All I Want Is You)",
         "2000-08-05",
         "2000-10-14",
         "1",
         "57.0"
        ],
        [
         "5",
         "Janet",
         "Doesn't Really Matter",
         "2000-06-17",
         "2000-08-26",
         "1",
         "59.0"
        ],
        [
         "6",
         "Destiny's Child",
         "Say My Name",
         "1999-12-25",
         "2000-03-18",
         "1",
         "83.0"
        ],
        [
         "7",
         "Iglesias, Enrique",
         "Be With You",
         "2000-04-01",
         "2000-06-24",
         "1",
         "63.0"
        ],
        [
         "8",
         "Sisqo",
         "Incomplete",
         "2000-06-24",
         "2000-08-12",
         "1",
         "77.0"
        ],
        [
         "9",
         "Lonestar",
         "Amazed",
         "1999-06-05",
         "2000-03-04",
         "1",
         "81.0"
        ],
        [
         "10",
         "N'Sync",
         "It's Gonna Be Me",
         "2000-05-06",
         "2000-07-29",
         "1",
         "82.0"
        ],
        [
         "11",
         "Aguilera, Christina",
         "What A Girl Wants",
         "1999-11-27",
         "2000-01-15",
         "1",
         "71.0"
        ],
        [
         "12",
         "Vertical Horizon",
         "Everything You Want",
         "2000-01-22",
         "2000-07-15",
         "1",
         "70.0"
        ],
        [
         "13",
         "Creed",
         "With Arms Wide Open",
         "2000-05-13",
         "2000-11-11",
         "1",
         "84.0"
        ],
        [
         "14",
         "Aaliyah",
         "Try Again",
         "2000-03-18",
         "2000-06-17",
         "1",
         "59.0"
        ],
        [
         "15",
         "matchbox twenty",
         "Bent",
         "2000-04-29",
         "2000-07-22",
         "1",
         "60.0"
        ],
        [
         "16",
         "Carey, Mariah",
         "Thank God I Found You",
         "1999-12-11",
         "2000-02-19",
         "1",
         "82.0"
        ],
        [
         "17",
         "Hill, Faith",
         "Breathe",
         "1999-11-06",
         "2000-04-22",
         "1",
         "81.0"
        ],
        [
         "18",
         "Mya",
         "Case Of The Ex (Whatcha Gonna Do)",
         "2000-08-19",
         "2000-12-02",
         "1",
         "72.0"
        ],
        [
         "19",
         "Dream",
         "He Loves U Not",
         "2000-09-30",
         "2000-12-30",
         "1",
         "99.0"
        ],
        [
         "20",
         "Braxton, Toni",
         "He Wasn't Man Enough",
         "2000-03-18",
         "2000-05-06",
         "1",
         "63.0"
        ],
        [
         "21",
         "Anthony, Marc",
         "You Sang To Me",
         "2000-02-26",
         "2000-06-03",
         "1",
         "77.0"
        ],
        [
         "22",
         "98¡",
         "Give Me Just One Night (Una Noche)",
         "2000-08-19",
         "2000-09-30",
         "1",
         "51.0"
        ],
        [
         "23",
         "Destiny's Child",
         "Jumpin' Jumpin'",
         "2000-05-13",
         "2000-08-19",
         "1",
         "74.0"
        ],
        [
         "24",
         "3 Doors Down",
         "Kryptonite",
         "2000-04-08",
         "2000-11-11",
         "1",
         "81.0"
        ],
        [
         "25",
         "Sisqo",
         "Thong Song",
         "2000-01-29",
         "2000-05-20",
         "1",
         "74.0"
        ],
        [
         "26",
         "Aguilera, Christina",
         "I Turn To You",
         "2000-04-15",
         "2000-07-01",
         "1",
         "50.0"
        ],
        [
         "27",
         "Houston, Whitney",
         "My Love Is Your Love",
         "1999-09-04",
         "2000-01-08",
         "1",
         "81.0"
        ],
        [
         "28",
         "Joe",
         "I Wanna Know",
         "2000-01-01",
         "2000-07-01",
         "1",
         "94.0"
        ],
        [
         "29",
         "Jordan, Montell",
         "Get It On.. Tonite",
         "1999-10-23",
         "2000-02-12",
         "1",
         "92.0"
        ],
        [
         "30",
         "N'Sync",
         "Bye Bye Bye",
         "2000-01-29",
         "2000-04-15",
         "1",
         "42.0"
        ],
        [
         "31",
         "Eminem",
         "The Real Slim Shady",
         "2000-05-06",
         "2000-06-24",
         "1",
         "70.0"
        ],
        [
         "32",
         "Pink",
         "Most Girls",
         "2000-08-12",
         "2000-11-25",
         "1",
         "85.0"
        ],
        [
         "33",
         "Mumba, Samantha",
         "Gotta Tell You",
         "2000-09-09",
         "2000-12-09",
         "1",
         "85.0"
        ],
        [
         "34",
         "Blaque",
         "Bring It All To Me",
         "1999-10-23",
         "2000-01-22",
         "1",
         "73.0"
        ],
        [
         "35",
         "Elliott, Missy \"Misdemeanor\"",
         "Hot Boyz",
         "1999-11-27",
         "2000-01-08",
         "1",
         "36.0"
        ],
        [
         "36",
         "Gray, Macy",
         "I Try",
         "2000-02-19",
         "2000-05-20",
         "1",
         "68.0"
        ],
        [
         "37",
         "N'Sync",
         "This I Promise You",
         "2000-09-30",
         "2000-12-02",
         "1",
         "68.0"
        ],
        [
         "38",
         "Ruff Endz",
         "No More",
         "2000-07-01",
         "2000-09-02",
         "1",
         "76.0"
        ],
        [
         "39",
         "Backstreet Boys, The",
         "Show Me The Meaning Of Being Lonely",
         "2000-01-01",
         "2000-03-18",
         "1",
         "74.0"
        ],
        [
         "40",
         "Nine Days",
         "Absolutely (Story Of A Girl)",
         "2000-05-06",
         "2000-07-22",
         "1",
         "85.0"
        ],
        [
         "41",
         "Dion, Celine",
         "That's The Way It Is",
         "1999-11-13",
         "2000-03-04",
         "1",
         "74.0"
        ],
        [
         "42",
         "Blink-182",
         "All The Small Things",
         "1999-12-04",
         "2000-02-19",
         "1",
         "89.0"
        ],
        [
         "43",
         "Eiffel 65",
         "Blue (Da Ba Dee)",
         "1999-12-11",
         "2000-01-29",
         "1",
         "67.0"
        ],
        [
         "44",
         "Badu, Erkyah",
         "Bag Lady",
         "2000-08-19",
         "2000-10-07",
         "1",
         "67.0"
        ],
        [
         "45",
         "Pink",
         "There U Go",
         "2000-03-04",
         "2000-04-08",
         "1",
         "25.0"
        ],
        [
         "46",
         "Creed",
         "Higher",
         "1999-09-11",
         "2000-07-22",
         "1",
         "81.0"
        ],
        [
         "47",
         "Nelly",
         "(Hot S**t) Country Grammar",
         "2000-04-29",
         "2000-09-16",
         "1",
         "100.0"
        ],
        [
         "48",
         "Next",
         "Wifey",
         "2000-05-27",
         "2000-09-09",
         "1",
         "85.0"
        ],
        [
         "49",
         "Kenny G",
         "Auld Lang Syne (The Millenium Mix)",
         "1999-12-25",
         "2000-01-08",
         "1",
         "89.0"
        ]
       ],
       "shape": {
        "columns": 6,
        "rows": 24092
       }
      },
      "text/html": [
       "<div>\n",
       "<style scoped>\n",
       "    .dataframe tbody tr th:only-of-type {\n",
       "        vertical-align: middle;\n",
       "    }\n",
       "\n",
       "    .dataframe tbody tr th {\n",
       "        vertical-align: top;\n",
       "    }\n",
       "\n",
       "    .dataframe thead th {\n",
       "        text-align: right;\n",
       "    }\n",
       "</style>\n",
       "<table border=\"1\" class=\"dataframe\">\n",
       "  <thead>\n",
       "    <tr style=\"text-align: right;\">\n",
       "      <th></th>\n",
       "      <th>arstist_inverted</th>\n",
       "      <th>track</th>\n",
       "      <th>date_entered</th>\n",
       "      <th>date_peaked</th>\n",
       "      <th>week</th>\n",
       "      <th>rank</th>\n",
       "    </tr>\n",
       "  </thead>\n",
       "  <tbody>\n",
       "    <tr>\n",
       "      <th>0</th>\n",
       "      <td>Destiny's Child</td>\n",
       "      <td>Independent Women Part I</td>\n",
       "      <td>2000-09-23</td>\n",
       "      <td>2000-11-18</td>\n",
       "      <td>1</td>\n",
       "      <td>78.0</td>\n",
       "    </tr>\n",
       "    <tr>\n",
       "      <th>1</th>\n",
       "      <td>Santana</td>\n",
       "      <td>Maria, Maria</td>\n",
       "      <td>2000-02-12</td>\n",
       "      <td>2000-04-08</td>\n",
       "      <td>1</td>\n",
       "      <td>15.0</td>\n",
       "    </tr>\n",
       "    <tr>\n",
       "      <th>2</th>\n",
       "      <td>Savage Garden</td>\n",
       "      <td>I Knew I Loved You</td>\n",
       "      <td>1999-10-23</td>\n",
       "      <td>2000-01-29</td>\n",
       "      <td>1</td>\n",
       "      <td>71.0</td>\n",
       "    </tr>\n",
       "    <tr>\n",
       "      <th>3</th>\n",
       "      <td>Madonna</td>\n",
       "      <td>Music</td>\n",
       "      <td>2000-08-12</td>\n",
       "      <td>2000-09-16</td>\n",
       "      <td>1</td>\n",
       "      <td>41.0</td>\n",
       "    </tr>\n",
       "    <tr>\n",
       "      <th>4</th>\n",
       "      <td>Aguilera, Christina</td>\n",
       "      <td>Come On Over Baby (All I Want Is You)</td>\n",
       "      <td>2000-08-05</td>\n",
       "      <td>2000-10-14</td>\n",
       "      <td>1</td>\n",
       "      <td>57.0</td>\n",
       "    </tr>\n",
       "    <tr>\n",
       "      <th>...</th>\n",
       "      <td>...</td>\n",
       "      <td>...</td>\n",
       "      <td>...</td>\n",
       "      <td>...</td>\n",
       "      <td>...</td>\n",
       "      <td>...</td>\n",
       "    </tr>\n",
       "    <tr>\n",
       "      <th>24087</th>\n",
       "      <td>Ghostface Killah</td>\n",
       "      <td>Cherchez LaGhost</td>\n",
       "      <td>2000-08-05</td>\n",
       "      <td>2000-08-05</td>\n",
       "      <td>76</td>\n",
       "      <td>NaN</td>\n",
       "    </tr>\n",
       "    <tr>\n",
       "      <th>24088</th>\n",
       "      <td>Smith, Will</td>\n",
       "      <td>Freakin' It</td>\n",
       "      <td>2000-02-12</td>\n",
       "      <td>2000-02-12</td>\n",
       "      <td>76</td>\n",
       "      <td>NaN</td>\n",
       "    </tr>\n",
       "    <tr>\n",
       "      <th>24089</th>\n",
       "      <td>Zombie Nation</td>\n",
       "      <td>Kernkraft 400</td>\n",
       "      <td>2000-09-02</td>\n",
       "      <td>2000-09-02</td>\n",
       "      <td>76</td>\n",
       "      <td>NaN</td>\n",
       "    </tr>\n",
       "    <tr>\n",
       "      <th>24090</th>\n",
       "      <td>Eastsidaz, The</td>\n",
       "      <td>Got Beef</td>\n",
       "      <td>2000-07-01</td>\n",
       "      <td>2000-07-01</td>\n",
       "      <td>76</td>\n",
       "      <td>NaN</td>\n",
       "    </tr>\n",
       "    <tr>\n",
       "      <th>24091</th>\n",
       "      <td>Fragma</td>\n",
       "      <td>Toca's Miracle</td>\n",
       "      <td>2000-10-28</td>\n",
       "      <td>2000-10-28</td>\n",
       "      <td>76</td>\n",
       "      <td>NaN</td>\n",
       "    </tr>\n",
       "  </tbody>\n",
       "</table>\n",
       "<p>24092 rows × 6 columns</p>\n",
       "</div>"
      ],
      "text/plain": [
       "          arstist_inverted                                  track  \\\n",
       "0          Destiny's Child               Independent Women Part I   \n",
       "1                  Santana                           Maria, Maria   \n",
       "2            Savage Garden                     I Knew I Loved You   \n",
       "3                  Madonna                                  Music   \n",
       "4      Aguilera, Christina  Come On Over Baby (All I Want Is You)   \n",
       "...                    ...                                    ...   \n",
       "24087     Ghostface Killah                       Cherchez LaGhost   \n",
       "24088          Smith, Will                            Freakin' It   \n",
       "24089        Zombie Nation                          Kernkraft 400   \n",
       "24090       Eastsidaz, The                               Got Beef   \n",
       "24091               Fragma                         Toca's Miracle   \n",
       "\n",
       "      date_entered date_peaked  week  rank  \n",
       "0       2000-09-23  2000-11-18     1  78.0  \n",
       "1       2000-02-12  2000-04-08     1  15.0  \n",
       "2       1999-10-23  2000-01-29     1  71.0  \n",
       "3       2000-08-12  2000-09-16     1  41.0  \n",
       "4       2000-08-05  2000-10-14     1  57.0  \n",
       "...            ...         ...   ...   ...  \n",
       "24087   2000-08-05  2000-08-05    76   NaN  \n",
       "24088   2000-02-12  2000-02-12    76   NaN  \n",
       "24089   2000-09-02  2000-09-02    76   NaN  \n",
       "24090   2000-07-01  2000-07-01    76   NaN  \n",
       "24091   2000-10-28  2000-10-28    76   NaN  \n",
       "\n",
       "[24092 rows x 6 columns]"
      ]
     },
     "execution_count": 14,
     "metadata": {},
     "output_type": "execute_result"
    }
   ],
   "source": [
    "df_long.rename(columns={\"artist.inverted\": \"arstist_inverted\", \"date.entered\": \"date_entered\", \"date.peaked\": \"date_peaked\"}, inplace=True)\n",
    "df_long"
   ]
  },
  {
   "attachments": {},
   "cell_type": "markdown",
   "metadata": {},
   "source": [
    "Display the dataframe"
   ]
  },
  {
   "cell_type": "code",
   "execution_count": 15,
   "metadata": {},
   "outputs": [
    {
     "data": {
      "application/vnd.microsoft.datawrangler.viewer.v0+json": {
       "columns": [
        {
         "name": "index",
         "rawType": "int64",
         "type": "integer"
        },
        {
         "name": "arstist_inverted",
         "rawType": "object",
         "type": "string"
        },
        {
         "name": "track",
         "rawType": "object",
         "type": "string"
        },
        {
         "name": "date_entered",
         "rawType": "object",
         "type": "string"
        },
        {
         "name": "date_peaked",
         "rawType": "object",
         "type": "string"
        },
        {
         "name": "week",
         "rawType": "int64",
         "type": "integer"
        },
        {
         "name": "rank",
         "rawType": "float64",
         "type": "float"
        }
       ],
       "ref": "1beb3744-0cda-4dde-9ba4-800916d183fd",
       "rows": [
        [
         "0",
         "Destiny's Child",
         "Independent Women Part I",
         "2000-09-23",
         "2000-11-18",
         "1",
         "78.0"
        ],
        [
         "1",
         "Santana",
         "Maria, Maria",
         "2000-02-12",
         "2000-04-08",
         "1",
         "15.0"
        ],
        [
         "2",
         "Savage Garden",
         "I Knew I Loved You",
         "1999-10-23",
         "2000-01-29",
         "1",
         "71.0"
        ],
        [
         "3",
         "Madonna",
         "Music",
         "2000-08-12",
         "2000-09-16",
         "1",
         "41.0"
        ],
        [
         "4",
         "Aguilera, Christina",
         "Come On Over Baby (All I Want Is You)",
         "2000-08-05",
         "2000-10-14",
         "1",
         "57.0"
        ],
        [
         "5",
         "Janet",
         "Doesn't Really Matter",
         "2000-06-17",
         "2000-08-26",
         "1",
         "59.0"
        ],
        [
         "6",
         "Destiny's Child",
         "Say My Name",
         "1999-12-25",
         "2000-03-18",
         "1",
         "83.0"
        ],
        [
         "7",
         "Iglesias, Enrique",
         "Be With You",
         "2000-04-01",
         "2000-06-24",
         "1",
         "63.0"
        ],
        [
         "8",
         "Sisqo",
         "Incomplete",
         "2000-06-24",
         "2000-08-12",
         "1",
         "77.0"
        ],
        [
         "9",
         "Lonestar",
         "Amazed",
         "1999-06-05",
         "2000-03-04",
         "1",
         "81.0"
        ],
        [
         "10",
         "N'Sync",
         "It's Gonna Be Me",
         "2000-05-06",
         "2000-07-29",
         "1",
         "82.0"
        ],
        [
         "11",
         "Aguilera, Christina",
         "What A Girl Wants",
         "1999-11-27",
         "2000-01-15",
         "1",
         "71.0"
        ],
        [
         "12",
         "Vertical Horizon",
         "Everything You Want",
         "2000-01-22",
         "2000-07-15",
         "1",
         "70.0"
        ],
        [
         "13",
         "Creed",
         "With Arms Wide Open",
         "2000-05-13",
         "2000-11-11",
         "1",
         "84.0"
        ],
        [
         "14",
         "Aaliyah",
         "Try Again",
         "2000-03-18",
         "2000-06-17",
         "1",
         "59.0"
        ],
        [
         "15",
         "matchbox twenty",
         "Bent",
         "2000-04-29",
         "2000-07-22",
         "1",
         "60.0"
        ],
        [
         "16",
         "Carey, Mariah",
         "Thank God I Found You",
         "1999-12-11",
         "2000-02-19",
         "1",
         "82.0"
        ],
        [
         "17",
         "Hill, Faith",
         "Breathe",
         "1999-11-06",
         "2000-04-22",
         "1",
         "81.0"
        ],
        [
         "18",
         "Mya",
         "Case Of The Ex (Whatcha Gonna Do)",
         "2000-08-19",
         "2000-12-02",
         "1",
         "72.0"
        ],
        [
         "19",
         "Dream",
         "He Loves U Not",
         "2000-09-30",
         "2000-12-30",
         "1",
         "99.0"
        ],
        [
         "20",
         "Braxton, Toni",
         "He Wasn't Man Enough",
         "2000-03-18",
         "2000-05-06",
         "1",
         "63.0"
        ],
        [
         "21",
         "Anthony, Marc",
         "You Sang To Me",
         "2000-02-26",
         "2000-06-03",
         "1",
         "77.0"
        ],
        [
         "22",
         "98¡",
         "Give Me Just One Night (Una Noche)",
         "2000-08-19",
         "2000-09-30",
         "1",
         "51.0"
        ],
        [
         "23",
         "Destiny's Child",
         "Jumpin' Jumpin'",
         "2000-05-13",
         "2000-08-19",
         "1",
         "74.0"
        ],
        [
         "24",
         "3 Doors Down",
         "Kryptonite",
         "2000-04-08",
         "2000-11-11",
         "1",
         "81.0"
        ],
        [
         "25",
         "Sisqo",
         "Thong Song",
         "2000-01-29",
         "2000-05-20",
         "1",
         "74.0"
        ],
        [
         "26",
         "Aguilera, Christina",
         "I Turn To You",
         "2000-04-15",
         "2000-07-01",
         "1",
         "50.0"
        ],
        [
         "27",
         "Houston, Whitney",
         "My Love Is Your Love",
         "1999-09-04",
         "2000-01-08",
         "1",
         "81.0"
        ],
        [
         "28",
         "Joe",
         "I Wanna Know",
         "2000-01-01",
         "2000-07-01",
         "1",
         "94.0"
        ],
        [
         "29",
         "Jordan, Montell",
         "Get It On.. Tonite",
         "1999-10-23",
         "2000-02-12",
         "1",
         "92.0"
        ],
        [
         "30",
         "N'Sync",
         "Bye Bye Bye",
         "2000-01-29",
         "2000-04-15",
         "1",
         "42.0"
        ],
        [
         "31",
         "Eminem",
         "The Real Slim Shady",
         "2000-05-06",
         "2000-06-24",
         "1",
         "70.0"
        ],
        [
         "32",
         "Pink",
         "Most Girls",
         "2000-08-12",
         "2000-11-25",
         "1",
         "85.0"
        ],
        [
         "33",
         "Mumba, Samantha",
         "Gotta Tell You",
         "2000-09-09",
         "2000-12-09",
         "1",
         "85.0"
        ],
        [
         "34",
         "Blaque",
         "Bring It All To Me",
         "1999-10-23",
         "2000-01-22",
         "1",
         "73.0"
        ],
        [
         "35",
         "Elliott, Missy \"Misdemeanor\"",
         "Hot Boyz",
         "1999-11-27",
         "2000-01-08",
         "1",
         "36.0"
        ],
        [
         "36",
         "Gray, Macy",
         "I Try",
         "2000-02-19",
         "2000-05-20",
         "1",
         "68.0"
        ],
        [
         "37",
         "N'Sync",
         "This I Promise You",
         "2000-09-30",
         "2000-12-02",
         "1",
         "68.0"
        ],
        [
         "38",
         "Ruff Endz",
         "No More",
         "2000-07-01",
         "2000-09-02",
         "1",
         "76.0"
        ],
        [
         "39",
         "Backstreet Boys, The",
         "Show Me The Meaning Of Being Lonely",
         "2000-01-01",
         "2000-03-18",
         "1",
         "74.0"
        ],
        [
         "40",
         "Nine Days",
         "Absolutely (Story Of A Girl)",
         "2000-05-06",
         "2000-07-22",
         "1",
         "85.0"
        ],
        [
         "41",
         "Dion, Celine",
         "That's The Way It Is",
         "1999-11-13",
         "2000-03-04",
         "1",
         "74.0"
        ],
        [
         "42",
         "Blink-182",
         "All The Small Things",
         "1999-12-04",
         "2000-02-19",
         "1",
         "89.0"
        ],
        [
         "43",
         "Eiffel 65",
         "Blue (Da Ba Dee)",
         "1999-12-11",
         "2000-01-29",
         "1",
         "67.0"
        ],
        [
         "44",
         "Badu, Erkyah",
         "Bag Lady",
         "2000-08-19",
         "2000-10-07",
         "1",
         "67.0"
        ],
        [
         "45",
         "Pink",
         "There U Go",
         "2000-03-04",
         "2000-04-08",
         "1",
         "25.0"
        ],
        [
         "46",
         "Creed",
         "Higher",
         "1999-09-11",
         "2000-07-22",
         "1",
         "81.0"
        ],
        [
         "47",
         "Nelly",
         "(Hot S**t) Country Grammar",
         "2000-04-29",
         "2000-09-16",
         "1",
         "100.0"
        ],
        [
         "48",
         "Next",
         "Wifey",
         "2000-05-27",
         "2000-09-09",
         "1",
         "85.0"
        ],
        [
         "49",
         "Kenny G",
         "Auld Lang Syne (The Millenium Mix)",
         "1999-12-25",
         "2000-01-08",
         "1",
         "89.0"
        ]
       ],
       "shape": {
        "columns": 6,
        "rows": 24092
       }
      },
      "text/html": [
       "<div>\n",
       "<style scoped>\n",
       "    .dataframe tbody tr th:only-of-type {\n",
       "        vertical-align: middle;\n",
       "    }\n",
       "\n",
       "    .dataframe tbody tr th {\n",
       "        vertical-align: top;\n",
       "    }\n",
       "\n",
       "    .dataframe thead th {\n",
       "        text-align: right;\n",
       "    }\n",
       "</style>\n",
       "<table border=\"1\" class=\"dataframe\">\n",
       "  <thead>\n",
       "    <tr style=\"text-align: right;\">\n",
       "      <th></th>\n",
       "      <th>arstist_inverted</th>\n",
       "      <th>track</th>\n",
       "      <th>date_entered</th>\n",
       "      <th>date_peaked</th>\n",
       "      <th>week</th>\n",
       "      <th>rank</th>\n",
       "    </tr>\n",
       "  </thead>\n",
       "  <tbody>\n",
       "    <tr>\n",
       "      <th>0</th>\n",
       "      <td>Destiny's Child</td>\n",
       "      <td>Independent Women Part I</td>\n",
       "      <td>2000-09-23</td>\n",
       "      <td>2000-11-18</td>\n",
       "      <td>1</td>\n",
       "      <td>78.0</td>\n",
       "    </tr>\n",
       "    <tr>\n",
       "      <th>1</th>\n",
       "      <td>Santana</td>\n",
       "      <td>Maria, Maria</td>\n",
       "      <td>2000-02-12</td>\n",
       "      <td>2000-04-08</td>\n",
       "      <td>1</td>\n",
       "      <td>15.0</td>\n",
       "    </tr>\n",
       "    <tr>\n",
       "      <th>2</th>\n",
       "      <td>Savage Garden</td>\n",
       "      <td>I Knew I Loved You</td>\n",
       "      <td>1999-10-23</td>\n",
       "      <td>2000-01-29</td>\n",
       "      <td>1</td>\n",
       "      <td>71.0</td>\n",
       "    </tr>\n",
       "    <tr>\n",
       "      <th>3</th>\n",
       "      <td>Madonna</td>\n",
       "      <td>Music</td>\n",
       "      <td>2000-08-12</td>\n",
       "      <td>2000-09-16</td>\n",
       "      <td>1</td>\n",
       "      <td>41.0</td>\n",
       "    </tr>\n",
       "    <tr>\n",
       "      <th>4</th>\n",
       "      <td>Aguilera, Christina</td>\n",
       "      <td>Come On Over Baby (All I Want Is You)</td>\n",
       "      <td>2000-08-05</td>\n",
       "      <td>2000-10-14</td>\n",
       "      <td>1</td>\n",
       "      <td>57.0</td>\n",
       "    </tr>\n",
       "    <tr>\n",
       "      <th>...</th>\n",
       "      <td>...</td>\n",
       "      <td>...</td>\n",
       "      <td>...</td>\n",
       "      <td>...</td>\n",
       "      <td>...</td>\n",
       "      <td>...</td>\n",
       "    </tr>\n",
       "    <tr>\n",
       "      <th>24087</th>\n",
       "      <td>Ghostface Killah</td>\n",
       "      <td>Cherchez LaGhost</td>\n",
       "      <td>2000-08-05</td>\n",
       "      <td>2000-08-05</td>\n",
       "      <td>76</td>\n",
       "      <td>NaN</td>\n",
       "    </tr>\n",
       "    <tr>\n",
       "      <th>24088</th>\n",
       "      <td>Smith, Will</td>\n",
       "      <td>Freakin' It</td>\n",
       "      <td>2000-02-12</td>\n",
       "      <td>2000-02-12</td>\n",
       "      <td>76</td>\n",
       "      <td>NaN</td>\n",
       "    </tr>\n",
       "    <tr>\n",
       "      <th>24089</th>\n",
       "      <td>Zombie Nation</td>\n",
       "      <td>Kernkraft 400</td>\n",
       "      <td>2000-09-02</td>\n",
       "      <td>2000-09-02</td>\n",
       "      <td>76</td>\n",
       "      <td>NaN</td>\n",
       "    </tr>\n",
       "    <tr>\n",
       "      <th>24090</th>\n",
       "      <td>Eastsidaz, The</td>\n",
       "      <td>Got Beef</td>\n",
       "      <td>2000-07-01</td>\n",
       "      <td>2000-07-01</td>\n",
       "      <td>76</td>\n",
       "      <td>NaN</td>\n",
       "    </tr>\n",
       "    <tr>\n",
       "      <th>24091</th>\n",
       "      <td>Fragma</td>\n",
       "      <td>Toca's Miracle</td>\n",
       "      <td>2000-10-28</td>\n",
       "      <td>2000-10-28</td>\n",
       "      <td>76</td>\n",
       "      <td>NaN</td>\n",
       "    </tr>\n",
       "  </tbody>\n",
       "</table>\n",
       "<p>24092 rows × 6 columns</p>\n",
       "</div>"
      ],
      "text/plain": [
       "          arstist_inverted                                  track  \\\n",
       "0          Destiny's Child               Independent Women Part I   \n",
       "1                  Santana                           Maria, Maria   \n",
       "2            Savage Garden                     I Knew I Loved You   \n",
       "3                  Madonna                                  Music   \n",
       "4      Aguilera, Christina  Come On Over Baby (All I Want Is You)   \n",
       "...                    ...                                    ...   \n",
       "24087     Ghostface Killah                       Cherchez LaGhost   \n",
       "24088          Smith, Will                            Freakin' It   \n",
       "24089        Zombie Nation                          Kernkraft 400   \n",
       "24090       Eastsidaz, The                               Got Beef   \n",
       "24091               Fragma                         Toca's Miracle   \n",
       "\n",
       "      date_entered date_peaked  week  rank  \n",
       "0       2000-09-23  2000-11-18     1  78.0  \n",
       "1       2000-02-12  2000-04-08     1  15.0  \n",
       "2       1999-10-23  2000-01-29     1  71.0  \n",
       "3       2000-08-12  2000-09-16     1  41.0  \n",
       "4       2000-08-05  2000-10-14     1  57.0  \n",
       "...            ...         ...   ...   ...  \n",
       "24087   2000-08-05  2000-08-05    76   NaN  \n",
       "24088   2000-02-12  2000-02-12    76   NaN  \n",
       "24089   2000-09-02  2000-09-02    76   NaN  \n",
       "24090   2000-07-01  2000-07-01    76   NaN  \n",
       "24091   2000-10-28  2000-10-28    76   NaN  \n",
       "\n",
       "[24092 rows x 6 columns]"
      ]
     },
     "metadata": {},
     "output_type": "display_data"
    },
    {
     "data": {
      "text/markdown": [
       "# The original dataframe shape is:\n",
       "   # **(24092, 6)**"
      ],
      "text/plain": [
       "<IPython.core.display.Markdown object>"
      ]
     },
     "execution_count": 15,
     "metadata": {},
     "output_type": "execute_result"
    }
   ],
   "source": [
    "display(df_long)\n",
    "\n",
    "\n",
    "\n",
    "Markdown('# The original dataframe shape is:\\n   # **' + str(df_long.shape) + '**')"
   ]
  },
  {
   "attachments": {},
   "cell_type": "markdown",
   "metadata": {},
   "source": [
    "In the above dataframe, there are some *NaN* values. What are we going to do? <br/>\n",
    "9. Apply quick data cleaning and then observe the dataset"
   ]
  },
  {
   "cell_type": "code",
   "execution_count": 16,
   "metadata": {},
   "outputs": [
    {
     "data": {
      "application/vnd.microsoft.datawrangler.viewer.v0+json": {
       "columns": [
        {
         "name": "index",
         "rawType": "int64",
         "type": "integer"
        },
        {
         "name": "arstist_inverted",
         "rawType": "object",
         "type": "string"
        },
        {
         "name": "track",
         "rawType": "object",
         "type": "string"
        },
        {
         "name": "date_entered",
         "rawType": "object",
         "type": "string"
        },
        {
         "name": "date_peaked",
         "rawType": "object",
         "type": "string"
        },
        {
         "name": "week",
         "rawType": "int64",
         "type": "integer"
        },
        {
         "name": "rank",
         "rawType": "float64",
         "type": "float"
        }
       ],
       "ref": "103ac43f-a896-44c4-8a79-9275ed4b5a5f",
       "rows": [
        [
         "0",
         "Destiny's Child",
         "Independent Women Part I",
         "2000-09-23",
         "2000-11-18",
         "1",
         "78.0"
        ],
        [
         "1",
         "Santana",
         "Maria, Maria",
         "2000-02-12",
         "2000-04-08",
         "1",
         "15.0"
        ],
        [
         "2",
         "Savage Garden",
         "I Knew I Loved You",
         "1999-10-23",
         "2000-01-29",
         "1",
         "71.0"
        ],
        [
         "3",
         "Madonna",
         "Music",
         "2000-08-12",
         "2000-09-16",
         "1",
         "41.0"
        ],
        [
         "4",
         "Aguilera, Christina",
         "Come On Over Baby (All I Want Is You)",
         "2000-08-05",
         "2000-10-14",
         "1",
         "57.0"
        ],
        [
         "5",
         "Janet",
         "Doesn't Really Matter",
         "2000-06-17",
         "2000-08-26",
         "1",
         "59.0"
        ],
        [
         "6",
         "Destiny's Child",
         "Say My Name",
         "1999-12-25",
         "2000-03-18",
         "1",
         "83.0"
        ],
        [
         "7",
         "Iglesias, Enrique",
         "Be With You",
         "2000-04-01",
         "2000-06-24",
         "1",
         "63.0"
        ],
        [
         "8",
         "Sisqo",
         "Incomplete",
         "2000-06-24",
         "2000-08-12",
         "1",
         "77.0"
        ],
        [
         "9",
         "Lonestar",
         "Amazed",
         "1999-06-05",
         "2000-03-04",
         "1",
         "81.0"
        ],
        [
         "10",
         "N'Sync",
         "It's Gonna Be Me",
         "2000-05-06",
         "2000-07-29",
         "1",
         "82.0"
        ],
        [
         "11",
         "Aguilera, Christina",
         "What A Girl Wants",
         "1999-11-27",
         "2000-01-15",
         "1",
         "71.0"
        ],
        [
         "12",
         "Vertical Horizon",
         "Everything You Want",
         "2000-01-22",
         "2000-07-15",
         "1",
         "70.0"
        ],
        [
         "13",
         "Creed",
         "With Arms Wide Open",
         "2000-05-13",
         "2000-11-11",
         "1",
         "84.0"
        ],
        [
         "14",
         "Aaliyah",
         "Try Again",
         "2000-03-18",
         "2000-06-17",
         "1",
         "59.0"
        ],
        [
         "15",
         "matchbox twenty",
         "Bent",
         "2000-04-29",
         "2000-07-22",
         "1",
         "60.0"
        ],
        [
         "16",
         "Carey, Mariah",
         "Thank God I Found You",
         "1999-12-11",
         "2000-02-19",
         "1",
         "82.0"
        ],
        [
         "17",
         "Hill, Faith",
         "Breathe",
         "1999-11-06",
         "2000-04-22",
         "1",
         "81.0"
        ],
        [
         "18",
         "Mya",
         "Case Of The Ex (Whatcha Gonna Do)",
         "2000-08-19",
         "2000-12-02",
         "1",
         "72.0"
        ],
        [
         "19",
         "Dream",
         "He Loves U Not",
         "2000-09-30",
         "2000-12-30",
         "1",
         "99.0"
        ],
        [
         "20",
         "Braxton, Toni",
         "He Wasn't Man Enough",
         "2000-03-18",
         "2000-05-06",
         "1",
         "63.0"
        ],
        [
         "21",
         "Anthony, Marc",
         "You Sang To Me",
         "2000-02-26",
         "2000-06-03",
         "1",
         "77.0"
        ],
        [
         "22",
         "98¡",
         "Give Me Just One Night (Una Noche)",
         "2000-08-19",
         "2000-09-30",
         "1",
         "51.0"
        ],
        [
         "23",
         "Destiny's Child",
         "Jumpin' Jumpin'",
         "2000-05-13",
         "2000-08-19",
         "1",
         "74.0"
        ],
        [
         "24",
         "3 Doors Down",
         "Kryptonite",
         "2000-04-08",
         "2000-11-11",
         "1",
         "81.0"
        ],
        [
         "25",
         "Sisqo",
         "Thong Song",
         "2000-01-29",
         "2000-05-20",
         "1",
         "74.0"
        ],
        [
         "26",
         "Aguilera, Christina",
         "I Turn To You",
         "2000-04-15",
         "2000-07-01",
         "1",
         "50.0"
        ],
        [
         "27",
         "Houston, Whitney",
         "My Love Is Your Love",
         "1999-09-04",
         "2000-01-08",
         "1",
         "81.0"
        ],
        [
         "28",
         "Joe",
         "I Wanna Know",
         "2000-01-01",
         "2000-07-01",
         "1",
         "94.0"
        ],
        [
         "29",
         "Jordan, Montell",
         "Get It On.. Tonite",
         "1999-10-23",
         "2000-02-12",
         "1",
         "92.0"
        ],
        [
         "30",
         "N'Sync",
         "Bye Bye Bye",
         "2000-01-29",
         "2000-04-15",
         "1",
         "42.0"
        ],
        [
         "31",
         "Eminem",
         "The Real Slim Shady",
         "2000-05-06",
         "2000-06-24",
         "1",
         "70.0"
        ],
        [
         "32",
         "Pink",
         "Most Girls",
         "2000-08-12",
         "2000-11-25",
         "1",
         "85.0"
        ],
        [
         "33",
         "Mumba, Samantha",
         "Gotta Tell You",
         "2000-09-09",
         "2000-12-09",
         "1",
         "85.0"
        ],
        [
         "34",
         "Blaque",
         "Bring It All To Me",
         "1999-10-23",
         "2000-01-22",
         "1",
         "73.0"
        ],
        [
         "35",
         "Elliott, Missy \"Misdemeanor\"",
         "Hot Boyz",
         "1999-11-27",
         "2000-01-08",
         "1",
         "36.0"
        ],
        [
         "36",
         "Gray, Macy",
         "I Try",
         "2000-02-19",
         "2000-05-20",
         "1",
         "68.0"
        ],
        [
         "37",
         "N'Sync",
         "This I Promise You",
         "2000-09-30",
         "2000-12-02",
         "1",
         "68.0"
        ],
        [
         "38",
         "Ruff Endz",
         "No More",
         "2000-07-01",
         "2000-09-02",
         "1",
         "76.0"
        ],
        [
         "39",
         "Backstreet Boys, The",
         "Show Me The Meaning Of Being Lonely",
         "2000-01-01",
         "2000-03-18",
         "1",
         "74.0"
        ],
        [
         "40",
         "Nine Days",
         "Absolutely (Story Of A Girl)",
         "2000-05-06",
         "2000-07-22",
         "1",
         "85.0"
        ],
        [
         "41",
         "Dion, Celine",
         "That's The Way It Is",
         "1999-11-13",
         "2000-03-04",
         "1",
         "74.0"
        ],
        [
         "42",
         "Blink-182",
         "All The Small Things",
         "1999-12-04",
         "2000-02-19",
         "1",
         "89.0"
        ],
        [
         "43",
         "Eiffel 65",
         "Blue (Da Ba Dee)",
         "1999-12-11",
         "2000-01-29",
         "1",
         "67.0"
        ],
        [
         "44",
         "Badu, Erkyah",
         "Bag Lady",
         "2000-08-19",
         "2000-10-07",
         "1",
         "67.0"
        ],
        [
         "45",
         "Pink",
         "There U Go",
         "2000-03-04",
         "2000-04-08",
         "1",
         "25.0"
        ],
        [
         "46",
         "Creed",
         "Higher",
         "1999-09-11",
         "2000-07-22",
         "1",
         "81.0"
        ],
        [
         "47",
         "Nelly",
         "(Hot S**t) Country Grammar",
         "2000-04-29",
         "2000-09-16",
         "1",
         "100.0"
        ],
        [
         "48",
         "Next",
         "Wifey",
         "2000-05-27",
         "2000-09-09",
         "1",
         "85.0"
        ],
        [
         "49",
         "Kenny G",
         "Auld Lang Syne (The Millenium Mix)",
         "1999-12-25",
         "2000-01-08",
         "1",
         "89.0"
        ]
       ],
       "shape": {
        "columns": 6,
        "rows": 5307
       }
      },
      "text/html": [
       "<div>\n",
       "<style scoped>\n",
       "    .dataframe tbody tr th:only-of-type {\n",
       "        vertical-align: middle;\n",
       "    }\n",
       "\n",
       "    .dataframe tbody tr th {\n",
       "        vertical-align: top;\n",
       "    }\n",
       "\n",
       "    .dataframe thead th {\n",
       "        text-align: right;\n",
       "    }\n",
       "</style>\n",
       "<table border=\"1\" class=\"dataframe\">\n",
       "  <thead>\n",
       "    <tr style=\"text-align: right;\">\n",
       "      <th></th>\n",
       "      <th>arstist_inverted</th>\n",
       "      <th>track</th>\n",
       "      <th>date_entered</th>\n",
       "      <th>date_peaked</th>\n",
       "      <th>week</th>\n",
       "      <th>rank</th>\n",
       "    </tr>\n",
       "  </thead>\n",
       "  <tbody>\n",
       "    <tr>\n",
       "      <th>0</th>\n",
       "      <td>Destiny's Child</td>\n",
       "      <td>Independent Women Part I</td>\n",
       "      <td>2000-09-23</td>\n",
       "      <td>2000-11-18</td>\n",
       "      <td>1</td>\n",
       "      <td>78.0</td>\n",
       "    </tr>\n",
       "    <tr>\n",
       "      <th>1</th>\n",
       "      <td>Santana</td>\n",
       "      <td>Maria, Maria</td>\n",
       "      <td>2000-02-12</td>\n",
       "      <td>2000-04-08</td>\n",
       "      <td>1</td>\n",
       "      <td>15.0</td>\n",
       "    </tr>\n",
       "    <tr>\n",
       "      <th>2</th>\n",
       "      <td>Savage Garden</td>\n",
       "      <td>I Knew I Loved You</td>\n",
       "      <td>1999-10-23</td>\n",
       "      <td>2000-01-29</td>\n",
       "      <td>1</td>\n",
       "      <td>71.0</td>\n",
       "    </tr>\n",
       "    <tr>\n",
       "      <th>3</th>\n",
       "      <td>Madonna</td>\n",
       "      <td>Music</td>\n",
       "      <td>2000-08-12</td>\n",
       "      <td>2000-09-16</td>\n",
       "      <td>1</td>\n",
       "      <td>41.0</td>\n",
       "    </tr>\n",
       "    <tr>\n",
       "      <th>4</th>\n",
       "      <td>Aguilera, Christina</td>\n",
       "      <td>Come On Over Baby (All I Want Is You)</td>\n",
       "      <td>2000-08-05</td>\n",
       "      <td>2000-10-14</td>\n",
       "      <td>1</td>\n",
       "      <td>57.0</td>\n",
       "    </tr>\n",
       "    <tr>\n",
       "      <th>...</th>\n",
       "      <td>...</td>\n",
       "      <td>...</td>\n",
       "      <td>...</td>\n",
       "      <td>...</td>\n",
       "      <td>...</td>\n",
       "      <td>...</td>\n",
       "    </tr>\n",
       "    <tr>\n",
       "      <th>19663</th>\n",
       "      <td>Lonestar</td>\n",
       "      <td>Amazed</td>\n",
       "      <td>1999-06-05</td>\n",
       "      <td>2000-03-04</td>\n",
       "      <td>63</td>\n",
       "      <td>45.0</td>\n",
       "    </tr>\n",
       "    <tr>\n",
       "      <th>19700</th>\n",
       "      <td>Creed</td>\n",
       "      <td>Higher</td>\n",
       "      <td>1999-09-11</td>\n",
       "      <td>2000-07-22</td>\n",
       "      <td>63</td>\n",
       "      <td>50.0</td>\n",
       "    </tr>\n",
       "    <tr>\n",
       "      <th>19980</th>\n",
       "      <td>Lonestar</td>\n",
       "      <td>Amazed</td>\n",
       "      <td>1999-06-05</td>\n",
       "      <td>2000-03-04</td>\n",
       "      <td>64</td>\n",
       "      <td>50.0</td>\n",
       "    </tr>\n",
       "    <tr>\n",
       "      <th>20017</th>\n",
       "      <td>Creed</td>\n",
       "      <td>Higher</td>\n",
       "      <td>1999-09-11</td>\n",
       "      <td>2000-07-22</td>\n",
       "      <td>64</td>\n",
       "      <td>50.0</td>\n",
       "    </tr>\n",
       "    <tr>\n",
       "      <th>20334</th>\n",
       "      <td>Creed</td>\n",
       "      <td>Higher</td>\n",
       "      <td>1999-09-11</td>\n",
       "      <td>2000-07-22</td>\n",
       "      <td>65</td>\n",
       "      <td>49.0</td>\n",
       "    </tr>\n",
       "  </tbody>\n",
       "</table>\n",
       "<p>5307 rows × 6 columns</p>\n",
       "</div>"
      ],
      "text/plain": [
       "          arstist_inverted                                  track  \\\n",
       "0          Destiny's Child               Independent Women Part I   \n",
       "1                  Santana                           Maria, Maria   \n",
       "2            Savage Garden                     I Knew I Loved You   \n",
       "3                  Madonna                                  Music   \n",
       "4      Aguilera, Christina  Come On Over Baby (All I Want Is You)   \n",
       "...                    ...                                    ...   \n",
       "19663             Lonestar                                 Amazed   \n",
       "19700                Creed                                 Higher   \n",
       "19980             Lonestar                                 Amazed   \n",
       "20017                Creed                                 Higher   \n",
       "20334                Creed                                 Higher   \n",
       "\n",
       "      date_entered date_peaked  week  rank  \n",
       "0       2000-09-23  2000-11-18     1  78.0  \n",
       "1       2000-02-12  2000-04-08     1  15.0  \n",
       "2       1999-10-23  2000-01-29     1  71.0  \n",
       "3       2000-08-12  2000-09-16     1  41.0  \n",
       "4       2000-08-05  2000-10-14     1  57.0  \n",
       "...            ...         ...   ...   ...  \n",
       "19663   1999-06-05  2000-03-04    63  45.0  \n",
       "19700   1999-09-11  2000-07-22    63  50.0  \n",
       "19980   1999-06-05  2000-03-04    64  50.0  \n",
       "20017   1999-09-11  2000-07-22    64  50.0  \n",
       "20334   1999-09-11  2000-07-22    65  49.0  \n",
       "\n",
       "[5307 rows x 6 columns]"
      ]
     },
     "metadata": {},
     "output_type": "display_data"
    },
    {
     "data": {
      "text/markdown": [
       "# After cleanup, the new dataframe shape is:\n",
       "   # **(5307, 6)**"
      ],
      "text/plain": [
       "<IPython.core.display.Markdown object>"
      ]
     },
     "execution_count": 16,
     "metadata": {},
     "output_type": "execute_result"
    }
   ],
   "source": [
    "# what if we want to drop rows with NaN in rank column\n",
    "df_long = df_long.dropna(subset=[\"rank\"])\n",
    "\n",
    "# check the shape of the cleaned up dataframe\n",
    "display(df_long)\n",
    "\n",
    "Markdown('# After cleanup, the new dataframe shape is:\\n   # **' + str(df_long.shape) + '**')"
   ]
  },
  {
   "attachments": {},
   "cell_type": "markdown",
   "metadata": {},
   "source": [
    "## **Data Cleaning**\n",
    "\n",
    "Data cleaning involves removing unwanted characters, imputing, or dropping missing values.\n",
    "\n",
    "The decision is based on the dataset you have, and the information you can extract from the other columns.\n",
    "\n",
    "\n",
    "Examples of data cleaning include cleaning:\n",
    "\n",
    "1.   **Missing Data**\n",
    "2.   **Irregular Data** (Outliers)\n",
    "3.   **Unnecessary Data** — Repetitive Data, Duplicates and more\n",
    "4.   **Inconsistent Data** — Capitalization, Addresses and more\n",
    "\n",
    "\n",
    "\n",
    "\n",
    "\n",
    "\n"
   ]
  },
  {
   "attachments": {},
   "cell_type": "markdown",
   "metadata": {},
   "source": [
    "### **Cars Data Set**"
   ]
  },
  {
   "attachments": {},
   "cell_type": "markdown",
   "metadata": {},
   "source": [
    "Start by reading the dataset related to car models: ./CSVs/cars.csv"
   ]
  },
  {
   "cell_type": "code",
   "execution_count": 17,
   "metadata": {},
   "outputs": [
    {
     "data": {
      "application/vnd.microsoft.datawrangler.viewer.v0+json": {
       "columns": [
        {
         "name": "index",
         "rawType": "int64",
         "type": "integer"
        },
        {
         "name": "Car",
         "rawType": "object",
         "type": "string"
        },
        {
         "name": "MPG",
         "rawType": "object",
         "type": "unknown"
        },
        {
         "name": "Cylinders",
         "rawType": "object",
         "type": "string"
        },
        {
         "name": "Displacement",
         "rawType": "object",
         "type": "unknown"
        },
        {
         "name": "Horsepower",
         "rawType": "object",
         "type": "unknown"
        },
        {
         "name": "Weight",
         "rawType": "object",
         "type": "unknown"
        },
        {
         "name": "Acceleration",
         "rawType": "object",
         "type": "string"
        },
        {
         "name": "Model",
         "rawType": "object",
         "type": "string"
        },
        {
         "name": "Origin",
         "rawType": "object",
         "type": "string"
        }
       ],
       "ref": "1ce4009d-4814-4a1e-ba81-f2b9923f08e5",
       "rows": [
        [
         "0",
         "STRING",
         "DOUBLE",
         "INT",
         "DOUBLE",
         "DOUBLE",
         "DOUBLE",
         "DOUBLE",
         "INT",
         "CAT"
        ],
        [
         "1",
         "Chevrolet Chevelle Malibu",
         null,
         "8",
         "307.0",
         "130.0",
         "3504.",
         "12.0",
         "70",
         "US"
        ],
        [
         "2",
         "Buick Skylark 320",
         "15.0",
         "8",
         "350.0",
         null,
         "3693.",
         "11.5",
         "70",
         "US"
        ],
        [
         "3",
         "Plymouth Satellite",
         null,
         "8",
         "318.0",
         "150.0",
         "3436.",
         "11.0",
         "70",
         "US"
        ],
        [
         "4",
         "AMC Rebel SST",
         "16.0",
         "8",
         null,
         "150.0",
         null,
         "12.0",
         "70",
         "US"
        ]
       ],
       "shape": {
        "columns": 9,
        "rows": 5
       }
      },
      "text/html": [
       "<div>\n",
       "<style scoped>\n",
       "    .dataframe tbody tr th:only-of-type {\n",
       "        vertical-align: middle;\n",
       "    }\n",
       "\n",
       "    .dataframe tbody tr th {\n",
       "        vertical-align: top;\n",
       "    }\n",
       "\n",
       "    .dataframe thead th {\n",
       "        text-align: right;\n",
       "    }\n",
       "</style>\n",
       "<table border=\"1\" class=\"dataframe\">\n",
       "  <thead>\n",
       "    <tr style=\"text-align: right;\">\n",
       "      <th></th>\n",
       "      <th>Car</th>\n",
       "      <th>MPG</th>\n",
       "      <th>Cylinders</th>\n",
       "      <th>Displacement</th>\n",
       "      <th>Horsepower</th>\n",
       "      <th>Weight</th>\n",
       "      <th>Acceleration</th>\n",
       "      <th>Model</th>\n",
       "      <th>Origin</th>\n",
       "    </tr>\n",
       "  </thead>\n",
       "  <tbody>\n",
       "    <tr>\n",
       "      <th>0</th>\n",
       "      <td>STRING</td>\n",
       "      <td>DOUBLE</td>\n",
       "      <td>INT</td>\n",
       "      <td>DOUBLE</td>\n",
       "      <td>DOUBLE</td>\n",
       "      <td>DOUBLE</td>\n",
       "      <td>DOUBLE</td>\n",
       "      <td>INT</td>\n",
       "      <td>CAT</td>\n",
       "    </tr>\n",
       "    <tr>\n",
       "      <th>1</th>\n",
       "      <td>Chevrolet Chevelle Malibu</td>\n",
       "      <td>NaN</td>\n",
       "      <td>8</td>\n",
       "      <td>307.0</td>\n",
       "      <td>130.0</td>\n",
       "      <td>3504.</td>\n",
       "      <td>12.0</td>\n",
       "      <td>70</td>\n",
       "      <td>US</td>\n",
       "    </tr>\n",
       "    <tr>\n",
       "      <th>2</th>\n",
       "      <td>Buick Skylark 320</td>\n",
       "      <td>15.0</td>\n",
       "      <td>8</td>\n",
       "      <td>350.0</td>\n",
       "      <td>NaN</td>\n",
       "      <td>3693.</td>\n",
       "      <td>11.5</td>\n",
       "      <td>70</td>\n",
       "      <td>US</td>\n",
       "    </tr>\n",
       "    <tr>\n",
       "      <th>3</th>\n",
       "      <td>Plymouth Satellite</td>\n",
       "      <td>NaN</td>\n",
       "      <td>8</td>\n",
       "      <td>318.0</td>\n",
       "      <td>150.0</td>\n",
       "      <td>3436.</td>\n",
       "      <td>11.0</td>\n",
       "      <td>70</td>\n",
       "      <td>US</td>\n",
       "    </tr>\n",
       "    <tr>\n",
       "      <th>4</th>\n",
       "      <td>AMC Rebel SST</td>\n",
       "      <td>16.0</td>\n",
       "      <td>8</td>\n",
       "      <td>NaN</td>\n",
       "      <td>150.0</td>\n",
       "      <td>NaN</td>\n",
       "      <td>12.0</td>\n",
       "      <td>70</td>\n",
       "      <td>US</td>\n",
       "    </tr>\n",
       "  </tbody>\n",
       "</table>\n",
       "</div>"
      ],
      "text/plain": [
       "                         Car     MPG Cylinders Displacement Horsepower  \\\n",
       "0                     STRING  DOUBLE       INT       DOUBLE     DOUBLE   \n",
       "1  Chevrolet Chevelle Malibu     NaN         8        307.0      130.0   \n",
       "2          Buick Skylark 320    15.0         8        350.0        NaN   \n",
       "3         Plymouth Satellite     NaN         8        318.0      150.0   \n",
       "4              AMC Rebel SST    16.0         8          NaN      150.0   \n",
       "\n",
       "   Weight Acceleration Model Origin  \n",
       "0  DOUBLE       DOUBLE   INT    CAT  \n",
       "1   3504.         12.0    70     US  \n",
       "2   3693.         11.5    70     US  \n",
       "3   3436.         11.0    70     US  \n",
       "4     NaN         12.0    70     US  "
      ]
     },
     "execution_count": 17,
     "metadata": {},
     "output_type": "execute_result"
    }
   ],
   "source": [
    "# read the data/cars.csv file into a dataframe\n",
    "cars_df = pd.read_csv('data/cars.csv', sep=';')\n",
    "cars_df.head()"
   ]
  },
  {
   "attachments": {},
   "cell_type": "markdown",
   "metadata": {},
   "source": [
    "First Row seems to be the datatype, we need to remove it"
   ]
  },
  {
   "cell_type": "code",
   "execution_count": 18,
   "metadata": {},
   "outputs": [
    {
     "data": {
      "application/vnd.microsoft.datawrangler.viewer.v0+json": {
       "columns": [
        {
         "name": "index",
         "rawType": "int64",
         "type": "integer"
        },
        {
         "name": "Car",
         "rawType": "object",
         "type": "string"
        },
        {
         "name": "MPG",
         "rawType": "object",
         "type": "unknown"
        },
        {
         "name": "Cylinders",
         "rawType": "object",
         "type": "string"
        },
        {
         "name": "Displacement",
         "rawType": "object",
         "type": "unknown"
        },
        {
         "name": "Horsepower",
         "rawType": "object",
         "type": "unknown"
        },
        {
         "name": "Weight",
         "rawType": "object",
         "type": "unknown"
        },
        {
         "name": "Acceleration",
         "rawType": "object",
         "type": "string"
        },
        {
         "name": "Model",
         "rawType": "object",
         "type": "string"
        },
        {
         "name": "Origin",
         "rawType": "object",
         "type": "string"
        }
       ],
       "ref": "fed4d897-c637-4561-ae0d-3a12f549ee04",
       "rows": [
        [
         "1",
         "Chevrolet Chevelle Malibu",
         null,
         "8",
         "307.0",
         "130.0",
         "3504.",
         "12.0",
         "70",
         "US"
        ],
        [
         "2",
         "Buick Skylark 320",
         "15.0",
         "8",
         "350.0",
         null,
         "3693.",
         "11.5",
         "70",
         "US"
        ],
        [
         "3",
         "Plymouth Satellite",
         null,
         "8",
         "318.0",
         "150.0",
         "3436.",
         "11.0",
         "70",
         "US"
        ],
        [
         "4",
         "AMC Rebel SST",
         "16.0",
         "8",
         null,
         "150.0",
         null,
         "12.0",
         "70",
         "US"
        ],
        [
         "5",
         "Ford Torino",
         "17.0",
         "8",
         "302.0",
         "140.0",
         "3449.",
         "10.5",
         "70",
         "US"
        ]
       ],
       "shape": {
        "columns": 9,
        "rows": 5
       }
      },
      "text/html": [
       "<div>\n",
       "<style scoped>\n",
       "    .dataframe tbody tr th:only-of-type {\n",
       "        vertical-align: middle;\n",
       "    }\n",
       "\n",
       "    .dataframe tbody tr th {\n",
       "        vertical-align: top;\n",
       "    }\n",
       "\n",
       "    .dataframe thead th {\n",
       "        text-align: right;\n",
       "    }\n",
       "</style>\n",
       "<table border=\"1\" class=\"dataframe\">\n",
       "  <thead>\n",
       "    <tr style=\"text-align: right;\">\n",
       "      <th></th>\n",
       "      <th>Car</th>\n",
       "      <th>MPG</th>\n",
       "      <th>Cylinders</th>\n",
       "      <th>Displacement</th>\n",
       "      <th>Horsepower</th>\n",
       "      <th>Weight</th>\n",
       "      <th>Acceleration</th>\n",
       "      <th>Model</th>\n",
       "      <th>Origin</th>\n",
       "    </tr>\n",
       "  </thead>\n",
       "  <tbody>\n",
       "    <tr>\n",
       "      <th>1</th>\n",
       "      <td>Chevrolet Chevelle Malibu</td>\n",
       "      <td>NaN</td>\n",
       "      <td>8</td>\n",
       "      <td>307.0</td>\n",
       "      <td>130.0</td>\n",
       "      <td>3504.</td>\n",
       "      <td>12.0</td>\n",
       "      <td>70</td>\n",
       "      <td>US</td>\n",
       "    </tr>\n",
       "    <tr>\n",
       "      <th>2</th>\n",
       "      <td>Buick Skylark 320</td>\n",
       "      <td>15.0</td>\n",
       "      <td>8</td>\n",
       "      <td>350.0</td>\n",
       "      <td>NaN</td>\n",
       "      <td>3693.</td>\n",
       "      <td>11.5</td>\n",
       "      <td>70</td>\n",
       "      <td>US</td>\n",
       "    </tr>\n",
       "    <tr>\n",
       "      <th>3</th>\n",
       "      <td>Plymouth Satellite</td>\n",
       "      <td>NaN</td>\n",
       "      <td>8</td>\n",
       "      <td>318.0</td>\n",
       "      <td>150.0</td>\n",
       "      <td>3436.</td>\n",
       "      <td>11.0</td>\n",
       "      <td>70</td>\n",
       "      <td>US</td>\n",
       "    </tr>\n",
       "    <tr>\n",
       "      <th>4</th>\n",
       "      <td>AMC Rebel SST</td>\n",
       "      <td>16.0</td>\n",
       "      <td>8</td>\n",
       "      <td>NaN</td>\n",
       "      <td>150.0</td>\n",
       "      <td>NaN</td>\n",
       "      <td>12.0</td>\n",
       "      <td>70</td>\n",
       "      <td>US</td>\n",
       "    </tr>\n",
       "    <tr>\n",
       "      <th>5</th>\n",
       "      <td>Ford Torino</td>\n",
       "      <td>17.0</td>\n",
       "      <td>8</td>\n",
       "      <td>302.0</td>\n",
       "      <td>140.0</td>\n",
       "      <td>3449.</td>\n",
       "      <td>10.5</td>\n",
       "      <td>70</td>\n",
       "      <td>US</td>\n",
       "    </tr>\n",
       "  </tbody>\n",
       "</table>\n",
       "</div>"
      ],
      "text/plain": [
       "                         Car   MPG Cylinders Displacement Horsepower Weight  \\\n",
       "1  Chevrolet Chevelle Malibu   NaN         8        307.0      130.0  3504.   \n",
       "2          Buick Skylark 320  15.0         8        350.0        NaN  3693.   \n",
       "3         Plymouth Satellite   NaN         8        318.0      150.0  3436.   \n",
       "4              AMC Rebel SST  16.0         8          NaN      150.0    NaN   \n",
       "5                Ford Torino  17.0         8        302.0      140.0  3449.   \n",
       "\n",
       "  Acceleration Model Origin  \n",
       "1         12.0    70     US  \n",
       "2         11.5    70     US  \n",
       "3         11.0    70     US  \n",
       "4         12.0    70     US  \n",
       "5         10.5    70     US  "
      ]
     },
     "execution_count": 18,
     "metadata": {},
     "output_type": "execute_result"
    }
   ],
   "source": [
    "# remove the first row\n",
    "cars_df = cars_df.drop(index=0)\n",
    "cars_df.head()"
   ]
  },
  {
   "cell_type": "code",
   "execution_count": 19,
   "metadata": {},
   "outputs": [
    {
     "data": {
      "text/markdown": [
       "# Shape of the Cars dataframe:\n",
       "   # **(406, 9)**"
      ],
      "text/plain": [
       "<IPython.core.display.Markdown object>"
      ]
     },
     "execution_count": 19,
     "metadata": {},
     "output_type": "execute_result"
    }
   ],
   "source": [
    "Markdown('# Shape of the Cars dataframe:\\n   # **' + str(cars_df.shape) + '**')"
   ]
  },
  {
   "attachments": {},
   "cell_type": "markdown",
   "metadata": {},
   "source": [
    "Let's observe the columns with null values.  Either by using the `isnull().sum()` function "
   ]
  },
  {
   "cell_type": "code",
   "execution_count": 20,
   "metadata": {},
   "outputs": [
    {
     "data": {
      "application/vnd.microsoft.datawrangler.viewer.v0+json": {
       "columns": [
        {
         "name": "index",
         "rawType": "object",
         "type": "string"
        },
        {
         "name": "0",
         "rawType": "int64",
         "type": "integer"
        }
       ],
       "ref": "427dc9da-e7ba-42f6-967f-f7c22c72c90a",
       "rows": [
        [
         "Car",
         "0"
        ],
        [
         "MPG",
         "3"
        ],
        [
         "Cylinders",
         "0"
        ],
        [
         "Displacement",
         "1"
        ],
        [
         "Horsepower",
         "2"
        ],
        [
         "Weight",
         "1"
        ],
        [
         "Acceleration",
         "0"
        ],
        [
         "Model",
         "0"
        ],
        [
         "Origin",
         "0"
        ]
       ],
       "shape": {
        "columns": 1,
        "rows": 9
       }
      },
      "text/plain": [
       "Car             0\n",
       "MPG             3\n",
       "Cylinders       0\n",
       "Displacement    1\n",
       "Horsepower      2\n",
       "Weight          1\n",
       "Acceleration    0\n",
       "Model           0\n",
       "Origin          0\n",
       "dtype: int64"
      ]
     },
     "execution_count": 20,
     "metadata": {},
     "output_type": "execute_result"
    }
   ],
   "source": [
    "# check columns with null values\n",
    "cars_df.isnull().sum()"
   ]
  },
  {
   "attachments": {},
   "cell_type": "markdown",
   "metadata": {},
   "source": [
    "There aren't many missing values. Let's take a glimpse at the percentage of the missing values:\n",
    "\n",
    "**HINT:** We'll need `Numpy` for the below task."
   ]
  },
  {
   "cell_type": "code",
   "execution_count": 21,
   "metadata": {},
   "outputs": [
    {
     "data": {
      "text/markdown": [
       "# Percentage of null values in each column:"
      ],
      "text/plain": [
       "<IPython.core.display.Markdown object>"
      ]
     },
     "execution_count": 21,
     "metadata": {},
     "output_type": "execute_result"
    }
   ],
   "source": [
    "# check the percentage of null values in each column\n",
    "null_percent = cars_df.isnull().mean() * 100\n",
    "null_percent = null_percent.map(lambda x: f\"{x:.2f}%\")\n",
    "\n",
    "# rename second column of null_percent series\n",
    "null_percent.index.name = 'Column'\n",
    "null_percent.name = 'Percentage of Null Values'\n",
    "\n",
    "\n",
    "Markdown('# Percentage of null values in each column:')\n",
    "\n",
    "\n"
   ]
  },
  {
   "cell_type": "code",
   "execution_count": 22,
   "metadata": {},
   "outputs": [
    {
     "data": {
      "application/vnd.microsoft.datawrangler.viewer.v0+json": {
       "columns": [
        {
         "name": "Column",
         "rawType": "object",
         "type": "string"
        },
        {
         "name": "Percentage of Null Values",
         "rawType": "object",
         "type": "string"
        }
       ],
       "ref": "17c2c0b6-1e75-44fd-b3a7-a5bd461a80f7",
       "rows": [
        [
         "Car",
         "0.00%"
        ],
        [
         "MPG",
         "0.74%"
        ],
        [
         "Cylinders",
         "0.00%"
        ],
        [
         "Displacement",
         "0.25%"
        ],
        [
         "Horsepower",
         "0.49%"
        ],
        [
         "Weight",
         "0.25%"
        ],
        [
         "Acceleration",
         "0.00%"
        ],
        [
         "Model",
         "0.00%"
        ],
        [
         "Origin",
         "0.00%"
        ]
       ],
       "shape": {
        "columns": 1,
        "rows": 9
       }
      },
      "text/plain": [
       "Column\n",
       "Car             0.00%\n",
       "MPG             0.74%\n",
       "Cylinders       0.00%\n",
       "Displacement    0.25%\n",
       "Horsepower      0.49%\n",
       "Weight          0.25%\n",
       "Acceleration    0.00%\n",
       "Model           0.00%\n",
       "Origin          0.00%\n",
       "Name: Percentage of Null Values, dtype: object"
      ]
     },
     "metadata": {},
     "output_type": "display_data"
    }
   ],
   "source": [
    "display(null_percent)"
   ]
  },
  {
   "attachments": {},
   "cell_type": "markdown",
   "metadata": {},
   "source": [
    "Around *0.19%* of the values are missing, which isn't a lot. Therefore, we might go with the option of dropping all the rows with null values."
   ]
  },
  {
   "cell_type": "code",
   "execution_count": 23,
   "metadata": {},
   "outputs": [],
   "source": [
    "# drop all the rows with any null values\n",
    "cars_df_cleaned = cars_df.dropna()"
   ]
  },
  {
   "cell_type": "code",
   "execution_count": 24,
   "metadata": {},
   "outputs": [
    {
     "data": {
      "application/vnd.microsoft.datawrangler.viewer.v0+json": {
       "columns": [
        {
         "name": "index",
         "rawType": "int64",
         "type": "integer"
        },
        {
         "name": "Car",
         "rawType": "object",
         "type": "string"
        },
        {
         "name": "MPG",
         "rawType": "object",
         "type": "string"
        },
        {
         "name": "Cylinders",
         "rawType": "object",
         "type": "string"
        },
        {
         "name": "Displacement",
         "rawType": "object",
         "type": "string"
        },
        {
         "name": "Horsepower",
         "rawType": "object",
         "type": "string"
        },
        {
         "name": "Weight",
         "rawType": "object",
         "type": "string"
        },
        {
         "name": "Acceleration",
         "rawType": "object",
         "type": "string"
        },
        {
         "name": "Model",
         "rawType": "object",
         "type": "string"
        },
        {
         "name": "Origin",
         "rawType": "object",
         "type": "string"
        }
       ],
       "ref": "15966e6f-e8ee-4ca4-901f-c5a48df701c1",
       "rows": [
        [
         "5",
         "Ford Torino",
         "17.0",
         "8",
         "302.0",
         "140.0",
         "3449.",
         "10.5",
         "70",
         "US"
        ],
        [
         "7",
         "Chevrolet Impala",
         "14.0",
         "8",
         "454.0",
         "220.0",
         "4354.",
         "9.0",
         "70",
         "US"
        ],
        [
         "8",
         "Plymouth Fury iii",
         "14.0",
         "8",
         "440.0",
         "215.0",
         "4312.",
         "8.5",
         "70",
         "US"
        ],
        [
         "9",
         "Pontiac Catalina",
         "14.0",
         "8",
         "455.0",
         "225.0",
         "4425.",
         "10.0",
         "70",
         "US"
        ],
        [
         "10",
         "AMC Ambassador DPL",
         "15.0",
         "8",
         "390.0",
         "190.0",
         "3850.",
         "8.5",
         "70",
         "US"
        ],
        [
         "11",
         "Citroen DS-21 Pallas",
         "0",
         "4",
         "133.0",
         "115.0",
         "3090.",
         "17.5",
         "70",
         "Europe"
        ],
        [
         "12",
         "Chevrolet Chevelle Concours (sw)",
         "0",
         "8",
         "350.0",
         "165.0",
         "4142.",
         "11.5",
         "70",
         "US"
        ],
        [
         "13",
         "Ford Torino (sw)",
         "0",
         "8",
         "351.0",
         "153.0",
         "4034.",
         "11.0",
         "70",
         "US"
        ],
        [
         "14",
         "Plymouth Satellite (sw)",
         "0",
         "8",
         "383.0",
         "175.0",
         "4166.",
         "10.5",
         "70",
         "US"
        ],
        [
         "15",
         "AMC Rebel SST (sw)",
         "0",
         "8",
         "360.0",
         "175.0",
         "3850.",
         "11.0",
         "70",
         "US"
        ],
        [
         "16",
         "Dodge Challenger SE",
         "15.0",
         "8",
         "383.0",
         "170.0",
         "3563.",
         "10.0",
         "70",
         "US"
        ],
        [
         "17",
         "Plymouth 'Cuda 340",
         "14.0",
         "8",
         "340.0",
         "160.0",
         "3609.",
         "8.0",
         "70",
         "US"
        ],
        [
         "18",
         "Ford Mustang Boss 302",
         "0",
         "8",
         "302.0",
         "140.0",
         "3353.",
         "8.0",
         "70",
         "US"
        ],
        [
         "19",
         "Chevrolet Monte Carlo",
         "15.0",
         "8",
         "400.0",
         "150.0",
         "3761.",
         "9.5",
         "70",
         "US"
        ],
        [
         "20",
         "Buick Estate Wagon (sw)",
         "14.0",
         "8",
         "455.0",
         "225.0",
         "3086.",
         "10.0",
         "70",
         "US"
        ],
        [
         "21",
         "Toyota Corolla Mark ii",
         "24.0",
         "4",
         "113.0",
         "95.00",
         "2372.",
         "15.0",
         "70",
         "Japan"
        ],
        [
         "22",
         "Plymouth Duster",
         "22.0",
         "6",
         "198.0",
         "95.00",
         "2833.",
         "15.5",
         "70",
         "US"
        ],
        [
         "23",
         "AMC Hornet",
         "18.0",
         "6",
         "199.0",
         "97.00",
         "2774.",
         "15.5",
         "70",
         "US"
        ],
        [
         "24",
         "Ford Maverick",
         "21.0",
         "6",
         "200.0",
         "85.00",
         "2587.",
         "16.0",
         "70",
         "US"
        ],
        [
         "25",
         "Datsun PL510",
         "27.0",
         "4",
         "97.00",
         "88.00",
         "2130.",
         "14.5",
         "70",
         "Japan"
        ],
        [
         "26",
         "Volkswagen 1131 Deluxe Sedan",
         "26.0",
         "4",
         "97.00",
         "46.00",
         "1835.",
         "20.5",
         "70",
         "Europe"
        ],
        [
         "27",
         "Peugeot 504",
         "25.0",
         "4",
         "110.0",
         "87.00",
         "2672.",
         "17.5",
         "70",
         "Europe"
        ],
        [
         "28",
         "Audi 100 LS",
         "24.0",
         "4",
         "107.0",
         "90.00",
         "2430.",
         "14.5",
         "70",
         "Europe"
        ],
        [
         "29",
         "Saab 99e",
         "25.0",
         "4",
         "104.0",
         "95.00",
         "2375.",
         "17.5",
         "70",
         "Europe"
        ],
        [
         "30",
         "BMW 2002",
         "26.0",
         "4",
         "121.0",
         "113.0",
         "2234.",
         "12.5",
         "70",
         "Europe"
        ],
        [
         "31",
         "AMC Gremlin",
         "21.0",
         "6",
         "199.0",
         "90.00",
         "2648.",
         "15.0",
         "70",
         "US"
        ],
        [
         "32",
         "Ford F250",
         "10.0",
         "8",
         "360.0",
         "215.0",
         "4615.",
         "14.0",
         "70",
         "US"
        ],
        [
         "33",
         "Chevy C20",
         "10.0",
         "8",
         "307.0",
         "200.0",
         "4376.",
         "15.0",
         "70",
         "US"
        ],
        [
         "34",
         "Dodge D200",
         "11.0",
         "8",
         "318.0",
         "210.0",
         "4382.",
         "13.5",
         "70",
         "US"
        ],
        [
         "35",
         "Hi 1200D",
         "9.0",
         "8",
         "304.0",
         "193.0",
         "4732.",
         "18.5",
         "70",
         "US"
        ],
        [
         "36",
         "Datsun PL510",
         "27.0",
         "4",
         "97.00",
         "88.00",
         "2130.",
         "14.5",
         "71",
         "Japan"
        ],
        [
         "37",
         "Chevrolet Vega 2300",
         "28.0",
         "4",
         "140.0",
         "90.00",
         "2264.",
         "15.5",
         "71",
         "US"
        ],
        [
         "38",
         "Toyota Corolla",
         "25.0",
         "4",
         "113.0",
         "95.00",
         "2228.",
         "14.0",
         "71",
         "Japan"
        ],
        [
         "39",
         "Ford Pinto",
         "25.0",
         "4",
         "98.00",
         "0",
         "2046.",
         "19.0",
         "71",
         "US"
        ],
        [
         "40",
         "Volkswagen Super Beetle 117",
         "0",
         "4",
         "97.00",
         "48.00",
         "1978.",
         "20.0",
         "71",
         "Europe"
        ],
        [
         "41",
         "AMC Gremlin",
         "19.0",
         "6",
         "232.0",
         "100.0",
         "2634.",
         "13.0",
         "71",
         "US"
        ],
        [
         "42",
         "Plymouth Satellite Custom",
         "16.0",
         "6",
         "225.0",
         "105.0",
         "3439.",
         "15.5",
         "71",
         "US"
        ],
        [
         "43",
         "Chevrolet Chevelle Malibu",
         "17.0",
         "6",
         "250.0",
         "100.0",
         "3329.",
         "15.5",
         "71",
         "US"
        ],
        [
         "44",
         "Ford Torino 500",
         "19.0",
         "6",
         "250.0",
         "88.00",
         "3302.",
         "15.5",
         "71",
         "US"
        ],
        [
         "45",
         "AMC Matador",
         "18.0",
         "6",
         "232.0",
         "100.0",
         "3288.",
         "15.5",
         "71",
         "US"
        ],
        [
         "46",
         "Chevrolet Impala",
         "14.0",
         "8",
         "350.0",
         "165.0",
         "4209.",
         "12.0",
         "71",
         "US"
        ],
        [
         "47",
         "Pontiac Catalina Brougham",
         "14.0",
         "8",
         "400.0",
         "175.0",
         "4464.",
         "11.5",
         "71",
         "US"
        ],
        [
         "48",
         "Ford Galaxie 500",
         "14.0",
         "8",
         "351.0",
         "153.0",
         "4154.",
         "13.5",
         "71",
         "US"
        ],
        [
         "49",
         "Plymouth Fury iii",
         "14.0",
         "8",
         "318.0",
         "150.0",
         "4096.",
         "13.0",
         "71",
         "US"
        ],
        [
         "50",
         "Dodge Monaco (sw)",
         "12.0",
         "8",
         "383.0",
         "180.0",
         "4955.",
         "11.5",
         "71",
         "US"
        ],
        [
         "51",
         "Ford Country Squire (sw)",
         "13.0",
         "8",
         "400.0",
         "170.0",
         "4746.",
         "12.0",
         "71",
         "US"
        ],
        [
         "52",
         "Pontiac Safari (sw)",
         "13.0",
         "8",
         "400.0",
         "175.0",
         "5140.",
         "12.0",
         "71",
         "US"
        ],
        [
         "53",
         "AMC Hornet Sportabout (sw)",
         "18.0",
         "6",
         "258.0",
         "110.0",
         "2962.",
         "13.5",
         "71",
         "US"
        ],
        [
         "54",
         "Chevrolet Vega (sw)",
         "22.0",
         "4",
         "140.0",
         "72.00",
         "2408.",
         "19.0",
         "71",
         "US"
        ],
        [
         "55",
         "Pontiac Firebird",
         "19.0",
         "6",
         "250.0",
         "100.0",
         "3282.",
         "15.0",
         "71",
         "US"
        ]
       ],
       "shape": {
        "columns": 9,
        "rows": 401
       }
      },
      "text/html": [
       "<div>\n",
       "<style scoped>\n",
       "    .dataframe tbody tr th:only-of-type {\n",
       "        vertical-align: middle;\n",
       "    }\n",
       "\n",
       "    .dataframe tbody tr th {\n",
       "        vertical-align: top;\n",
       "    }\n",
       "\n",
       "    .dataframe thead th {\n",
       "        text-align: right;\n",
       "    }\n",
       "</style>\n",
       "<table border=\"1\" class=\"dataframe\">\n",
       "  <thead>\n",
       "    <tr style=\"text-align: right;\">\n",
       "      <th>Column</th>\n",
       "      <th>Car</th>\n",
       "      <th>MPG</th>\n",
       "      <th>Cylinders</th>\n",
       "      <th>Displacement</th>\n",
       "      <th>Horsepower</th>\n",
       "      <th>Weight</th>\n",
       "      <th>Acceleration</th>\n",
       "      <th>Model</th>\n",
       "      <th>Origin</th>\n",
       "    </tr>\n",
       "  </thead>\n",
       "  <tbody>\n",
       "    <tr>\n",
       "      <th>5</th>\n",
       "      <td>Ford Torino</td>\n",
       "      <td>17.0</td>\n",
       "      <td>8</td>\n",
       "      <td>302.0</td>\n",
       "      <td>140.0</td>\n",
       "      <td>3449.</td>\n",
       "      <td>10.5</td>\n",
       "      <td>70</td>\n",
       "      <td>US</td>\n",
       "    </tr>\n",
       "    <tr>\n",
       "      <th>7</th>\n",
       "      <td>Chevrolet Impala</td>\n",
       "      <td>14.0</td>\n",
       "      <td>8</td>\n",
       "      <td>454.0</td>\n",
       "      <td>220.0</td>\n",
       "      <td>4354.</td>\n",
       "      <td>9.0</td>\n",
       "      <td>70</td>\n",
       "      <td>US</td>\n",
       "    </tr>\n",
       "    <tr>\n",
       "      <th>8</th>\n",
       "      <td>Plymouth Fury iii</td>\n",
       "      <td>14.0</td>\n",
       "      <td>8</td>\n",
       "      <td>440.0</td>\n",
       "      <td>215.0</td>\n",
       "      <td>4312.</td>\n",
       "      <td>8.5</td>\n",
       "      <td>70</td>\n",
       "      <td>US</td>\n",
       "    </tr>\n",
       "    <tr>\n",
       "      <th>9</th>\n",
       "      <td>Pontiac Catalina</td>\n",
       "      <td>14.0</td>\n",
       "      <td>8</td>\n",
       "      <td>455.0</td>\n",
       "      <td>225.0</td>\n",
       "      <td>4425.</td>\n",
       "      <td>10.0</td>\n",
       "      <td>70</td>\n",
       "      <td>US</td>\n",
       "    </tr>\n",
       "    <tr>\n",
       "      <th>10</th>\n",
       "      <td>AMC Ambassador DPL</td>\n",
       "      <td>15.0</td>\n",
       "      <td>8</td>\n",
       "      <td>390.0</td>\n",
       "      <td>190.0</td>\n",
       "      <td>3850.</td>\n",
       "      <td>8.5</td>\n",
       "      <td>70</td>\n",
       "      <td>US</td>\n",
       "    </tr>\n",
       "    <tr>\n",
       "      <th>...</th>\n",
       "      <td>...</td>\n",
       "      <td>...</td>\n",
       "      <td>...</td>\n",
       "      <td>...</td>\n",
       "      <td>...</td>\n",
       "      <td>...</td>\n",
       "      <td>...</td>\n",
       "      <td>...</td>\n",
       "      <td>...</td>\n",
       "    </tr>\n",
       "    <tr>\n",
       "      <th>402</th>\n",
       "      <td>Ford Mustang GL</td>\n",
       "      <td>27.0</td>\n",
       "      <td>4</td>\n",
       "      <td>140.0</td>\n",
       "      <td>86.00</td>\n",
       "      <td>2790.</td>\n",
       "      <td>15.6</td>\n",
       "      <td>82</td>\n",
       "      <td>US</td>\n",
       "    </tr>\n",
       "    <tr>\n",
       "      <th>403</th>\n",
       "      <td>Volkswagen Pickup</td>\n",
       "      <td>44.0</td>\n",
       "      <td>4</td>\n",
       "      <td>97.00</td>\n",
       "      <td>52.00</td>\n",
       "      <td>2130.</td>\n",
       "      <td>24.6</td>\n",
       "      <td>82</td>\n",
       "      <td>Europe</td>\n",
       "    </tr>\n",
       "    <tr>\n",
       "      <th>404</th>\n",
       "      <td>Dodge Rampage</td>\n",
       "      <td>32.0</td>\n",
       "      <td>4</td>\n",
       "      <td>135.0</td>\n",
       "      <td>84.00</td>\n",
       "      <td>2295.</td>\n",
       "      <td>11.6</td>\n",
       "      <td>82</td>\n",
       "      <td>US</td>\n",
       "    </tr>\n",
       "    <tr>\n",
       "      <th>405</th>\n",
       "      <td>Ford Ranger</td>\n",
       "      <td>28.0</td>\n",
       "      <td>4</td>\n",
       "      <td>120.0</td>\n",
       "      <td>79.00</td>\n",
       "      <td>2625.</td>\n",
       "      <td>18.6</td>\n",
       "      <td>82</td>\n",
       "      <td>US</td>\n",
       "    </tr>\n",
       "    <tr>\n",
       "      <th>406</th>\n",
       "      <td>Chevy S-10</td>\n",
       "      <td>31.0</td>\n",
       "      <td>4</td>\n",
       "      <td>119.0</td>\n",
       "      <td>82.00</td>\n",
       "      <td>2720.</td>\n",
       "      <td>19.4</td>\n",
       "      <td>82</td>\n",
       "      <td>US</td>\n",
       "    </tr>\n",
       "  </tbody>\n",
       "</table>\n",
       "<p>401 rows × 9 columns</p>\n",
       "</div>"
      ],
      "text/plain": [
       "Column                 Car   MPG Cylinders Displacement Horsepower Weight  \\\n",
       "5              Ford Torino  17.0         8        302.0      140.0  3449.   \n",
       "7         Chevrolet Impala  14.0         8        454.0      220.0  4354.   \n",
       "8        Plymouth Fury iii  14.0         8        440.0      215.0  4312.   \n",
       "9         Pontiac Catalina  14.0         8        455.0      225.0  4425.   \n",
       "10      AMC Ambassador DPL  15.0         8        390.0      190.0  3850.   \n",
       "..                     ...   ...       ...          ...        ...    ...   \n",
       "402        Ford Mustang GL  27.0         4        140.0      86.00  2790.   \n",
       "403      Volkswagen Pickup  44.0         4        97.00      52.00  2130.   \n",
       "404          Dodge Rampage  32.0         4        135.0      84.00  2295.   \n",
       "405            Ford Ranger  28.0         4        120.0      79.00  2625.   \n",
       "406             Chevy S-10  31.0         4        119.0      82.00  2720.   \n",
       "\n",
       "Column Acceleration Model  Origin  \n",
       "5              10.5    70      US  \n",
       "7               9.0    70      US  \n",
       "8               8.5    70      US  \n",
       "9              10.0    70      US  \n",
       "10              8.5    70      US  \n",
       "..              ...   ...     ...  \n",
       "402            15.6    82      US  \n",
       "403            24.6    82  Europe  \n",
       "404            11.6    82      US  \n",
       "405            18.6    82      US  \n",
       "406            19.4    82      US  \n",
       "\n",
       "[401 rows x 9 columns]"
      ]
     },
     "execution_count": 24,
     "metadata": {},
     "output_type": "execute_result"
    }
   ],
   "source": [
    "cars_df_cleaned"
   ]
  },
  {
   "attachments": {},
   "cell_type": "markdown",
   "metadata": {},
   "source": [
    "Let's observe how many columns we lost"
   ]
  },
  {
   "cell_type": "code",
   "execution_count": 25,
   "metadata": {},
   "outputs": [
    {
     "data": {
      "text/markdown": [
       "# Shape of the original Cars dataframe:\n",
       "   # **(406, 9)**"
      ],
      "text/plain": [
       "<IPython.core.display.Markdown object>"
      ]
     },
     "execution_count": 25,
     "metadata": {},
     "output_type": "execute_result"
    }
   ],
   "source": [
    "Markdown('# Shape of the original Cars dataframe:\\n   # **' + str(cars_df.shape) + '**')\n"
   ]
  },
  {
   "cell_type": "code",
   "execution_count": 26,
   "metadata": {},
   "outputs": [
    {
     "data": {
      "text/markdown": [
       "# Shape of the cleaned up Cars dataframe after dropping rows with any null values:\n",
       "   # **(401, 9)**"
      ],
      "text/plain": [
       "<IPython.core.display.Markdown object>"
      ]
     },
     "execution_count": 26,
     "metadata": {},
     "output_type": "execute_result"
    }
   ],
   "source": [
    "Markdown('# Shape of the cleaned up Cars dataframe after dropping rows with any null values:\\n   # **' + str(cars_df_cleaned.shape) + '**')"
   ]
  },
  {
   "cell_type": "code",
   "execution_count": 27,
   "metadata": {},
   "outputs": [
    {
     "data": {
      "text/markdown": [
       "# Number of rows dropped: **5**"
      ],
      "text/plain": [
       "<IPython.core.display.Markdown object>"
      ]
     },
     "execution_count": 27,
     "metadata": {},
     "output_type": "execute_result"
    }
   ],
   "source": [
    "orginal_row_count = cars_df.shape[0]\n",
    "cleaned_row_count = cars_df_cleaned.shape[0]\n",
    "Markdown(f'# Number of rows dropped: **{orginal_row_count - cleaned_row_count}**')"
   ]
  },
  {
   "attachments": {},
   "cell_type": "markdown",
   "metadata": {},
   "source": [
    "Lets also check dropping the columns"
   ]
  },
  {
   "cell_type": "markdown",
   "metadata": {},
   "source": [
    "`No column should be dropped. All provide meaningful information for:`\n",
    "\n",
    " * `Predictive modeling`\n",
    "\n",
    " * `Correlation analysis`\n",
    "\n",
    " * `Trend comparisons`\n",
    "\n",
    "`The only row we dropped is the first one, because it was metadata. We used this code to remove that row:`\n",
    "\n",
    "`cars_df = cars_df.drop(index=0)`"
   ]
  },
  {
   "cell_type": "markdown",
   "metadata": {},
   "source": [
    "However, let's try dropping columns by specifying a null value threshold:"
   ]
  },
  {
   "cell_type": "code",
   "execution_count": 28,
   "metadata": {},
   "outputs": [
    {
     "data": {
      "text/markdown": [
       "# Shape of the Cars dataframe after dropping columns with more than 0.1% null values:\n",
       "   # **(406, 5)**"
      ],
      "text/plain": [
       "<IPython.core.display.Markdown object>"
      ]
     },
     "execution_count": 28,
     "metadata": {},
     "output_type": "execute_result"
    }
   ],
   "source": [
    "# We can can drop columns with more than 0.5% null values:\n",
    "threshold = 0.1  # percent\n",
    "cars_dropped_df = cars_df.loc[:, cars_df.isnull().mean() * 100 <= threshold]\n",
    "Markdown('# Shape of the Cars dataframe after dropping columns with more than ' + str(threshold) + '% null values:\\n   # **' + str(cars_dropped_df.shape) + '**')\n",
    " "
   ]
  },
  {
   "cell_type": "code",
   "execution_count": 29,
   "metadata": {},
   "outputs": [
    {
     "data": {
      "application/vnd.microsoft.datawrangler.viewer.v0+json": {
       "columns": [
        {
         "name": "index",
         "rawType": "int64",
         "type": "integer"
        },
        {
         "name": "Car",
         "rawType": "object",
         "type": "string"
        },
        {
         "name": "Cylinders",
         "rawType": "object",
         "type": "string"
        },
        {
         "name": "Acceleration",
         "rawType": "object",
         "type": "string"
        },
        {
         "name": "Model",
         "rawType": "object",
         "type": "string"
        },
        {
         "name": "Origin",
         "rawType": "object",
         "type": "string"
        }
       ],
       "ref": "e565da39-1761-442c-aff2-a02fefc53314",
       "rows": [
        [
         "1",
         "Chevrolet Chevelle Malibu",
         "8",
         "12.0",
         "70",
         "US"
        ],
        [
         "2",
         "Buick Skylark 320",
         "8",
         "11.5",
         "70",
         "US"
        ],
        [
         "3",
         "Plymouth Satellite",
         "8",
         "11.0",
         "70",
         "US"
        ],
        [
         "4",
         "AMC Rebel SST",
         "8",
         "12.0",
         "70",
         "US"
        ],
        [
         "5",
         "Ford Torino",
         "8",
         "10.5",
         "70",
         "US"
        ],
        [
         "6",
         "Ford Galaxie 500",
         "8",
         "10.0",
         "70",
         "US"
        ],
        [
         "7",
         "Chevrolet Impala",
         "8",
         "9.0",
         "70",
         "US"
        ],
        [
         "8",
         "Plymouth Fury iii",
         "8",
         "8.5",
         "70",
         "US"
        ],
        [
         "9",
         "Pontiac Catalina",
         "8",
         "10.0",
         "70",
         "US"
        ],
        [
         "10",
         "AMC Ambassador DPL",
         "8",
         "8.5",
         "70",
         "US"
        ],
        [
         "11",
         "Citroen DS-21 Pallas",
         "4",
         "17.5",
         "70",
         "Europe"
        ],
        [
         "12",
         "Chevrolet Chevelle Concours (sw)",
         "8",
         "11.5",
         "70",
         "US"
        ],
        [
         "13",
         "Ford Torino (sw)",
         "8",
         "11.0",
         "70",
         "US"
        ],
        [
         "14",
         "Plymouth Satellite (sw)",
         "8",
         "10.5",
         "70",
         "US"
        ],
        [
         "15",
         "AMC Rebel SST (sw)",
         "8",
         "11.0",
         "70",
         "US"
        ],
        [
         "16",
         "Dodge Challenger SE",
         "8",
         "10.0",
         "70",
         "US"
        ],
        [
         "17",
         "Plymouth 'Cuda 340",
         "8",
         "8.0",
         "70",
         "US"
        ],
        [
         "18",
         "Ford Mustang Boss 302",
         "8",
         "8.0",
         "70",
         "US"
        ],
        [
         "19",
         "Chevrolet Monte Carlo",
         "8",
         "9.5",
         "70",
         "US"
        ],
        [
         "20",
         "Buick Estate Wagon (sw)",
         "8",
         "10.0",
         "70",
         "US"
        ],
        [
         "21",
         "Toyota Corolla Mark ii",
         "4",
         "15.0",
         "70",
         "Japan"
        ],
        [
         "22",
         "Plymouth Duster",
         "6",
         "15.5",
         "70",
         "US"
        ],
        [
         "23",
         "AMC Hornet",
         "6",
         "15.5",
         "70",
         "US"
        ],
        [
         "24",
         "Ford Maverick",
         "6",
         "16.0",
         "70",
         "US"
        ],
        [
         "25",
         "Datsun PL510",
         "4",
         "14.5",
         "70",
         "Japan"
        ],
        [
         "26",
         "Volkswagen 1131 Deluxe Sedan",
         "4",
         "20.5",
         "70",
         "Europe"
        ],
        [
         "27",
         "Peugeot 504",
         "4",
         "17.5",
         "70",
         "Europe"
        ],
        [
         "28",
         "Audi 100 LS",
         "4",
         "14.5",
         "70",
         "Europe"
        ],
        [
         "29",
         "Saab 99e",
         "4",
         "17.5",
         "70",
         "Europe"
        ],
        [
         "30",
         "BMW 2002",
         "4",
         "12.5",
         "70",
         "Europe"
        ],
        [
         "31",
         "AMC Gremlin",
         "6",
         "15.0",
         "70",
         "US"
        ],
        [
         "32",
         "Ford F250",
         "8",
         "14.0",
         "70",
         "US"
        ],
        [
         "33",
         "Chevy C20",
         "8",
         "15.0",
         "70",
         "US"
        ],
        [
         "34",
         "Dodge D200",
         "8",
         "13.5",
         "70",
         "US"
        ],
        [
         "35",
         "Hi 1200D",
         "8",
         "18.5",
         "70",
         "US"
        ],
        [
         "36",
         "Datsun PL510",
         "4",
         "14.5",
         "71",
         "Japan"
        ],
        [
         "37",
         "Chevrolet Vega 2300",
         "4",
         "15.5",
         "71",
         "US"
        ],
        [
         "38",
         "Toyota Corolla",
         "4",
         "14.0",
         "71",
         "Japan"
        ],
        [
         "39",
         "Ford Pinto",
         "4",
         "19.0",
         "71",
         "US"
        ],
        [
         "40",
         "Volkswagen Super Beetle 117",
         "4",
         "20.0",
         "71",
         "Europe"
        ],
        [
         "41",
         "AMC Gremlin",
         "6",
         "13.0",
         "71",
         "US"
        ],
        [
         "42",
         "Plymouth Satellite Custom",
         "6",
         "15.5",
         "71",
         "US"
        ],
        [
         "43",
         "Chevrolet Chevelle Malibu",
         "6",
         "15.5",
         "71",
         "US"
        ],
        [
         "44",
         "Ford Torino 500",
         "6",
         "15.5",
         "71",
         "US"
        ],
        [
         "45",
         "AMC Matador",
         "6",
         "15.5",
         "71",
         "US"
        ],
        [
         "46",
         "Chevrolet Impala",
         "8",
         "12.0",
         "71",
         "US"
        ],
        [
         "47",
         "Pontiac Catalina Brougham",
         "8",
         "11.5",
         "71",
         "US"
        ],
        [
         "48",
         "Ford Galaxie 500",
         "8",
         "13.5",
         "71",
         "US"
        ],
        [
         "49",
         "Plymouth Fury iii",
         "8",
         "13.0",
         "71",
         "US"
        ],
        [
         "50",
         "Dodge Monaco (sw)",
         "8",
         "11.5",
         "71",
         "US"
        ]
       ],
       "shape": {
        "columns": 5,
        "rows": 406
       }
      },
      "text/html": [
       "<div>\n",
       "<style scoped>\n",
       "    .dataframe tbody tr th:only-of-type {\n",
       "        vertical-align: middle;\n",
       "    }\n",
       "\n",
       "    .dataframe tbody tr th {\n",
       "        vertical-align: top;\n",
       "    }\n",
       "\n",
       "    .dataframe thead th {\n",
       "        text-align: right;\n",
       "    }\n",
       "</style>\n",
       "<table border=\"1\" class=\"dataframe\">\n",
       "  <thead>\n",
       "    <tr style=\"text-align: right;\">\n",
       "      <th>Column</th>\n",
       "      <th>Car</th>\n",
       "      <th>Cylinders</th>\n",
       "      <th>Acceleration</th>\n",
       "      <th>Model</th>\n",
       "      <th>Origin</th>\n",
       "    </tr>\n",
       "  </thead>\n",
       "  <tbody>\n",
       "    <tr>\n",
       "      <th>1</th>\n",
       "      <td>Chevrolet Chevelle Malibu</td>\n",
       "      <td>8</td>\n",
       "      <td>12.0</td>\n",
       "      <td>70</td>\n",
       "      <td>US</td>\n",
       "    </tr>\n",
       "    <tr>\n",
       "      <th>2</th>\n",
       "      <td>Buick Skylark 320</td>\n",
       "      <td>8</td>\n",
       "      <td>11.5</td>\n",
       "      <td>70</td>\n",
       "      <td>US</td>\n",
       "    </tr>\n",
       "    <tr>\n",
       "      <th>3</th>\n",
       "      <td>Plymouth Satellite</td>\n",
       "      <td>8</td>\n",
       "      <td>11.0</td>\n",
       "      <td>70</td>\n",
       "      <td>US</td>\n",
       "    </tr>\n",
       "    <tr>\n",
       "      <th>4</th>\n",
       "      <td>AMC Rebel SST</td>\n",
       "      <td>8</td>\n",
       "      <td>12.0</td>\n",
       "      <td>70</td>\n",
       "      <td>US</td>\n",
       "    </tr>\n",
       "    <tr>\n",
       "      <th>5</th>\n",
       "      <td>Ford Torino</td>\n",
       "      <td>8</td>\n",
       "      <td>10.5</td>\n",
       "      <td>70</td>\n",
       "      <td>US</td>\n",
       "    </tr>\n",
       "    <tr>\n",
       "      <th>...</th>\n",
       "      <td>...</td>\n",
       "      <td>...</td>\n",
       "      <td>...</td>\n",
       "      <td>...</td>\n",
       "      <td>...</td>\n",
       "    </tr>\n",
       "    <tr>\n",
       "      <th>402</th>\n",
       "      <td>Ford Mustang GL</td>\n",
       "      <td>4</td>\n",
       "      <td>15.6</td>\n",
       "      <td>82</td>\n",
       "      <td>US</td>\n",
       "    </tr>\n",
       "    <tr>\n",
       "      <th>403</th>\n",
       "      <td>Volkswagen Pickup</td>\n",
       "      <td>4</td>\n",
       "      <td>24.6</td>\n",
       "      <td>82</td>\n",
       "      <td>Europe</td>\n",
       "    </tr>\n",
       "    <tr>\n",
       "      <th>404</th>\n",
       "      <td>Dodge Rampage</td>\n",
       "      <td>4</td>\n",
       "      <td>11.6</td>\n",
       "      <td>82</td>\n",
       "      <td>US</td>\n",
       "    </tr>\n",
       "    <tr>\n",
       "      <th>405</th>\n",
       "      <td>Ford Ranger</td>\n",
       "      <td>4</td>\n",
       "      <td>18.6</td>\n",
       "      <td>82</td>\n",
       "      <td>US</td>\n",
       "    </tr>\n",
       "    <tr>\n",
       "      <th>406</th>\n",
       "      <td>Chevy S-10</td>\n",
       "      <td>4</td>\n",
       "      <td>19.4</td>\n",
       "      <td>82</td>\n",
       "      <td>US</td>\n",
       "    </tr>\n",
       "  </tbody>\n",
       "</table>\n",
       "<p>406 rows × 5 columns</p>\n",
       "</div>"
      ],
      "text/plain": [
       "Column                        Car Cylinders Acceleration Model  Origin\n",
       "1       Chevrolet Chevelle Malibu         8         12.0    70      US\n",
       "2               Buick Skylark 320         8         11.5    70      US\n",
       "3              Plymouth Satellite         8         11.0    70      US\n",
       "4                   AMC Rebel SST         8         12.0    70      US\n",
       "5                     Ford Torino         8         10.5    70      US\n",
       "..                            ...       ...          ...   ...     ...\n",
       "402               Ford Mustang GL         4         15.6    82      US\n",
       "403             Volkswagen Pickup         4         24.6    82  Europe\n",
       "404                 Dodge Rampage         4         11.6    82      US\n",
       "405                   Ford Ranger         4         18.6    82      US\n",
       "406                    Chevy S-10         4         19.4    82      US\n",
       "\n",
       "[406 rows x 5 columns]"
      ]
     },
     "execution_count": 29,
     "metadata": {},
     "output_type": "execute_result"
    }
   ],
   "source": [
    "cars_dropped_df"
   ]
  },
  {
   "attachments": {},
   "cell_type": "markdown",
   "metadata": {},
   "source": [
    "### **Cars Dataset - Filling in missing values automatically**\n",
    "\n",
    "Another option is to try and fill in the missing values through imputations."
   ]
  },
  {
   "attachments": {},
   "cell_type": "markdown",
   "metadata": {},
   "source": [
    "Let's take the `MPG` column for example. We can fill in the missing values with 0s through the following line of code:\n",
    "\n",
    "`df_cars.fillna(0) `. "
   ]
  },
  {
   "cell_type": "code",
   "execution_count": 30,
   "metadata": {},
   "outputs": [
    {
     "data": {
      "application/vnd.microsoft.datawrangler.viewer.v0+json": {
       "columns": [
        {
         "name": "index",
         "rawType": "int64",
         "type": "integer"
        },
        {
         "name": "Car",
         "rawType": "object",
         "type": "string"
        },
        {
         "name": "MPG",
         "rawType": "object",
         "type": "unknown"
        },
        {
         "name": "Cylinders",
         "rawType": "object",
         "type": "string"
        },
        {
         "name": "Displacement",
         "rawType": "object",
         "type": "unknown"
        },
        {
         "name": "Horsepower",
         "rawType": "object",
         "type": "unknown"
        },
        {
         "name": "Weight",
         "rawType": "object",
         "type": "unknown"
        },
        {
         "name": "Acceleration",
         "rawType": "object",
         "type": "string"
        },
        {
         "name": "Model",
         "rawType": "object",
         "type": "string"
        },
        {
         "name": "Origin",
         "rawType": "object",
         "type": "string"
        }
       ],
       "ref": "f642aa57-3a08-4938-a104-205335a5f02f",
       "rows": [
        [
         "1",
         "Chevrolet Chevelle Malibu",
         "0.0",
         "8",
         "307.0",
         "130.0",
         "3504.",
         "12.0",
         "70",
         "US"
        ],
        [
         "2",
         "Buick Skylark 320",
         "15.0",
         "8",
         "350.0",
         null,
         "3693.",
         "11.5",
         "70",
         "US"
        ],
        [
         "3",
         "Plymouth Satellite",
         "0.0",
         "8",
         "318.0",
         "150.0",
         "3436.",
         "11.0",
         "70",
         "US"
        ],
        [
         "4",
         "AMC Rebel SST",
         "16.0",
         "8",
         null,
         "150.0",
         null,
         "12.0",
         "70",
         "US"
        ],
        [
         "5",
         "Ford Torino",
         "17.0",
         "8",
         "302.0",
         "140.0",
         "3449.",
         "10.5",
         "70",
         "US"
        ],
        [
         "6",
         "Ford Galaxie 500",
         "0.0",
         "8",
         "429.0",
         null,
         "4341.",
         "10.0",
         "70",
         "US"
        ],
        [
         "7",
         "Chevrolet Impala",
         "14.0",
         "8",
         "454.0",
         "220.0",
         "4354.",
         "9.0",
         "70",
         "US"
        ],
        [
         "8",
         "Plymouth Fury iii",
         "14.0",
         "8",
         "440.0",
         "215.0",
         "4312.",
         "8.5",
         "70",
         "US"
        ],
        [
         "9",
         "Pontiac Catalina",
         "14.0",
         "8",
         "455.0",
         "225.0",
         "4425.",
         "10.0",
         "70",
         "US"
        ],
        [
         "10",
         "AMC Ambassador DPL",
         "15.0",
         "8",
         "390.0",
         "190.0",
         "3850.",
         "8.5",
         "70",
         "US"
        ],
        [
         "11",
         "Citroen DS-21 Pallas",
         "0",
         "4",
         "133.0",
         "115.0",
         "3090.",
         "17.5",
         "70",
         "Europe"
        ],
        [
         "12",
         "Chevrolet Chevelle Concours (sw)",
         "0",
         "8",
         "350.0",
         "165.0",
         "4142.",
         "11.5",
         "70",
         "US"
        ],
        [
         "13",
         "Ford Torino (sw)",
         "0",
         "8",
         "351.0",
         "153.0",
         "4034.",
         "11.0",
         "70",
         "US"
        ],
        [
         "14",
         "Plymouth Satellite (sw)",
         "0",
         "8",
         "383.0",
         "175.0",
         "4166.",
         "10.5",
         "70",
         "US"
        ],
        [
         "15",
         "AMC Rebel SST (sw)",
         "0",
         "8",
         "360.0",
         "175.0",
         "3850.",
         "11.0",
         "70",
         "US"
        ],
        [
         "16",
         "Dodge Challenger SE",
         "15.0",
         "8",
         "383.0",
         "170.0",
         "3563.",
         "10.0",
         "70",
         "US"
        ],
        [
         "17",
         "Plymouth 'Cuda 340",
         "14.0",
         "8",
         "340.0",
         "160.0",
         "3609.",
         "8.0",
         "70",
         "US"
        ],
        [
         "18",
         "Ford Mustang Boss 302",
         "0",
         "8",
         "302.0",
         "140.0",
         "3353.",
         "8.0",
         "70",
         "US"
        ],
        [
         "19",
         "Chevrolet Monte Carlo",
         "15.0",
         "8",
         "400.0",
         "150.0",
         "3761.",
         "9.5",
         "70",
         "US"
        ],
        [
         "20",
         "Buick Estate Wagon (sw)",
         "14.0",
         "8",
         "455.0",
         "225.0",
         "3086.",
         "10.0",
         "70",
         "US"
        ],
        [
         "21",
         "Toyota Corolla Mark ii",
         "24.0",
         "4",
         "113.0",
         "95.00",
         "2372.",
         "15.0",
         "70",
         "Japan"
        ],
        [
         "22",
         "Plymouth Duster",
         "22.0",
         "6",
         "198.0",
         "95.00",
         "2833.",
         "15.5",
         "70",
         "US"
        ],
        [
         "23",
         "AMC Hornet",
         "18.0",
         "6",
         "199.0",
         "97.00",
         "2774.",
         "15.5",
         "70",
         "US"
        ],
        [
         "24",
         "Ford Maverick",
         "21.0",
         "6",
         "200.0",
         "85.00",
         "2587.",
         "16.0",
         "70",
         "US"
        ],
        [
         "25",
         "Datsun PL510",
         "27.0",
         "4",
         "97.00",
         "88.00",
         "2130.",
         "14.5",
         "70",
         "Japan"
        ],
        [
         "26",
         "Volkswagen 1131 Deluxe Sedan",
         "26.0",
         "4",
         "97.00",
         "46.00",
         "1835.",
         "20.5",
         "70",
         "Europe"
        ],
        [
         "27",
         "Peugeot 504",
         "25.0",
         "4",
         "110.0",
         "87.00",
         "2672.",
         "17.5",
         "70",
         "Europe"
        ],
        [
         "28",
         "Audi 100 LS",
         "24.0",
         "4",
         "107.0",
         "90.00",
         "2430.",
         "14.5",
         "70",
         "Europe"
        ],
        [
         "29",
         "Saab 99e",
         "25.0",
         "4",
         "104.0",
         "95.00",
         "2375.",
         "17.5",
         "70",
         "Europe"
        ],
        [
         "30",
         "BMW 2002",
         "26.0",
         "4",
         "121.0",
         "113.0",
         "2234.",
         "12.5",
         "70",
         "Europe"
        ],
        [
         "31",
         "AMC Gremlin",
         "21.0",
         "6",
         "199.0",
         "90.00",
         "2648.",
         "15.0",
         "70",
         "US"
        ],
        [
         "32",
         "Ford F250",
         "10.0",
         "8",
         "360.0",
         "215.0",
         "4615.",
         "14.0",
         "70",
         "US"
        ],
        [
         "33",
         "Chevy C20",
         "10.0",
         "8",
         "307.0",
         "200.0",
         "4376.",
         "15.0",
         "70",
         "US"
        ],
        [
         "34",
         "Dodge D200",
         "11.0",
         "8",
         "318.0",
         "210.0",
         "4382.",
         "13.5",
         "70",
         "US"
        ],
        [
         "35",
         "Hi 1200D",
         "9.0",
         "8",
         "304.0",
         "193.0",
         "4732.",
         "18.5",
         "70",
         "US"
        ],
        [
         "36",
         "Datsun PL510",
         "27.0",
         "4",
         "97.00",
         "88.00",
         "2130.",
         "14.5",
         "71",
         "Japan"
        ],
        [
         "37",
         "Chevrolet Vega 2300",
         "28.0",
         "4",
         "140.0",
         "90.00",
         "2264.",
         "15.5",
         "71",
         "US"
        ],
        [
         "38",
         "Toyota Corolla",
         "25.0",
         "4",
         "113.0",
         "95.00",
         "2228.",
         "14.0",
         "71",
         "Japan"
        ],
        [
         "39",
         "Ford Pinto",
         "25.0",
         "4",
         "98.00",
         "0",
         "2046.",
         "19.0",
         "71",
         "US"
        ],
        [
         "40",
         "Volkswagen Super Beetle 117",
         "0",
         "4",
         "97.00",
         "48.00",
         "1978.",
         "20.0",
         "71",
         "Europe"
        ],
        [
         "41",
         "AMC Gremlin",
         "19.0",
         "6",
         "232.0",
         "100.0",
         "2634.",
         "13.0",
         "71",
         "US"
        ],
        [
         "42",
         "Plymouth Satellite Custom",
         "16.0",
         "6",
         "225.0",
         "105.0",
         "3439.",
         "15.5",
         "71",
         "US"
        ],
        [
         "43",
         "Chevrolet Chevelle Malibu",
         "17.0",
         "6",
         "250.0",
         "100.0",
         "3329.",
         "15.5",
         "71",
         "US"
        ],
        [
         "44",
         "Ford Torino 500",
         "19.0",
         "6",
         "250.0",
         "88.00",
         "3302.",
         "15.5",
         "71",
         "US"
        ],
        [
         "45",
         "AMC Matador",
         "18.0",
         "6",
         "232.0",
         "100.0",
         "3288.",
         "15.5",
         "71",
         "US"
        ],
        [
         "46",
         "Chevrolet Impala",
         "14.0",
         "8",
         "350.0",
         "165.0",
         "4209.",
         "12.0",
         "71",
         "US"
        ],
        [
         "47",
         "Pontiac Catalina Brougham",
         "14.0",
         "8",
         "400.0",
         "175.0",
         "4464.",
         "11.5",
         "71",
         "US"
        ],
        [
         "48",
         "Ford Galaxie 500",
         "14.0",
         "8",
         "351.0",
         "153.0",
         "4154.",
         "13.5",
         "71",
         "US"
        ],
        [
         "49",
         "Plymouth Fury iii",
         "14.0",
         "8",
         "318.0",
         "150.0",
         "4096.",
         "13.0",
         "71",
         "US"
        ],
        [
         "50",
         "Dodge Monaco (sw)",
         "12.0",
         "8",
         "383.0",
         "180.0",
         "4955.",
         "11.5",
         "71",
         "US"
        ]
       ],
       "shape": {
        "columns": 9,
        "rows": 406
       }
      },
      "text/html": [
       "<div>\n",
       "<style scoped>\n",
       "    .dataframe tbody tr th:only-of-type {\n",
       "        vertical-align: middle;\n",
       "    }\n",
       "\n",
       "    .dataframe tbody tr th {\n",
       "        vertical-align: top;\n",
       "    }\n",
       "\n",
       "    .dataframe thead th {\n",
       "        text-align: right;\n",
       "    }\n",
       "</style>\n",
       "<table border=\"1\" class=\"dataframe\">\n",
       "  <thead>\n",
       "    <tr style=\"text-align: right;\">\n",
       "      <th>Column</th>\n",
       "      <th>Car</th>\n",
       "      <th>MPG</th>\n",
       "      <th>Cylinders</th>\n",
       "      <th>Displacement</th>\n",
       "      <th>Horsepower</th>\n",
       "      <th>Weight</th>\n",
       "      <th>Acceleration</th>\n",
       "      <th>Model</th>\n",
       "      <th>Origin</th>\n",
       "    </tr>\n",
       "  </thead>\n",
       "  <tbody>\n",
       "    <tr>\n",
       "      <th>1</th>\n",
       "      <td>Chevrolet Chevelle Malibu</td>\n",
       "      <td>0.0</td>\n",
       "      <td>8</td>\n",
       "      <td>307.0</td>\n",
       "      <td>130.0</td>\n",
       "      <td>3504.</td>\n",
       "      <td>12.0</td>\n",
       "      <td>70</td>\n",
       "      <td>US</td>\n",
       "    </tr>\n",
       "    <tr>\n",
       "      <th>2</th>\n",
       "      <td>Buick Skylark 320</td>\n",
       "      <td>15.0</td>\n",
       "      <td>8</td>\n",
       "      <td>350.0</td>\n",
       "      <td>NaN</td>\n",
       "      <td>3693.</td>\n",
       "      <td>11.5</td>\n",
       "      <td>70</td>\n",
       "      <td>US</td>\n",
       "    </tr>\n",
       "    <tr>\n",
       "      <th>3</th>\n",
       "      <td>Plymouth Satellite</td>\n",
       "      <td>0.0</td>\n",
       "      <td>8</td>\n",
       "      <td>318.0</td>\n",
       "      <td>150.0</td>\n",
       "      <td>3436.</td>\n",
       "      <td>11.0</td>\n",
       "      <td>70</td>\n",
       "      <td>US</td>\n",
       "    </tr>\n",
       "    <tr>\n",
       "      <th>4</th>\n",
       "      <td>AMC Rebel SST</td>\n",
       "      <td>16.0</td>\n",
       "      <td>8</td>\n",
       "      <td>NaN</td>\n",
       "      <td>150.0</td>\n",
       "      <td>NaN</td>\n",
       "      <td>12.0</td>\n",
       "      <td>70</td>\n",
       "      <td>US</td>\n",
       "    </tr>\n",
       "    <tr>\n",
       "      <th>5</th>\n",
       "      <td>Ford Torino</td>\n",
       "      <td>17.0</td>\n",
       "      <td>8</td>\n",
       "      <td>302.0</td>\n",
       "      <td>140.0</td>\n",
       "      <td>3449.</td>\n",
       "      <td>10.5</td>\n",
       "      <td>70</td>\n",
       "      <td>US</td>\n",
       "    </tr>\n",
       "    <tr>\n",
       "      <th>...</th>\n",
       "      <td>...</td>\n",
       "      <td>...</td>\n",
       "      <td>...</td>\n",
       "      <td>...</td>\n",
       "      <td>...</td>\n",
       "      <td>...</td>\n",
       "      <td>...</td>\n",
       "      <td>...</td>\n",
       "      <td>...</td>\n",
       "    </tr>\n",
       "    <tr>\n",
       "      <th>402</th>\n",
       "      <td>Ford Mustang GL</td>\n",
       "      <td>27.0</td>\n",
       "      <td>4</td>\n",
       "      <td>140.0</td>\n",
       "      <td>86.00</td>\n",
       "      <td>2790.</td>\n",
       "      <td>15.6</td>\n",
       "      <td>82</td>\n",
       "      <td>US</td>\n",
       "    </tr>\n",
       "    <tr>\n",
       "      <th>403</th>\n",
       "      <td>Volkswagen Pickup</td>\n",
       "      <td>44.0</td>\n",
       "      <td>4</td>\n",
       "      <td>97.00</td>\n",
       "      <td>52.00</td>\n",
       "      <td>2130.</td>\n",
       "      <td>24.6</td>\n",
       "      <td>82</td>\n",
       "      <td>Europe</td>\n",
       "    </tr>\n",
       "    <tr>\n",
       "      <th>404</th>\n",
       "      <td>Dodge Rampage</td>\n",
       "      <td>32.0</td>\n",
       "      <td>4</td>\n",
       "      <td>135.0</td>\n",
       "      <td>84.00</td>\n",
       "      <td>2295.</td>\n",
       "      <td>11.6</td>\n",
       "      <td>82</td>\n",
       "      <td>US</td>\n",
       "    </tr>\n",
       "    <tr>\n",
       "      <th>405</th>\n",
       "      <td>Ford Ranger</td>\n",
       "      <td>28.0</td>\n",
       "      <td>4</td>\n",
       "      <td>120.0</td>\n",
       "      <td>79.00</td>\n",
       "      <td>2625.</td>\n",
       "      <td>18.6</td>\n",
       "      <td>82</td>\n",
       "      <td>US</td>\n",
       "    </tr>\n",
       "    <tr>\n",
       "      <th>406</th>\n",
       "      <td>Chevy S-10</td>\n",
       "      <td>31.0</td>\n",
       "      <td>4</td>\n",
       "      <td>119.0</td>\n",
       "      <td>82.00</td>\n",
       "      <td>2720.</td>\n",
       "      <td>19.4</td>\n",
       "      <td>82</td>\n",
       "      <td>US</td>\n",
       "    </tr>\n",
       "  </tbody>\n",
       "</table>\n",
       "<p>406 rows × 9 columns</p>\n",
       "</div>"
      ],
      "text/plain": [
       "Column                        Car   MPG Cylinders Displacement Horsepower  \\\n",
       "1       Chevrolet Chevelle Malibu   0.0         8        307.0      130.0   \n",
       "2               Buick Skylark 320  15.0         8        350.0        NaN   \n",
       "3              Plymouth Satellite   0.0         8        318.0      150.0   \n",
       "4                   AMC Rebel SST  16.0         8          NaN      150.0   \n",
       "5                     Ford Torino  17.0         8        302.0      140.0   \n",
       "..                            ...   ...       ...          ...        ...   \n",
       "402               Ford Mustang GL  27.0         4        140.0      86.00   \n",
       "403             Volkswagen Pickup  44.0         4        97.00      52.00   \n",
       "404                 Dodge Rampage  32.0         4        135.0      84.00   \n",
       "405                   Ford Ranger  28.0         4        120.0      79.00   \n",
       "406                    Chevy S-10  31.0         4        119.0      82.00   \n",
       "\n",
       "Column Weight Acceleration Model  Origin  \n",
       "1       3504.         12.0    70      US  \n",
       "2       3693.         11.5    70      US  \n",
       "3       3436.         11.0    70      US  \n",
       "4         NaN         12.0    70      US  \n",
       "5       3449.         10.5    70      US  \n",
       "..        ...          ...   ...     ...  \n",
       "402     2790.         15.6    82      US  \n",
       "403     2130.         24.6    82  Europe  \n",
       "404     2295.         11.6    82      US  \n",
       "405     2625.         18.6    82      US  \n",
       "406     2720.         19.4    82      US  \n",
       "\n",
       "[406 rows x 9 columns]"
      ]
     },
     "execution_count": 30,
     "metadata": {},
     "output_type": "execute_result"
    }
   ],
   "source": [
    "# fill the MPG column missing values with 0s\n",
    "cars_df_filled = cars_df.copy()\n",
    "cars_df_filled['MPG'] = cars_df_filled['MPG'].fillna(0.0)\n",
    "cars_df_filled"
   ]
  },
  {
   "attachments": {},
   "cell_type": "markdown",
   "metadata": {},
   "source": [
    "However, this does not make much sense as there isn't MPG equal to 0. How about we plot the MPG column and if it follows a random distribution we can use the mean of the column to compute the missing values. Otherwise, we can use the median (if there is a skewed normal distribution). However, there might be a better way of imputation which is getting the median or the mean of the MPG of the cars with similar attributes."
   ]
  },
  {
   "attachments": {},
   "cell_type": "markdown",
   "metadata": {},
   "source": [
    "To compute the mean we need numeric values. However the values in the dataframe are objects. Therefore, we need to change them to numerics so that we can compute them."
   ]
  },
  {
   "cell_type": "code",
   "execution_count": 31,
   "metadata": {},
   "outputs": [
    {
     "data": {
      "application/vnd.microsoft.datawrangler.viewer.v0+json": {
       "columns": [
        {
         "name": "index",
         "rawType": "int64",
         "type": "integer"
        },
        {
         "name": "Car",
         "rawType": "object",
         "type": "string"
        },
        {
         "name": "MPG",
         "rawType": "object",
         "type": "unknown"
        },
        {
         "name": "Cylinders",
         "rawType": "object",
         "type": "unknown"
        },
        {
         "name": "Displacement",
         "rawType": "object",
         "type": "unknown"
        },
        {
         "name": "Horsepower",
         "rawType": "object",
         "type": "unknown"
        },
        {
         "name": "Weight",
         "rawType": "object",
         "type": "unknown"
        },
        {
         "name": "Acceleration",
         "rawType": "object",
         "type": "unknown"
        },
        {
         "name": "Model",
         "rawType": "object",
         "type": "unknown"
        },
        {
         "name": "Origin",
         "rawType": "object",
         "type": "unknown"
        }
       ],
       "ref": "b2cf69e8-6725-4162-bd71-2bb0a2d080f3",
       "rows": [
        [
         "1",
         "Chevrolet Chevelle Malibu",
         null,
         "8",
         "307.0",
         "130.0",
         "3504.0",
         "12.0",
         "70",
         null
        ],
        [
         "2",
         "Buick Skylark 320",
         "15.0",
         "8",
         "350.0",
         null,
         "3693.0",
         "11.5",
         "70",
         null
        ],
        [
         "3",
         "Plymouth Satellite",
         null,
         "8",
         "318.0",
         "150.0",
         "3436.0",
         "11.0",
         "70",
         null
        ],
        [
         "4",
         "AMC Rebel SST",
         "16.0",
         "8",
         null,
         "150.0",
         null,
         "12.0",
         "70",
         null
        ],
        [
         "5",
         "Ford Torino",
         "17.0",
         "8",
         "302.0",
         "140.0",
         "3449.0",
         "10.5",
         "70",
         null
        ],
        [
         "6",
         "Ford Galaxie 500",
         null,
         "8",
         "429.0",
         null,
         "4341.0",
         "10.0",
         "70",
         null
        ],
        [
         "7",
         "Chevrolet Impala",
         "14.0",
         "8",
         "454.0",
         "220.0",
         "4354.0",
         "9.0",
         "70",
         null
        ],
        [
         "8",
         "Plymouth Fury iii",
         "14.0",
         "8",
         "440.0",
         "215.0",
         "4312.0",
         "8.5",
         "70",
         null
        ],
        [
         "9",
         "Pontiac Catalina",
         "14.0",
         "8",
         "455.0",
         "225.0",
         "4425.0",
         "10.0",
         "70",
         null
        ],
        [
         "10",
         "AMC Ambassador DPL",
         "15.0",
         "8",
         "390.0",
         "190.0",
         "3850.0",
         "8.5",
         "70",
         null
        ],
        [
         "11",
         "Citroen DS-21 Pallas",
         "0.0",
         "4",
         "133.0",
         "115.0",
         "3090.0",
         "17.5",
         "70",
         null
        ],
        [
         "12",
         "Chevrolet Chevelle Concours (sw)",
         "0.0",
         "8",
         "350.0",
         "165.0",
         "4142.0",
         "11.5",
         "70",
         null
        ],
        [
         "13",
         "Ford Torino (sw)",
         "0.0",
         "8",
         "351.0",
         "153.0",
         "4034.0",
         "11.0",
         "70",
         null
        ],
        [
         "14",
         "Plymouth Satellite (sw)",
         "0.0",
         "8",
         "383.0",
         "175.0",
         "4166.0",
         "10.5",
         "70",
         null
        ],
        [
         "15",
         "AMC Rebel SST (sw)",
         "0.0",
         "8",
         "360.0",
         "175.0",
         "3850.0",
         "11.0",
         "70",
         null
        ],
        [
         "16",
         "Dodge Challenger SE",
         "15.0",
         "8",
         "383.0",
         "170.0",
         "3563.0",
         "10.0",
         "70",
         null
        ],
        [
         "17",
         "Plymouth 'Cuda 340",
         "14.0",
         "8",
         "340.0",
         "160.0",
         "3609.0",
         "8.0",
         "70",
         null
        ],
        [
         "18",
         "Ford Mustang Boss 302",
         "0.0",
         "8",
         "302.0",
         "140.0",
         "3353.0",
         "8.0",
         "70",
         null
        ],
        [
         "19",
         "Chevrolet Monte Carlo",
         "15.0",
         "8",
         "400.0",
         "150.0",
         "3761.0",
         "9.5",
         "70",
         null
        ],
        [
         "20",
         "Buick Estate Wagon (sw)",
         "14.0",
         "8",
         "455.0",
         "225.0",
         "3086.0",
         "10.0",
         "70",
         null
        ],
        [
         "21",
         "Toyota Corolla Mark ii",
         "24.0",
         "4",
         "113.0",
         "95.0",
         "2372.0",
         "15.0",
         "70",
         null
        ],
        [
         "22",
         "Plymouth Duster",
         "22.0",
         "6",
         "198.0",
         "95.0",
         "2833.0",
         "15.5",
         "70",
         null
        ],
        [
         "23",
         "AMC Hornet",
         "18.0",
         "6",
         "199.0",
         "97.0",
         "2774.0",
         "15.5",
         "70",
         null
        ],
        [
         "24",
         "Ford Maverick",
         "21.0",
         "6",
         "200.0",
         "85.0",
         "2587.0",
         "16.0",
         "70",
         null
        ],
        [
         "25",
         "Datsun PL510",
         "27.0",
         "4",
         "97.0",
         "88.0",
         "2130.0",
         "14.5",
         "70",
         null
        ],
        [
         "26",
         "Volkswagen 1131 Deluxe Sedan",
         "26.0",
         "4",
         "97.0",
         "46.0",
         "1835.0",
         "20.5",
         "70",
         null
        ],
        [
         "27",
         "Peugeot 504",
         "25.0",
         "4",
         "110.0",
         "87.0",
         "2672.0",
         "17.5",
         "70",
         null
        ],
        [
         "28",
         "Audi 100 LS",
         "24.0",
         "4",
         "107.0",
         "90.0",
         "2430.0",
         "14.5",
         "70",
         null
        ],
        [
         "29",
         "Saab 99e",
         "25.0",
         "4",
         "104.0",
         "95.0",
         "2375.0",
         "17.5",
         "70",
         null
        ],
        [
         "30",
         "BMW 2002",
         "26.0",
         "4",
         "121.0",
         "113.0",
         "2234.0",
         "12.5",
         "70",
         null
        ],
        [
         "31",
         "AMC Gremlin",
         "21.0",
         "6",
         "199.0",
         "90.0",
         "2648.0",
         "15.0",
         "70",
         null
        ],
        [
         "32",
         "Ford F250",
         "10.0",
         "8",
         "360.0",
         "215.0",
         "4615.0",
         "14.0",
         "70",
         null
        ],
        [
         "33",
         "Chevy C20",
         "10.0",
         "8",
         "307.0",
         "200.0",
         "4376.0",
         "15.0",
         "70",
         null
        ],
        [
         "34",
         "Dodge D200",
         "11.0",
         "8",
         "318.0",
         "210.0",
         "4382.0",
         "13.5",
         "70",
         null
        ],
        [
         "35",
         "Hi 1200D",
         "9.0",
         "8",
         "304.0",
         "193.0",
         "4732.0",
         "18.5",
         "70",
         null
        ],
        [
         "36",
         "Datsun PL510",
         "27.0",
         "4",
         "97.0",
         "88.0",
         "2130.0",
         "14.5",
         "71",
         null
        ],
        [
         "37",
         "Chevrolet Vega 2300",
         "28.0",
         "4",
         "140.0",
         "90.0",
         "2264.0",
         "15.5",
         "71",
         null
        ],
        [
         "38",
         "Toyota Corolla",
         "25.0",
         "4",
         "113.0",
         "95.0",
         "2228.0",
         "14.0",
         "71",
         null
        ],
        [
         "39",
         "Ford Pinto",
         "25.0",
         "4",
         "98.0",
         "0.0",
         "2046.0",
         "19.0",
         "71",
         null
        ],
        [
         "40",
         "Volkswagen Super Beetle 117",
         "0.0",
         "4",
         "97.0",
         "48.0",
         "1978.0",
         "20.0",
         "71",
         null
        ],
        [
         "41",
         "AMC Gremlin",
         "19.0",
         "6",
         "232.0",
         "100.0",
         "2634.0",
         "13.0",
         "71",
         null
        ],
        [
         "42",
         "Plymouth Satellite Custom",
         "16.0",
         "6",
         "225.0",
         "105.0",
         "3439.0",
         "15.5",
         "71",
         null
        ],
        [
         "43",
         "Chevrolet Chevelle Malibu",
         "17.0",
         "6",
         "250.0",
         "100.0",
         "3329.0",
         "15.5",
         "71",
         null
        ],
        [
         "44",
         "Ford Torino 500",
         "19.0",
         "6",
         "250.0",
         "88.0",
         "3302.0",
         "15.5",
         "71",
         null
        ],
        [
         "45",
         "AMC Matador",
         "18.0",
         "6",
         "232.0",
         "100.0",
         "3288.0",
         "15.5",
         "71",
         null
        ],
        [
         "46",
         "Chevrolet Impala",
         "14.0",
         "8",
         "350.0",
         "165.0",
         "4209.0",
         "12.0",
         "71",
         null
        ],
        [
         "47",
         "Pontiac Catalina Brougham",
         "14.0",
         "8",
         "400.0",
         "175.0",
         "4464.0",
         "11.5",
         "71",
         null
        ],
        [
         "48",
         "Ford Galaxie 500",
         "14.0",
         "8",
         "351.0",
         "153.0",
         "4154.0",
         "13.5",
         "71",
         null
        ],
        [
         "49",
         "Plymouth Fury iii",
         "14.0",
         "8",
         "318.0",
         "150.0",
         "4096.0",
         "13.0",
         "71",
         null
        ],
        [
         "50",
         "Dodge Monaco (sw)",
         "12.0",
         "8",
         "383.0",
         "180.0",
         "4955.0",
         "11.5",
         "71",
         null
        ]
       ],
       "shape": {
        "columns": 9,
        "rows": 406
       }
      },
      "text/html": [
       "<div>\n",
       "<style scoped>\n",
       "    .dataframe tbody tr th:only-of-type {\n",
       "        vertical-align: middle;\n",
       "    }\n",
       "\n",
       "    .dataframe tbody tr th {\n",
       "        vertical-align: top;\n",
       "    }\n",
       "\n",
       "    .dataframe thead th {\n",
       "        text-align: right;\n",
       "    }\n",
       "</style>\n",
       "<table border=\"1\" class=\"dataframe\">\n",
       "  <thead>\n",
       "    <tr style=\"text-align: right;\">\n",
       "      <th>Column</th>\n",
       "      <th>Car</th>\n",
       "      <th>MPG</th>\n",
       "      <th>Cylinders</th>\n",
       "      <th>Displacement</th>\n",
       "      <th>Horsepower</th>\n",
       "      <th>Weight</th>\n",
       "      <th>Acceleration</th>\n",
       "      <th>Model</th>\n",
       "      <th>Origin</th>\n",
       "    </tr>\n",
       "  </thead>\n",
       "  <tbody>\n",
       "    <tr>\n",
       "      <th>1</th>\n",
       "      <td>Chevrolet Chevelle Malibu</td>\n",
       "      <td>NaN</td>\n",
       "      <td>8</td>\n",
       "      <td>307.0</td>\n",
       "      <td>130.0</td>\n",
       "      <td>3504.0</td>\n",
       "      <td>12.0</td>\n",
       "      <td>70</td>\n",
       "      <td>NaN</td>\n",
       "    </tr>\n",
       "    <tr>\n",
       "      <th>2</th>\n",
       "      <td>Buick Skylark 320</td>\n",
       "      <td>15.0</td>\n",
       "      <td>8</td>\n",
       "      <td>350.0</td>\n",
       "      <td>NaN</td>\n",
       "      <td>3693.0</td>\n",
       "      <td>11.5</td>\n",
       "      <td>70</td>\n",
       "      <td>NaN</td>\n",
       "    </tr>\n",
       "    <tr>\n",
       "      <th>3</th>\n",
       "      <td>Plymouth Satellite</td>\n",
       "      <td>NaN</td>\n",
       "      <td>8</td>\n",
       "      <td>318.0</td>\n",
       "      <td>150.0</td>\n",
       "      <td>3436.0</td>\n",
       "      <td>11.0</td>\n",
       "      <td>70</td>\n",
       "      <td>NaN</td>\n",
       "    </tr>\n",
       "    <tr>\n",
       "      <th>4</th>\n",
       "      <td>AMC Rebel SST</td>\n",
       "      <td>16.0</td>\n",
       "      <td>8</td>\n",
       "      <td>NaN</td>\n",
       "      <td>150.0</td>\n",
       "      <td>NaN</td>\n",
       "      <td>12.0</td>\n",
       "      <td>70</td>\n",
       "      <td>NaN</td>\n",
       "    </tr>\n",
       "    <tr>\n",
       "      <th>5</th>\n",
       "      <td>Ford Torino</td>\n",
       "      <td>17.0</td>\n",
       "      <td>8</td>\n",
       "      <td>302.0</td>\n",
       "      <td>140.0</td>\n",
       "      <td>3449.0</td>\n",
       "      <td>10.5</td>\n",
       "      <td>70</td>\n",
       "      <td>NaN</td>\n",
       "    </tr>\n",
       "    <tr>\n",
       "      <th>...</th>\n",
       "      <td>...</td>\n",
       "      <td>...</td>\n",
       "      <td>...</td>\n",
       "      <td>...</td>\n",
       "      <td>...</td>\n",
       "      <td>...</td>\n",
       "      <td>...</td>\n",
       "      <td>...</td>\n",
       "      <td>...</td>\n",
       "    </tr>\n",
       "    <tr>\n",
       "      <th>402</th>\n",
       "      <td>Ford Mustang GL</td>\n",
       "      <td>27.0</td>\n",
       "      <td>4</td>\n",
       "      <td>140.0</td>\n",
       "      <td>86.0</td>\n",
       "      <td>2790.0</td>\n",
       "      <td>15.6</td>\n",
       "      <td>82</td>\n",
       "      <td>NaN</td>\n",
       "    </tr>\n",
       "    <tr>\n",
       "      <th>403</th>\n",
       "      <td>Volkswagen Pickup</td>\n",
       "      <td>44.0</td>\n",
       "      <td>4</td>\n",
       "      <td>97.0</td>\n",
       "      <td>52.0</td>\n",
       "      <td>2130.0</td>\n",
       "      <td>24.6</td>\n",
       "      <td>82</td>\n",
       "      <td>NaN</td>\n",
       "    </tr>\n",
       "    <tr>\n",
       "      <th>404</th>\n",
       "      <td>Dodge Rampage</td>\n",
       "      <td>32.0</td>\n",
       "      <td>4</td>\n",
       "      <td>135.0</td>\n",
       "      <td>84.0</td>\n",
       "      <td>2295.0</td>\n",
       "      <td>11.6</td>\n",
       "      <td>82</td>\n",
       "      <td>NaN</td>\n",
       "    </tr>\n",
       "    <tr>\n",
       "      <th>405</th>\n",
       "      <td>Ford Ranger</td>\n",
       "      <td>28.0</td>\n",
       "      <td>4</td>\n",
       "      <td>120.0</td>\n",
       "      <td>79.0</td>\n",
       "      <td>2625.0</td>\n",
       "      <td>18.6</td>\n",
       "      <td>82</td>\n",
       "      <td>NaN</td>\n",
       "    </tr>\n",
       "    <tr>\n",
       "      <th>406</th>\n",
       "      <td>Chevy S-10</td>\n",
       "      <td>31.0</td>\n",
       "      <td>4</td>\n",
       "      <td>119.0</td>\n",
       "      <td>82.0</td>\n",
       "      <td>2720.0</td>\n",
       "      <td>19.4</td>\n",
       "      <td>82</td>\n",
       "      <td>NaN</td>\n",
       "    </tr>\n",
       "  </tbody>\n",
       "</table>\n",
       "<p>406 rows × 9 columns</p>\n",
       "</div>"
      ],
      "text/plain": [
       "Column                        Car   MPG Cylinders Displacement Horsepower  \\\n",
       "1       Chevrolet Chevelle Malibu   NaN         8        307.0      130.0   \n",
       "2               Buick Skylark 320  15.0         8        350.0        NaN   \n",
       "3              Plymouth Satellite   NaN         8        318.0      150.0   \n",
       "4                   AMC Rebel SST  16.0         8          NaN      150.0   \n",
       "5                     Ford Torino  17.0         8        302.0      140.0   \n",
       "..                            ...   ...       ...          ...        ...   \n",
       "402               Ford Mustang GL  27.0         4        140.0       86.0   \n",
       "403             Volkswagen Pickup  44.0         4         97.0       52.0   \n",
       "404                 Dodge Rampage  32.0         4        135.0       84.0   \n",
       "405                   Ford Ranger  28.0         4        120.0       79.0   \n",
       "406                    Chevy S-10  31.0         4        119.0       82.0   \n",
       "\n",
       "Column  Weight Acceleration Model Origin  \n",
       "1       3504.0         12.0    70    NaN  \n",
       "2       3693.0         11.5    70    NaN  \n",
       "3       3436.0         11.0    70    NaN  \n",
       "4          NaN         12.0    70    NaN  \n",
       "5       3449.0         10.5    70    NaN  \n",
       "..         ...          ...   ...    ...  \n",
       "402     2790.0         15.6    82    NaN  \n",
       "403     2130.0         24.6    82    NaN  \n",
       "404     2295.0         11.6    82    NaN  \n",
       "405     2625.0         18.6    82    NaN  \n",
       "406     2720.0         19.4    82    NaN  \n",
       "\n",
       "[406 rows x 9 columns]"
      ]
     },
     "execution_count": 31,
     "metadata": {},
     "output_type": "execute_result"
    }
   ],
   "source": [
    "# Convert all columns except the first to numeric\n",
    "cars_df_filled.iloc[:, 1:] = cars_df.iloc[:, 1:].apply(pd.to_numeric, errors='coerce')\n",
    "cars_df_filled"
   ]
  },
  {
   "cell_type": "markdown",
   "metadata": {},
   "source": [
    "## Let's plot the MPG column"
   ]
  },
  {
   "cell_type": "code",
   "execution_count": 32,
   "metadata": {},
   "outputs": [
    {
     "data": {
      "image/png": "[encoded data removed]",
      "text/plain": [
       "<Figure size 800x500 with 1 Axes>"
      ]
     },
     "metadata": {},
     "output_type": "display_data"
    }
   ],
   "source": [
    "import pandas as pd\n",
    "import matplotlib.pyplot as plt\n",
    "import seaborn as sns\n",
    "\n",
    "# Convert to numeric if needed\n",
    "\n",
    "cars_df_copy = cars_df_filled.copy()\n",
    "\n",
    "cars_df_copy['MPG'] = pd.to_numeric(cars_df_copy['MPG'], errors='coerce')\n",
    "\n",
    "# Plot histogram with KDE (density curve)\n",
    "plt.figure(figsize=(8, 5))\n",
    "sns.histplot(cars_df_copy['MPG'].dropna(), bins=20, kde=True)\n",
    "plt.title('Distribution of MPG')\n",
    "plt.xlabel('MPG')\n",
    "plt.ylabel('Frequency')\n",
    "plt.grid(True)\n",
    "plt.show()\n"
   ]
  },
  {
   "attachments": {},
   "cell_type": "markdown",
   "metadata": {},
   "source": [
    "If we observe the graph above, we can consider it in a way or another normally distributed. Therefore, we can impute the missing values using the mean."
   ]
  },
  {
   "cell_type": "markdown",
   "metadata": {},
   "source": [
    "We can observe that:\n",
    "\n",
    " * The MPG distribution is right-skewed (long tail to the right).\n",
    "\n",
    " * Most values cluster between 15 and 30 MPG.\n",
    "\n",
    " * The tail on the right shows fewer high-MPG cars (up to ~45)."
   ]
  },
  {
   "cell_type": "markdown",
   "metadata": {},
   "source": [
    "This means that the `median` is a better choice for imputation since it is more robust to skewed data and outliers."
   ]
  },
  {
   "cell_type": "code",
   "execution_count": 33,
   "metadata": {},
   "outputs": [
    {
     "data": {
      "text/plain": [
       "np.float64(22.5)"
      ]
     },
     "execution_count": 33,
     "metadata": {},
     "output_type": "execute_result"
    }
   ],
   "source": [
    "cars_mpg_median = cars_df_copy['MPG'].median()\n",
    "cars_mpg_median"
   ]
  },
  {
   "cell_type": "markdown",
   "metadata": {},
   "source": [
    "Let's do imputation with the `median`"
   ]
  },
  {
   "cell_type": "code",
   "execution_count": 34,
   "metadata": {},
   "outputs": [
    {
     "name": "stderr",
     "output_type": "stream",
     "text": [
      "C:\\Users\\lopez\\AppData\\Local\\Temp\\ipykernel_22608\\4031934408.py:2: FutureWarning: Downcasting object dtype arrays on .fillna, .ffill, .bfill is deprecated and will change in a future version. Call result.infer_objects(copy=False) instead. To opt-in to the future behavior, set `pd.set_option('future.no_silent_downcasting', True)`\n",
      "  cars_df_copy['MPG'] = cars_df_copy['MPG'].fillna(cars_mpg_median)\n"
     ]
    },
    {
     "data": {
      "application/vnd.microsoft.datawrangler.viewer.v0+json": {
       "columns": [
        {
         "name": "index",
         "rawType": "int64",
         "type": "integer"
        },
        {
         "name": "Car",
         "rawType": "object",
         "type": "string"
        },
        {
         "name": "MPG",
         "rawType": "float64",
         "type": "float"
        },
        {
         "name": "Cylinders",
         "rawType": "object",
         "type": "unknown"
        },
        {
         "name": "Displacement",
         "rawType": "object",
         "type": "unknown"
        },
        {
         "name": "Horsepower",
         "rawType": "object",
         "type": "unknown"
        },
        {
         "name": "Weight",
         "rawType": "object",
         "type": "unknown"
        },
        {
         "name": "Acceleration",
         "rawType": "object",
         "type": "unknown"
        },
        {
         "name": "Model",
         "rawType": "object",
         "type": "unknown"
        },
        {
         "name": "Origin",
         "rawType": "object",
         "type": "unknown"
        }
       ],
       "ref": "c3e19ece-5e82-4565-9d98-f879fc814f66",
       "rows": [
        [
         "1",
         "Chevrolet Chevelle Malibu",
         "22.5",
         "8",
         "307.0",
         "130.0",
         "3504.0",
         "12.0",
         "70",
         null
        ],
        [
         "2",
         "Buick Skylark 320",
         "15.0",
         "8",
         "350.0",
         null,
         "3693.0",
         "11.5",
         "70",
         null
        ],
        [
         "3",
         "Plymouth Satellite",
         "22.5",
         "8",
         "318.0",
         "150.0",
         "3436.0",
         "11.0",
         "70",
         null
        ],
        [
         "4",
         "AMC Rebel SST",
         "16.0",
         "8",
         null,
         "150.0",
         null,
         "12.0",
         "70",
         null
        ],
        [
         "5",
         "Ford Torino",
         "17.0",
         "8",
         "302.0",
         "140.0",
         "3449.0",
         "10.5",
         "70",
         null
        ],
        [
         "6",
         "Ford Galaxie 500",
         "22.5",
         "8",
         "429.0",
         null,
         "4341.0",
         "10.0",
         "70",
         null
        ],
        [
         "7",
         "Chevrolet Impala",
         "14.0",
         "8",
         "454.0",
         "220.0",
         "4354.0",
         "9.0",
         "70",
         null
        ],
        [
         "8",
         "Plymouth Fury iii",
         "14.0",
         "8",
         "440.0",
         "215.0",
         "4312.0",
         "8.5",
         "70",
         null
        ],
        [
         "9",
         "Pontiac Catalina",
         "14.0",
         "8",
         "455.0",
         "225.0",
         "4425.0",
         "10.0",
         "70",
         null
        ],
        [
         "10",
         "AMC Ambassador DPL",
         "15.0",
         "8",
         "390.0",
         "190.0",
         "3850.0",
         "8.5",
         "70",
         null
        ],
        [
         "11",
         "Citroen DS-21 Pallas",
         "0.0",
         "4",
         "133.0",
         "115.0",
         "3090.0",
         "17.5",
         "70",
         null
        ],
        [
         "12",
         "Chevrolet Chevelle Concours (sw)",
         "0.0",
         "8",
         "350.0",
         "165.0",
         "4142.0",
         "11.5",
         "70",
         null
        ],
        [
         "13",
         "Ford Torino (sw)",
         "0.0",
         "8",
         "351.0",
         "153.0",
         "4034.0",
         "11.0",
         "70",
         null
        ],
        [
         "14",
         "Plymouth Satellite (sw)",
         "0.0",
         "8",
         "383.0",
         "175.0",
         "4166.0",
         "10.5",
         "70",
         null
        ],
        [
         "15",
         "AMC Rebel SST (sw)",
         "0.0",
         "8",
         "360.0",
         "175.0",
         "3850.0",
         "11.0",
         "70",
         null
        ],
        [
         "16",
         "Dodge Challenger SE",
         "15.0",
         "8",
         "383.0",
         "170.0",
         "3563.0",
         "10.0",
         "70",
         null
        ],
        [
         "17",
         "Plymouth 'Cuda 340",
         "14.0",
         "8",
         "340.0",
         "160.0",
         "3609.0",
         "8.0",
         "70",
         null
        ],
        [
         "18",
         "Ford Mustang Boss 302",
         "0.0",
         "8",
         "302.0",
         "140.0",
         "3353.0",
         "8.0",
         "70",
         null
        ],
        [
         "19",
         "Chevrolet Monte Carlo",
         "15.0",
         "8",
         "400.0",
         "150.0",
         "3761.0",
         "9.5",
         "70",
         null
        ],
        [
         "20",
         "Buick Estate Wagon (sw)",
         "14.0",
         "8",
         "455.0",
         "225.0",
         "3086.0",
         "10.0",
         "70",
         null
        ],
        [
         "21",
         "Toyota Corolla Mark ii",
         "24.0",
         "4",
         "113.0",
         "95.0",
         "2372.0",
         "15.0",
         "70",
         null
        ],
        [
         "22",
         "Plymouth Duster",
         "22.0",
         "6",
         "198.0",
         "95.0",
         "2833.0",
         "15.5",
         "70",
         null
        ],
        [
         "23",
         "AMC Hornet",
         "18.0",
         "6",
         "199.0",
         "97.0",
         "2774.0",
         "15.5",
         "70",
         null
        ],
        [
         "24",
         "Ford Maverick",
         "21.0",
         "6",
         "200.0",
         "85.0",
         "2587.0",
         "16.0",
         "70",
         null
        ],
        [
         "25",
         "Datsun PL510",
         "27.0",
         "4",
         "97.0",
         "88.0",
         "2130.0",
         "14.5",
         "70",
         null
        ],
        [
         "26",
         "Volkswagen 1131 Deluxe Sedan",
         "26.0",
         "4",
         "97.0",
         "46.0",
         "1835.0",
         "20.5",
         "70",
         null
        ],
        [
         "27",
         "Peugeot 504",
         "25.0",
         "4",
         "110.0",
         "87.0",
         "2672.0",
         "17.5",
         "70",
         null
        ],
        [
         "28",
         "Audi 100 LS",
         "24.0",
         "4",
         "107.0",
         "90.0",
         "2430.0",
         "14.5",
         "70",
         null
        ],
        [
         "29",
         "Saab 99e",
         "25.0",
         "4",
         "104.0",
         "95.0",
         "2375.0",
         "17.5",
         "70",
         null
        ],
        [
         "30",
         "BMW 2002",
         "26.0",
         "4",
         "121.0",
         "113.0",
         "2234.0",
         "12.5",
         "70",
         null
        ],
        [
         "31",
         "AMC Gremlin",
         "21.0",
         "6",
         "199.0",
         "90.0",
         "2648.0",
         "15.0",
         "70",
         null
        ],
        [
         "32",
         "Ford F250",
         "10.0",
         "8",
         "360.0",
         "215.0",
         "4615.0",
         "14.0",
         "70",
         null
        ],
        [
         "33",
         "Chevy C20",
         "10.0",
         "8",
         "307.0",
         "200.0",
         "4376.0",
         "15.0",
         "70",
         null
        ],
        [
         "34",
         "Dodge D200",
         "11.0",
         "8",
         "318.0",
         "210.0",
         "4382.0",
         "13.5",
         "70",
         null
        ],
        [
         "35",
         "Hi 1200D",
         "9.0",
         "8",
         "304.0",
         "193.0",
         "4732.0",
         "18.5",
         "70",
         null
        ],
        [
         "36",
         "Datsun PL510",
         "27.0",
         "4",
         "97.0",
         "88.0",
         "2130.0",
         "14.5",
         "71",
         null
        ],
        [
         "37",
         "Chevrolet Vega 2300",
         "28.0",
         "4",
         "140.0",
         "90.0",
         "2264.0",
         "15.5",
         "71",
         null
        ],
        [
         "38",
         "Toyota Corolla",
         "25.0",
         "4",
         "113.0",
         "95.0",
         "2228.0",
         "14.0",
         "71",
         null
        ],
        [
         "39",
         "Ford Pinto",
         "25.0",
         "4",
         "98.0",
         "0.0",
         "2046.0",
         "19.0",
         "71",
         null
        ],
        [
         "40",
         "Volkswagen Super Beetle 117",
         "0.0",
         "4",
         "97.0",
         "48.0",
         "1978.0",
         "20.0",
         "71",
         null
        ],
        [
         "41",
         "AMC Gremlin",
         "19.0",
         "6",
         "232.0",
         "100.0",
         "2634.0",
         "13.0",
         "71",
         null
        ],
        [
         "42",
         "Plymouth Satellite Custom",
         "16.0",
         "6",
         "225.0",
         "105.0",
         "3439.0",
         "15.5",
         "71",
         null
        ],
        [
         "43",
         "Chevrolet Chevelle Malibu",
         "17.0",
         "6",
         "250.0",
         "100.0",
         "3329.0",
         "15.5",
         "71",
         null
        ],
        [
         "44",
         "Ford Torino 500",
         "19.0",
         "6",
         "250.0",
         "88.0",
         "3302.0",
         "15.5",
         "71",
         null
        ],
        [
         "45",
         "AMC Matador",
         "18.0",
         "6",
         "232.0",
         "100.0",
         "3288.0",
         "15.5",
         "71",
         null
        ],
        [
         "46",
         "Chevrolet Impala",
         "14.0",
         "8",
         "350.0",
         "165.0",
         "4209.0",
         "12.0",
         "71",
         null
        ],
        [
         "47",
         "Pontiac Catalina Brougham",
         "14.0",
         "8",
         "400.0",
         "175.0",
         "4464.0",
         "11.5",
         "71",
         null
        ],
        [
         "48",
         "Ford Galaxie 500",
         "14.0",
         "8",
         "351.0",
         "153.0",
         "4154.0",
         "13.5",
         "71",
         null
        ],
        [
         "49",
         "Plymouth Fury iii",
         "14.0",
         "8",
         "318.0",
         "150.0",
         "4096.0",
         "13.0",
         "71",
         null
        ],
        [
         "50",
         "Dodge Monaco (sw)",
         "12.0",
         "8",
         "383.0",
         "180.0",
         "4955.0",
         "11.5",
         "71",
         null
        ]
       ],
       "shape": {
        "columns": 9,
        "rows": 406
       }
      },
      "text/html": [
       "<div>\n",
       "<style scoped>\n",
       "    .dataframe tbody tr th:only-of-type {\n",
       "        vertical-align: middle;\n",
       "    }\n",
       "\n",
       "    .dataframe tbody tr th {\n",
       "        vertical-align: top;\n",
       "    }\n",
       "\n",
       "    .dataframe thead th {\n",
       "        text-align: right;\n",
       "    }\n",
       "</style>\n",
       "<table border=\"1\" class=\"dataframe\">\n",
       "  <thead>\n",
       "    <tr style=\"text-align: right;\">\n",
       "      <th>Column</th>\n",
       "      <th>Car</th>\n",
       "      <th>MPG</th>\n",
       "      <th>Cylinders</th>\n",
       "      <th>Displacement</th>\n",
       "      <th>Horsepower</th>\n",
       "      <th>Weight</th>\n",
       "      <th>Acceleration</th>\n",
       "      <th>Model</th>\n",
       "      <th>Origin</th>\n",
       "    </tr>\n",
       "  </thead>\n",
       "  <tbody>\n",
       "    <tr>\n",
       "      <th>1</th>\n",
       "      <td>Chevrolet Chevelle Malibu</td>\n",
       "      <td>22.5</td>\n",
       "      <td>8</td>\n",
       "      <td>307.0</td>\n",
       "      <td>130.0</td>\n",
       "      <td>3504.0</td>\n",
       "      <td>12.0</td>\n",
       "      <td>70</td>\n",
       "      <td>NaN</td>\n",
       "    </tr>\n",
       "    <tr>\n",
       "      <th>2</th>\n",
       "      <td>Buick Skylark 320</td>\n",
       "      <td>15.0</td>\n",
       "      <td>8</td>\n",
       "      <td>350.0</td>\n",
       "      <td>NaN</td>\n",
       "      <td>3693.0</td>\n",
       "      <td>11.5</td>\n",
       "      <td>70</td>\n",
       "      <td>NaN</td>\n",
       "    </tr>\n",
       "    <tr>\n",
       "      <th>3</th>\n",
       "      <td>Plymouth Satellite</td>\n",
       "      <td>22.5</td>\n",
       "      <td>8</td>\n",
       "      <td>318.0</td>\n",
       "      <td>150.0</td>\n",
       "      <td>3436.0</td>\n",
       "      <td>11.0</td>\n",
       "      <td>70</td>\n",
       "      <td>NaN</td>\n",
       "    </tr>\n",
       "    <tr>\n",
       "      <th>4</th>\n",
       "      <td>AMC Rebel SST</td>\n",
       "      <td>16.0</td>\n",
       "      <td>8</td>\n",
       "      <td>NaN</td>\n",
       "      <td>150.0</td>\n",
       "      <td>NaN</td>\n",
       "      <td>12.0</td>\n",
       "      <td>70</td>\n",
       "      <td>NaN</td>\n",
       "    </tr>\n",
       "    <tr>\n",
       "      <th>5</th>\n",
       "      <td>Ford Torino</td>\n",
       "      <td>17.0</td>\n",
       "      <td>8</td>\n",
       "      <td>302.0</td>\n",
       "      <td>140.0</td>\n",
       "      <td>3449.0</td>\n",
       "      <td>10.5</td>\n",
       "      <td>70</td>\n",
       "      <td>NaN</td>\n",
       "    </tr>\n",
       "    <tr>\n",
       "      <th>...</th>\n",
       "      <td>...</td>\n",
       "      <td>...</td>\n",
       "      <td>...</td>\n",
       "      <td>...</td>\n",
       "      <td>...</td>\n",
       "      <td>...</td>\n",
       "      <td>...</td>\n",
       "      <td>...</td>\n",
       "      <td>...</td>\n",
       "    </tr>\n",
       "    <tr>\n",
       "      <th>402</th>\n",
       "      <td>Ford Mustang GL</td>\n",
       "      <td>27.0</td>\n",
       "      <td>4</td>\n",
       "      <td>140.0</td>\n",
       "      <td>86.0</td>\n",
       "      <td>2790.0</td>\n",
       "      <td>15.6</td>\n",
       "      <td>82</td>\n",
       "      <td>NaN</td>\n",
       "    </tr>\n",
       "    <tr>\n",
       "      <th>403</th>\n",
       "      <td>Volkswagen Pickup</td>\n",
       "      <td>44.0</td>\n",
       "      <td>4</td>\n",
       "      <td>97.0</td>\n",
       "      <td>52.0</td>\n",
       "      <td>2130.0</td>\n",
       "      <td>24.6</td>\n",
       "      <td>82</td>\n",
       "      <td>NaN</td>\n",
       "    </tr>\n",
       "    <tr>\n",
       "      <th>404</th>\n",
       "      <td>Dodge Rampage</td>\n",
       "      <td>32.0</td>\n",
       "      <td>4</td>\n",
       "      <td>135.0</td>\n",
       "      <td>84.0</td>\n",
       "      <td>2295.0</td>\n",
       "      <td>11.6</td>\n",
       "      <td>82</td>\n",
       "      <td>NaN</td>\n",
       "    </tr>\n",
       "    <tr>\n",
       "      <th>405</th>\n",
       "      <td>Ford Ranger</td>\n",
       "      <td>28.0</td>\n",
       "      <td>4</td>\n",
       "      <td>120.0</td>\n",
       "      <td>79.0</td>\n",
       "      <td>2625.0</td>\n",
       "      <td>18.6</td>\n",
       "      <td>82</td>\n",
       "      <td>NaN</td>\n",
       "    </tr>\n",
       "    <tr>\n",
       "      <th>406</th>\n",
       "      <td>Chevy S-10</td>\n",
       "      <td>31.0</td>\n",
       "      <td>4</td>\n",
       "      <td>119.0</td>\n",
       "      <td>82.0</td>\n",
       "      <td>2720.0</td>\n",
       "      <td>19.4</td>\n",
       "      <td>82</td>\n",
       "      <td>NaN</td>\n",
       "    </tr>\n",
       "  </tbody>\n",
       "</table>\n",
       "<p>406 rows × 9 columns</p>\n",
       "</div>"
      ],
      "text/plain": [
       "Column                        Car   MPG Cylinders Displacement Horsepower  \\\n",
       "1       Chevrolet Chevelle Malibu  22.5         8        307.0      130.0   \n",
       "2               Buick Skylark 320  15.0         8        350.0        NaN   \n",
       "3              Plymouth Satellite  22.5         8        318.0      150.0   \n",
       "4                   AMC Rebel SST  16.0         8          NaN      150.0   \n",
       "5                     Ford Torino  17.0         8        302.0      140.0   \n",
       "..                            ...   ...       ...          ...        ...   \n",
       "402               Ford Mustang GL  27.0         4        140.0       86.0   \n",
       "403             Volkswagen Pickup  44.0         4         97.0       52.0   \n",
       "404                 Dodge Rampage  32.0         4        135.0       84.0   \n",
       "405                   Ford Ranger  28.0         4        120.0       79.0   \n",
       "406                    Chevy S-10  31.0         4        119.0       82.0   \n",
       "\n",
       "Column  Weight Acceleration Model Origin  \n",
       "1       3504.0         12.0    70    NaN  \n",
       "2       3693.0         11.5    70    NaN  \n",
       "3       3436.0         11.0    70    NaN  \n",
       "4          NaN         12.0    70    NaN  \n",
       "5       3449.0         10.5    70    NaN  \n",
       "..         ...          ...   ...    ...  \n",
       "402     2790.0         15.6    82    NaN  \n",
       "403     2130.0         24.6    82    NaN  \n",
       "404     2295.0         11.6    82    NaN  \n",
       "405     2625.0         18.6    82    NaN  \n",
       "406     2720.0         19.4    82    NaN  \n",
       "\n",
       "[406 rows x 9 columns]"
      ]
     },
     "execution_count": 34,
     "metadata": {},
     "output_type": "execute_result"
    }
   ],
   "source": [
    "cars_df_copy = cars_df_filled.copy()\n",
    "cars_df_copy['MPG'] = cars_df_copy['MPG'].fillna(cars_mpg_median)\n",
    "cars_df_copy"
   ]
  },
  {
   "attachments": {},
   "cell_type": "markdown",
   "metadata": {},
   "source": [
    "Now let's see what is the mean of the MPG column"
   ]
  },
  {
   "cell_type": "code",
   "execution_count": 35,
   "metadata": {},
   "outputs": [
    {
     "data": {
      "text/plain": [
       "np.float64(23.09627791563276)"
      ]
     },
     "execution_count": 35,
     "metadata": {},
     "output_type": "execute_result"
    }
   ],
   "source": [
    "cars_df_copy = cars_df_filled.copy()\n",
    "cars_mpg_mean = cars_df_copy['MPG'].mean()\n",
    "cars_mpg_mean"
   ]
  },
  {
   "cell_type": "markdown",
   "metadata": {},
   "source": [
    "We can use this mean to compute the missing values since the graph demonstarted a normal distribution"
   ]
  },
  {
   "cell_type": "code",
   "execution_count": 36,
   "metadata": {},
   "outputs": [
    {
     "name": "stderr",
     "output_type": "stream",
     "text": [
      "C:\\Users\\lopez\\AppData\\Local\\Temp\\ipykernel_22608\\3289877475.py:1: FutureWarning: Downcasting object dtype arrays on .fillna, .ffill, .bfill is deprecated and will change in a future version. Call result.infer_objects(copy=False) instead. To opt-in to the future behavior, set `pd.set_option('future.no_silent_downcasting', True)`\n",
      "  cars_df_copy['MPG'] = cars_df_copy['MPG'].fillna(cars_mpg_mean)\n"
     ]
    },
    {
     "data": {
      "application/vnd.microsoft.datawrangler.viewer.v0+json": {
       "columns": [
        {
         "name": "index",
         "rawType": "int64",
         "type": "integer"
        },
        {
         "name": "Car",
         "rawType": "object",
         "type": "string"
        },
        {
         "name": "MPG",
         "rawType": "float64",
         "type": "float"
        },
        {
         "name": "Cylinders",
         "rawType": "object",
         "type": "unknown"
        },
        {
         "name": "Displacement",
         "rawType": "object",
         "type": "unknown"
        },
        {
         "name": "Horsepower",
         "rawType": "object",
         "type": "unknown"
        },
        {
         "name": "Weight",
         "rawType": "object",
         "type": "unknown"
        },
        {
         "name": "Acceleration",
         "rawType": "object",
         "type": "unknown"
        },
        {
         "name": "Model",
         "rawType": "object",
         "type": "unknown"
        },
        {
         "name": "Origin",
         "rawType": "object",
         "type": "unknown"
        }
       ],
       "ref": "1dcc743c-48b8-49b8-a83b-aec7b00273e0",
       "rows": [
        [
         "1",
         "Chevrolet Chevelle Malibu",
         "23.09627791563276",
         "8",
         "307.0",
         "130.0",
         "3504.0",
         "12.0",
         "70",
         null
        ],
        [
         "2",
         "Buick Skylark 320",
         "15.0",
         "8",
         "350.0",
         null,
         "3693.0",
         "11.5",
         "70",
         null
        ],
        [
         "3",
         "Plymouth Satellite",
         "23.09627791563276",
         "8",
         "318.0",
         "150.0",
         "3436.0",
         "11.0",
         "70",
         null
        ],
        [
         "4",
         "AMC Rebel SST",
         "16.0",
         "8",
         null,
         "150.0",
         null,
         "12.0",
         "70",
         null
        ],
        [
         "5",
         "Ford Torino",
         "17.0",
         "8",
         "302.0",
         "140.0",
         "3449.0",
         "10.5",
         "70",
         null
        ],
        [
         "6",
         "Ford Galaxie 500",
         "23.09627791563276",
         "8",
         "429.0",
         null,
         "4341.0",
         "10.0",
         "70",
         null
        ],
        [
         "7",
         "Chevrolet Impala",
         "14.0",
         "8",
         "454.0",
         "220.0",
         "4354.0",
         "9.0",
         "70",
         null
        ],
        [
         "8",
         "Plymouth Fury iii",
         "14.0",
         "8",
         "440.0",
         "215.0",
         "4312.0",
         "8.5",
         "70",
         null
        ],
        [
         "9",
         "Pontiac Catalina",
         "14.0",
         "8",
         "455.0",
         "225.0",
         "4425.0",
         "10.0",
         "70",
         null
        ],
        [
         "10",
         "AMC Ambassador DPL",
         "15.0",
         "8",
         "390.0",
         "190.0",
         "3850.0",
         "8.5",
         "70",
         null
        ],
        [
         "11",
         "Citroen DS-21 Pallas",
         "0.0",
         "4",
         "133.0",
         "115.0",
         "3090.0",
         "17.5",
         "70",
         null
        ],
        [
         "12",
         "Chevrolet Chevelle Concours (sw)",
         "0.0",
         "8",
         "350.0",
         "165.0",
         "4142.0",
         "11.5",
         "70",
         null
        ],
        [
         "13",
         "Ford Torino (sw)",
         "0.0",
         "8",
         "351.0",
         "153.0",
         "4034.0",
         "11.0",
         "70",
         null
        ],
        [
         "14",
         "Plymouth Satellite (sw)",
         "0.0",
         "8",
         "383.0",
         "175.0",
         "4166.0",
         "10.5",
         "70",
         null
        ],
        [
         "15",
         "AMC Rebel SST (sw)",
         "0.0",
         "8",
         "360.0",
         "175.0",
         "3850.0",
         "11.0",
         "70",
         null
        ],
        [
         "16",
         "Dodge Challenger SE",
         "15.0",
         "8",
         "383.0",
         "170.0",
         "3563.0",
         "10.0",
         "70",
         null
        ],
        [
         "17",
         "Plymouth 'Cuda 340",
         "14.0",
         "8",
         "340.0",
         "160.0",
         "3609.0",
         "8.0",
         "70",
         null
        ],
        [
         "18",
         "Ford Mustang Boss 302",
         "0.0",
         "8",
         "302.0",
         "140.0",
         "3353.0",
         "8.0",
         "70",
         null
        ],
        [
         "19",
         "Chevrolet Monte Carlo",
         "15.0",
         "8",
         "400.0",
         "150.0",
         "3761.0",
         "9.5",
         "70",
         null
        ],
        [
         "20",
         "Buick Estate Wagon (sw)",
         "14.0",
         "8",
         "455.0",
         "225.0",
         "3086.0",
         "10.0",
         "70",
         null
        ],
        [
         "21",
         "Toyota Corolla Mark ii",
         "24.0",
         "4",
         "113.0",
         "95.0",
         "2372.0",
         "15.0",
         "70",
         null
        ],
        [
         "22",
         "Plymouth Duster",
         "22.0",
         "6",
         "198.0",
         "95.0",
         "2833.0",
         "15.5",
         "70",
         null
        ],
        [
         "23",
         "AMC Hornet",
         "18.0",
         "6",
         "199.0",
         "97.0",
         "2774.0",
         "15.5",
         "70",
         null
        ],
        [
         "24",
         "Ford Maverick",
         "21.0",
         "6",
         "200.0",
         "85.0",
         "2587.0",
         "16.0",
         "70",
         null
        ],
        [
         "25",
         "Datsun PL510",
         "27.0",
         "4",
         "97.0",
         "88.0",
         "2130.0",
         "14.5",
         "70",
         null
        ],
        [
         "26",
         "Volkswagen 1131 Deluxe Sedan",
         "26.0",
         "4",
         "97.0",
         "46.0",
         "1835.0",
         "20.5",
         "70",
         null
        ],
        [
         "27",
         "Peugeot 504",
         "25.0",
         "4",
         "110.0",
         "87.0",
         "2672.0",
         "17.5",
         "70",
         null
        ],
        [
         "28",
         "Audi 100 LS",
         "24.0",
         "4",
         "107.0",
         "90.0",
         "2430.0",
         "14.5",
         "70",
         null
        ],
        [
         "29",
         "Saab 99e",
         "25.0",
         "4",
         "104.0",
         "95.0",
         "2375.0",
         "17.5",
         "70",
         null
        ],
        [
         "30",
         "BMW 2002",
         "26.0",
         "4",
         "121.0",
         "113.0",
         "2234.0",
         "12.5",
         "70",
         null
        ],
        [
         "31",
         "AMC Gremlin",
         "21.0",
         "6",
         "199.0",
         "90.0",
         "2648.0",
         "15.0",
         "70",
         null
        ],
        [
         "32",
         "Ford F250",
         "10.0",
         "8",
         "360.0",
         "215.0",
         "4615.0",
         "14.0",
         "70",
         null
        ],
        [
         "33",
         "Chevy C20",
         "10.0",
         "8",
         "307.0",
         "200.0",
         "4376.0",
         "15.0",
         "70",
         null
        ],
        [
         "34",
         "Dodge D200",
         "11.0",
         "8",
         "318.0",
         "210.0",
         "4382.0",
         "13.5",
         "70",
         null
        ],
        [
         "35",
         "Hi 1200D",
         "9.0",
         "8",
         "304.0",
         "193.0",
         "4732.0",
         "18.5",
         "70",
         null
        ],
        [
         "36",
         "Datsun PL510",
         "27.0",
         "4",
         "97.0",
         "88.0",
         "2130.0",
         "14.5",
         "71",
         null
        ],
        [
         "37",
         "Chevrolet Vega 2300",
         "28.0",
         "4",
         "140.0",
         "90.0",
         "2264.0",
         "15.5",
         "71",
         null
        ],
        [
         "38",
         "Toyota Corolla",
         "25.0",
         "4",
         "113.0",
         "95.0",
         "2228.0",
         "14.0",
         "71",
         null
        ],
        [
         "39",
         "Ford Pinto",
         "25.0",
         "4",
         "98.0",
         "0.0",
         "2046.0",
         "19.0",
         "71",
         null
        ],
        [
         "40",
         "Volkswagen Super Beetle 117",
         "0.0",
         "4",
         "97.0",
         "48.0",
         "1978.0",
         "20.0",
         "71",
         null
        ],
        [
         "41",
         "AMC Gremlin",
         "19.0",
         "6",
         "232.0",
         "100.0",
         "2634.0",
         "13.0",
         "71",
         null
        ],
        [
         "42",
         "Plymouth Satellite Custom",
         "16.0",
         "6",
         "225.0",
         "105.0",
         "3439.0",
         "15.5",
         "71",
         null
        ],
        [
         "43",
         "Chevrolet Chevelle Malibu",
         "17.0",
         "6",
         "250.0",
         "100.0",
         "3329.0",
         "15.5",
         "71",
         null
        ],
        [
         "44",
         "Ford Torino 500",
         "19.0",
         "6",
         "250.0",
         "88.0",
         "3302.0",
         "15.5",
         "71",
         null
        ],
        [
         "45",
         "AMC Matador",
         "18.0",
         "6",
         "232.0",
         "100.0",
         "3288.0",
         "15.5",
         "71",
         null
        ],
        [
         "46",
         "Chevrolet Impala",
         "14.0",
         "8",
         "350.0",
         "165.0",
         "4209.0",
         "12.0",
         "71",
         null
        ],
        [
         "47",
         "Pontiac Catalina Brougham",
         "14.0",
         "8",
         "400.0",
         "175.0",
         "4464.0",
         "11.5",
         "71",
         null
        ],
        [
         "48",
         "Ford Galaxie 500",
         "14.0",
         "8",
         "351.0",
         "153.0",
         "4154.0",
         "13.5",
         "71",
         null
        ],
        [
         "49",
         "Plymouth Fury iii",
         "14.0",
         "8",
         "318.0",
         "150.0",
         "4096.0",
         "13.0",
         "71",
         null
        ],
        [
         "50",
         "Dodge Monaco (sw)",
         "12.0",
         "8",
         "383.0",
         "180.0",
         "4955.0",
         "11.5",
         "71",
         null
        ]
       ],
       "shape": {
        "columns": 9,
        "rows": 406
       }
      },
      "text/html": [
       "<div>\n",
       "<style scoped>\n",
       "    .dataframe tbody tr th:only-of-type {\n",
       "        vertical-align: middle;\n",
       "    }\n",
       "\n",
       "    .dataframe tbody tr th {\n",
       "        vertical-align: top;\n",
       "    }\n",
       "\n",
       "    .dataframe thead th {\n",
       "        text-align: right;\n",
       "    }\n",
       "</style>\n",
       "<table border=\"1\" class=\"dataframe\">\n",
       "  <thead>\n",
       "    <tr style=\"text-align: right;\">\n",
       "      <th>Column</th>\n",
       "      <th>Car</th>\n",
       "      <th>MPG</th>\n",
       "      <th>Cylinders</th>\n",
       "      <th>Displacement</th>\n",
       "      <th>Horsepower</th>\n",
       "      <th>Weight</th>\n",
       "      <th>Acceleration</th>\n",
       "      <th>Model</th>\n",
       "      <th>Origin</th>\n",
       "    </tr>\n",
       "  </thead>\n",
       "  <tbody>\n",
       "    <tr>\n",
       "      <th>1</th>\n",
       "      <td>Chevrolet Chevelle Malibu</td>\n",
       "      <td>23.096278</td>\n",
       "      <td>8</td>\n",
       "      <td>307.0</td>\n",
       "      <td>130.0</td>\n",
       "      <td>3504.0</td>\n",
       "      <td>12.0</td>\n",
       "      <td>70</td>\n",
       "      <td>NaN</td>\n",
       "    </tr>\n",
       "    <tr>\n",
       "      <th>2</th>\n",
       "      <td>Buick Skylark 320</td>\n",
       "      <td>15.000000</td>\n",
       "      <td>8</td>\n",
       "      <td>350.0</td>\n",
       "      <td>NaN</td>\n",
       "      <td>3693.0</td>\n",
       "      <td>11.5</td>\n",
       "      <td>70</td>\n",
       "      <td>NaN</td>\n",
       "    </tr>\n",
       "    <tr>\n",
       "      <th>3</th>\n",
       "      <td>Plymouth Satellite</td>\n",
       "      <td>23.096278</td>\n",
       "      <td>8</td>\n",
       "      <td>318.0</td>\n",
       "      <td>150.0</td>\n",
       "      <td>3436.0</td>\n",
       "      <td>11.0</td>\n",
       "      <td>70</td>\n",
       "      <td>NaN</td>\n",
       "    </tr>\n",
       "    <tr>\n",
       "      <th>4</th>\n",
       "      <td>AMC Rebel SST</td>\n",
       "      <td>16.000000</td>\n",
       "      <td>8</td>\n",
       "      <td>NaN</td>\n",
       "      <td>150.0</td>\n",
       "      <td>NaN</td>\n",
       "      <td>12.0</td>\n",
       "      <td>70</td>\n",
       "      <td>NaN</td>\n",
       "    </tr>\n",
       "    <tr>\n",
       "      <th>5</th>\n",
       "      <td>Ford Torino</td>\n",
       "      <td>17.000000</td>\n",
       "      <td>8</td>\n",
       "      <td>302.0</td>\n",
       "      <td>140.0</td>\n",
       "      <td>3449.0</td>\n",
       "      <td>10.5</td>\n",
       "      <td>70</td>\n",
       "      <td>NaN</td>\n",
       "    </tr>\n",
       "    <tr>\n",
       "      <th>...</th>\n",
       "      <td>...</td>\n",
       "      <td>...</td>\n",
       "      <td>...</td>\n",
       "      <td>...</td>\n",
       "      <td>...</td>\n",
       "      <td>...</td>\n",
       "      <td>...</td>\n",
       "      <td>...</td>\n",
       "      <td>...</td>\n",
       "    </tr>\n",
       "    <tr>\n",
       "      <th>402</th>\n",
       "      <td>Ford Mustang GL</td>\n",
       "      <td>27.000000</td>\n",
       "      <td>4</td>\n",
       "      <td>140.0</td>\n",
       "      <td>86.0</td>\n",
       "      <td>2790.0</td>\n",
       "      <td>15.6</td>\n",
       "      <td>82</td>\n",
       "      <td>NaN</td>\n",
       "    </tr>\n",
       "    <tr>\n",
       "      <th>403</th>\n",
       "      <td>Volkswagen Pickup</td>\n",
       "      <td>44.000000</td>\n",
       "      <td>4</td>\n",
       "      <td>97.0</td>\n",
       "      <td>52.0</td>\n",
       "      <td>2130.0</td>\n",
       "      <td>24.6</td>\n",
       "      <td>82</td>\n",
       "      <td>NaN</td>\n",
       "    </tr>\n",
       "    <tr>\n",
       "      <th>404</th>\n",
       "      <td>Dodge Rampage</td>\n",
       "      <td>32.000000</td>\n",
       "      <td>4</td>\n",
       "      <td>135.0</td>\n",
       "      <td>84.0</td>\n",
       "      <td>2295.0</td>\n",
       "      <td>11.6</td>\n",
       "      <td>82</td>\n",
       "      <td>NaN</td>\n",
       "    </tr>\n",
       "    <tr>\n",
       "      <th>405</th>\n",
       "      <td>Ford Ranger</td>\n",
       "      <td>28.000000</td>\n",
       "      <td>4</td>\n",
       "      <td>120.0</td>\n",
       "      <td>79.0</td>\n",
       "      <td>2625.0</td>\n",
       "      <td>18.6</td>\n",
       "      <td>82</td>\n",
       "      <td>NaN</td>\n",
       "    </tr>\n",
       "    <tr>\n",
       "      <th>406</th>\n",
       "      <td>Chevy S-10</td>\n",
       "      <td>31.000000</td>\n",
       "      <td>4</td>\n",
       "      <td>119.0</td>\n",
       "      <td>82.0</td>\n",
       "      <td>2720.0</td>\n",
       "      <td>19.4</td>\n",
       "      <td>82</td>\n",
       "      <td>NaN</td>\n",
       "    </tr>\n",
       "  </tbody>\n",
       "</table>\n",
       "<p>406 rows × 9 columns</p>\n",
       "</div>"
      ],
      "text/plain": [
       "Column                        Car        MPG Cylinders Displacement  \\\n",
       "1       Chevrolet Chevelle Malibu  23.096278         8        307.0   \n",
       "2               Buick Skylark 320  15.000000         8        350.0   \n",
       "3              Plymouth Satellite  23.096278         8        318.0   \n",
       "4                   AMC Rebel SST  16.000000         8          NaN   \n",
       "5                     Ford Torino  17.000000         8        302.0   \n",
       "..                            ...        ...       ...          ...   \n",
       "402               Ford Mustang GL  27.000000         4        140.0   \n",
       "403             Volkswagen Pickup  44.000000         4         97.0   \n",
       "404                 Dodge Rampage  32.000000         4        135.0   \n",
       "405                   Ford Ranger  28.000000         4        120.0   \n",
       "406                    Chevy S-10  31.000000         4        119.0   \n",
       "\n",
       "Column Horsepower  Weight Acceleration Model Origin  \n",
       "1           130.0  3504.0         12.0    70    NaN  \n",
       "2             NaN  3693.0         11.5    70    NaN  \n",
       "3           150.0  3436.0         11.0    70    NaN  \n",
       "4           150.0     NaN         12.0    70    NaN  \n",
       "5           140.0  3449.0         10.5    70    NaN  \n",
       "..            ...     ...          ...   ...    ...  \n",
       "402          86.0  2790.0         15.6    82    NaN  \n",
       "403          52.0  2130.0         24.6    82    NaN  \n",
       "404          84.0  2295.0         11.6    82    NaN  \n",
       "405          79.0  2625.0         18.6    82    NaN  \n",
       "406          82.0  2720.0         19.4    82    NaN  \n",
       "\n",
       "[406 rows x 9 columns]"
      ]
     },
     "execution_count": 36,
     "metadata": {},
     "output_type": "execute_result"
    }
   ],
   "source": [
    "cars_df_copy['MPG'] = cars_df_copy['MPG'].fillna(cars_mpg_mean)\n",
    "cars_df_copy"
   ]
  },
  {
   "attachments": {},
   "cell_type": "markdown",
   "metadata": {},
   "source": [
    "### **Car Dataset - Simple Imputer**"
   ]
  },
  {
   "attachments": {},
   "cell_type": "markdown",
   "metadata": {},
   "source": [
    "*SimpleImputer* is a `scikit-learn` class which is helpful in handling the missing data in the predictive model dataset. It replaces the `NaN` values with a specified placeholder.\n",
    "It is implemented by the use of the `SimpleImputer()` method which takes the following arguments :\n",
    "\n",
    "`missing_values` : The missing_values placeholder which has to be imputed. By default is NaN\n",
    "\n",
    "`strategy` : The data which will replace the NaN values from the dataset. The strategy argument can take the values – ‘mean'(default), ‘median’, ‘most_frequent’ and ‘constant’.\n"
   ]
  },
  {
   "attachments": {},
   "cell_type": "markdown",
   "metadata": {},
   "source": [
    "Let's start by importing the `SimpleImputer` into our notebook"
   ]
  },
  {
   "attachments": {},
   "cell_type": "markdown",
   "metadata": {},
   "source": [
    "What we need to do are two essential steps:\n",
    "\n",
    "1. fit the data (compute the mean / median / most freq)\n",
    "2. transform the data (place the computed values in the NaN cells)"
   ]
  },
  {
   "cell_type": "code",
   "execution_count": 37,
   "metadata": {},
   "outputs": [
    {
     "data": {
      "application/vnd.microsoft.datawrangler.viewer.v0+json": {
       "columns": [
        {
         "name": "index",
         "rawType": "object",
         "type": "string"
        },
        {
         "name": "0",
         "rawType": "int64",
         "type": "integer"
        }
       ],
       "ref": "e5df55a1-6a9d-4837-86a2-efee8638b7b5",
       "rows": [
        [
         "Car",
         "0"
        ],
        [
         "MPG",
         "0"
        ],
        [
         "Cylinders",
         "0"
        ],
        [
         "Displacement",
         "0"
        ],
        [
         "Horsepower",
         "0"
        ],
        [
         "Weight",
         "0"
        ],
        [
         "Acceleration",
         "0"
        ],
        [
         "Model",
         "0"
        ],
        [
         "Origin",
         "0"
        ]
       ],
       "shape": {
        "columns": 1,
        "rows": 9
       }
      },
      "text/plain": [
       "Car             0\n",
       "MPG             0\n",
       "Cylinders       0\n",
       "Displacement    0\n",
       "Horsepower      0\n",
       "Weight          0\n",
       "Acceleration    0\n",
       "Model           0\n",
       "Origin          0\n",
       "dtype: int64"
      ]
     },
     "execution_count": 37,
     "metadata": {},
     "output_type": "execute_result"
    }
   ],
   "source": [
    "import numpy as np\n",
    "import pandas as pd\n",
    "from sklearn.impute import SimpleImputer\n",
    "\n",
    "# 1) Copy and normalize blanks to NaN\n",
    "df = cars_df.copy()\n",
    "df = df.replace(r'^\\s*$', np.nan, regex=True)\n",
    "\n",
    "# 2) Separate the ID/text column\n",
    "id_df = df[['Car']]\n",
    "features = df.drop(columns=['Car'])\n",
    "\n",
    "# 3) Identify numeric and categorical columns\n",
    "numeric_cols = [c for c in features.columns\n",
    "                if pd.to_numeric(features[c], errors='coerce').notna().any()]\n",
    "categorical_cols = [c for c in features.columns if c not in numeric_cols]\n",
    "\n",
    "# 4) Create imputers\n",
    "num_imputer = SimpleImputer(strategy='median')\n",
    "cat_imputer = SimpleImputer(strategy='most_frequent')\n",
    "\n",
    "# 5) Fit and transform\n",
    "num_imp = pd.DataFrame(\n",
    "    num_imputer.fit_transform(features[numeric_cols]),\n",
    "    columns=numeric_cols,\n",
    "    index=features.index\n",
    ")\n",
    "\n",
    "cat_imp = pd.DataFrame(\n",
    "    cat_imputer.fit_transform(features[categorical_cols]) if categorical_cols else np.empty((len(features), 0)),\n",
    "    columns=categorical_cols,\n",
    "    index=features.index\n",
    ")\n",
    "\n",
    "# 6) Recombine in original feature order, then add ID column back\n",
    "features_imputed = pd.concat([num_imp, cat_imp], axis=1)[features.columns]\n",
    "cars_df_imputed = pd.concat([id_df, features_imputed], axis=1)\n",
    "\n",
    "# checks for null values after imputation\n",
    "cars_df_imputed.isnull().sum()\n"
   ]
  },
  {
   "cell_type": "markdown",
   "metadata": {},
   "source": [
    "## **Outlier Detection** \n",
    "\n",
    "\n",
    "An Outlier is a data-item/object that deviates significantly from the rest of the (so-called normal)objects. They can be caused by measurement or execution errors. The analysis for outlier detection is referred to as outlier mining. There are many ways to detect the outliers, and the removal process is the data frame same as removing a data item from the panda’s data frame.\n",
    "\n",
    "\n",
    "\n",
    "https://www.geeksforgeeks.org/detect-and-remove-the-outliers-using-python/\n",
    "\n",
    "\n",
    "\n"
   ]
  },
  {
   "cell_type": "code",
   "execution_count": null,
   "metadata": {},
   "outputs": [],
   "source": []
  },
  {
   "cell_type": "markdown",
   "metadata": {},
   "source": [
    "### Outliers Visualization"
   ]
  },
  {
   "cell_type": "markdown",
   "metadata": {},
   "source": [
    "#### Visualizing Outliers Using Box Plot\n",
    "It captures the summary of the data effectively and efficiently with only a simple box and whiskers. Boxplot summarizes sample data using 25th, 50th, and 75th percentiles. One can just get insights(quartiles, median, and outliers) into the dataset by just looking at its boxplot."
   ]
  },
  {
   "cell_type": "code",
   "execution_count": null,
   "metadata": {},
   "outputs": [],
   "source": []
  },
  {
   "cell_type": "markdown",
   "metadata": {},
   "source": [
    "#### Visualizing Outliers Using ScatterPlot.\n",
    "\n",
    "It is used when you have paired numerical data and when your dependent variable has multiple values for each reading independent variable, or when trying to determine the relationship between the two variables. In the process of utilizing the scatter plot, one can also use it for outlier detection."
   ]
  },
  {
   "cell_type": "code",
   "execution_count": null,
   "metadata": {},
   "outputs": [],
   "source": []
  },
  {
   "cell_type": "markdown",
   "metadata": {},
   "source": [
    "#### Z-Score:\n",
    "Z- Score is also called a standard score. This value/score helps to understand that how far is the data point from the mean. And after setting up a threshold value one can utilize z score values of data points to define the outliers.\n",
    "<br>\n",
    "Zscore = (data_point -mean) / std. deviation\n",
    "\n"
   ]
  },
  {
   "cell_type": "code",
   "execution_count": null,
   "metadata": {},
   "outputs": [],
   "source": []
  },
  {
   "cell_type": "markdown",
   "metadata": {},
   "source": [
    "Now to define an outlier threshold value is chosen which is generally 3.0. As 99.7% of the data points lie between +/- 3 standard deviation (using Gaussian Distribution approach).\n",
    "\n",
    "Rows where Z value is greater than 2"
   ]
  },
  {
   "cell_type": "code",
   "execution_count": null,
   "metadata": {},
   "outputs": [],
   "source": []
  },
  {
   "cell_type": "markdown",
   "metadata": {},
   "source": [
    "#### IQR (Inter-Quartile Range)\n",
    "Inter Quartile Range approach to finding the outliers is the most commonly used and most trusted approach used in the research field. <Br>\n",
    "IQR = Quartile3 - Quartile1"
   ]
  },
  {
   "cell_type": "code",
   "execution_count": null,
   "metadata": {},
   "outputs": [],
   "source": []
  },
  {
   "cell_type": "markdown",
   "metadata": {},
   "source": [
    "To define the outlier base value is defined above and below dataset’s normal range namely Upper and Lower bounds, define the upper and the lower bound (1.5*IQR value is considered) :<br>\n",
    "upper = Q3 + 1.5 * IQR <br>\n",
    "lower = Q1 - 1.5 * IQR <br> "
   ]
  },
  {
   "cell_type": "code",
   "execution_count": null,
   "metadata": {},
   "outputs": [],
   "source": []
  },
  {
   "cell_type": "markdown",
   "metadata": {},
   "source": [
    "- Removing the outliers:\n",
    "For removing the outlier, one must follow the same process of removing an entry from the dataset using its exact position in the dataset because in all the above methods of detecting the outliers end result is the list of all those data items that satisfy the outlier definition according to the method used."
   ]
  },
  {
   "cell_type": "code",
   "execution_count": null,
   "metadata": {},
   "outputs": [],
   "source": []
  }
 ],
 "metadata": {
  "kernelspec": {
   "display_name": ".venv",
   "language": "python",
   "name": "python3"
  },
  "language_info": {
   "codemirror_mode": {
    "name": "ipython",
    "version": 3
   },
   "file_extension": ".py",
   "mimetype": "text/x-python",
   "name": "python",
   "nbconvert_exporter": "python",
   "pygments_lexer": "ipython3",
   "version": "3.12.5"
  },
  "orig_nbformat": 4
 },
 "nbformat": 4,
 "nbformat_minor": 2
}
